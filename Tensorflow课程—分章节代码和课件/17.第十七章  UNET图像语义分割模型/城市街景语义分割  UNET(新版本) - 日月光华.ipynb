{
 "cells": [
  {
   "cell_type": "code",
   "execution_count": 1,
   "metadata": {},
   "outputs": [],
   "source": [
    "import tensorflow as tf\n",
    "from tensorflow import keras\n",
    "import numpy as np\n",
    "import os\n",
    "%matplotlib inline\n",
    "import matplotlib.pyplot as plt\n",
    "import glob"
   ]
  },
  {
   "cell_type": "code",
   "execution_count": 2,
   "metadata": {},
   "outputs": [
    {
     "data": {
      "text/plain": [
       "'2.3.0'"
      ]
     },
     "execution_count": 2,
     "metadata": {},
     "output_type": "execute_result"
    }
   ],
   "source": [
    "tf.__version__"
   ]
  },
  {
   "cell_type": "code",
   "execution_count": 3,
   "metadata": {},
   "outputs": [],
   "source": [
    "gpus = tf.config.list_physical_devices(device_type='GPU')\n",
    "for gpu in gpus:\n",
    "    tf.config.experimental.set_memory_growth(device=gpu, enable=True)"
   ]
  },
  {
   "cell_type": "code",
   "execution_count": 4,
   "metadata": {},
   "outputs": [],
   "source": [
    "img = glob.glob('./dataset/leftImg8bit/train/*/*.png')  # tf.io.glob.glob"
   ]
  },
  {
   "cell_type": "code",
   "execution_count": 5,
   "metadata": {},
   "outputs": [
    {
     "data": {
      "text/plain": [
       "2975"
      ]
     },
     "execution_count": 5,
     "metadata": {},
     "output_type": "execute_result"
    }
   ],
   "source": [
    "len(img)"
   ]
  },
  {
   "cell_type": "code",
   "execution_count": 6,
   "metadata": {},
   "outputs": [
    {
     "data": {
      "text/plain": [
       "['./dataset/leftImg8bit/train\\\\aachen\\\\aachen_000000_000019_leftImg8bit.png',\n",
       " './dataset/leftImg8bit/train\\\\aachen\\\\aachen_000001_000019_leftImg8bit.png',\n",
       " './dataset/leftImg8bit/train\\\\aachen\\\\aachen_000002_000019_leftImg8bit.png',\n",
       " './dataset/leftImg8bit/train\\\\aachen\\\\aachen_000003_000019_leftImg8bit.png',\n",
       " './dataset/leftImg8bit/train\\\\aachen\\\\aachen_000004_000019_leftImg8bit.png']"
      ]
     },
     "execution_count": 6,
     "metadata": {},
     "output_type": "execute_result"
    }
   ],
   "source": [
    "img[:5]"
   ]
  },
  {
   "cell_type": "code",
   "execution_count": 7,
   "metadata": {},
   "outputs": [],
   "source": [
    "label = glob.glob('./dataset/gtFine/train/*/*_gtFine_labelIds.png')"
   ]
  },
  {
   "cell_type": "code",
   "execution_count": 8,
   "metadata": {},
   "outputs": [
    {
     "data": {
      "text/plain": [
       "2975"
      ]
     },
     "execution_count": 8,
     "metadata": {},
     "output_type": "execute_result"
    }
   ],
   "source": [
    "train_count = len(label)\n",
    "train_count"
   ]
  },
  {
   "cell_type": "code",
   "execution_count": 9,
   "metadata": {},
   "outputs": [
    {
     "data": {
      "text/plain": [
       "['./dataset/gtFine/train\\\\aachen\\\\aachen_000000_000019_gtFine_labelIds.png',\n",
       " './dataset/gtFine/train\\\\aachen\\\\aachen_000001_000019_gtFine_labelIds.png',\n",
       " './dataset/gtFine/train\\\\aachen\\\\aachen_000002_000019_gtFine_labelIds.png']"
      ]
     },
     "execution_count": 9,
     "metadata": {},
     "output_type": "execute_result"
    }
   ],
   "source": [
    "label[:3]"
   ]
  },
  {
   "cell_type": "code",
   "execution_count": 10,
   "metadata": {},
   "outputs": [],
   "source": [
    "index = np.random.permutation(len(img))"
   ]
  },
  {
   "cell_type": "code",
   "execution_count": 11,
   "metadata": {},
   "outputs": [],
   "source": [
    "img = np.array(img)[index]\n",
    "label = np.array(label)[index]"
   ]
  },
  {
   "cell_type": "code",
   "execution_count": 12,
   "metadata": {},
   "outputs": [
    {
     "data": {
      "text/plain": [
       "array(['./dataset/leftImg8bit/train\\\\tubingen\\\\tubingen_000137_000019_leftImg8bit.png',\n",
       "       './dataset/leftImg8bit/train\\\\strasbourg\\\\strasbourg_000001_020956_leftImg8bit.png',\n",
       "       './dataset/leftImg8bit/train\\\\tubingen\\\\tubingen_000050_000019_leftImg8bit.png',\n",
       "       './dataset/leftImg8bit/train\\\\dusseldorf\\\\dusseldorf_000175_000019_leftImg8bit.png',\n",
       "       './dataset/leftImg8bit/train\\\\strasbourg\\\\strasbourg_000000_035571_leftImg8bit.png'],\n",
       "      dtype='<U89')"
      ]
     },
     "execution_count": 12,
     "metadata": {},
     "output_type": "execute_result"
    }
   ],
   "source": [
    "img[:5]"
   ]
  },
  {
   "cell_type": "code",
   "execution_count": 13,
   "metadata": {},
   "outputs": [
    {
     "data": {
      "text/plain": [
       "array(['./dataset/gtFine/train\\\\tubingen\\\\tubingen_000137_000019_gtFine_labelIds.png',\n",
       "       './dataset/gtFine/train\\\\strasbourg\\\\strasbourg_000001_020956_gtFine_labelIds.png',\n",
       "       './dataset/gtFine/train\\\\tubingen\\\\tubingen_000050_000019_gtFine_labelIds.png',\n",
       "       './dataset/gtFine/train\\\\dusseldorf\\\\dusseldorf_000175_000019_gtFine_labelIds.png',\n",
       "       './dataset/gtFine/train\\\\strasbourg\\\\strasbourg_000000_035571_gtFine_labelIds.png'],\n",
       "      dtype='<U88')"
      ]
     },
     "execution_count": 13,
     "metadata": {},
     "output_type": "execute_result"
    }
   ],
   "source": [
    "label[:5]"
   ]
  },
  {
   "cell_type": "code",
   "execution_count": 14,
   "metadata": {},
   "outputs": [],
   "source": [
    "img_val = glob.glob('./dataset/leftImg8bit/val/*/*.png')\n",
    "label_val = glob.glob('./dataset/gtFine/val/*/*_gtFine_labelIds.png')"
   ]
  },
  {
   "cell_type": "code",
   "execution_count": 15,
   "metadata": {},
   "outputs": [
    {
     "data": {
      "text/plain": [
       "(500, 500)"
      ]
     },
     "execution_count": 15,
     "metadata": {},
     "output_type": "execute_result"
    }
   ],
   "source": [
    "val_count = len(img_val)\n",
    "len(img_val), len(label_val)"
   ]
  },
  {
   "cell_type": "code",
   "execution_count": 16,
   "metadata": {},
   "outputs": [
    {
     "data": {
      "text/plain": [
       "['./dataset/leftImg8bit/val\\\\frankfurt\\\\frankfurt_000000_004617_leftImg8bit.png',\n",
       " './dataset/leftImg8bit/val\\\\frankfurt\\\\frankfurt_000000_005543_leftImg8bit.png',\n",
       " './dataset/leftImg8bit/val\\\\frankfurt\\\\frankfurt_000000_005898_leftImg8bit.png',\n",
       " './dataset/leftImg8bit/val\\\\frankfurt\\\\frankfurt_000000_006589_leftImg8bit.png',\n",
       " './dataset/leftImg8bit/val\\\\frankfurt\\\\frankfurt_000000_007365_leftImg8bit.png']"
      ]
     },
     "execution_count": 16,
     "metadata": {},
     "output_type": "execute_result"
    }
   ],
   "source": [
    "img_val[10:15]"
   ]
  },
  {
   "cell_type": "code",
   "execution_count": 17,
   "metadata": {},
   "outputs": [
    {
     "data": {
      "text/plain": [
       "['./dataset/gtFine/val\\\\frankfurt\\\\frankfurt_000000_004617_gtFine_labelIds.png',\n",
       " './dataset/gtFine/val\\\\frankfurt\\\\frankfurt_000000_005543_gtFine_labelIds.png',\n",
       " './dataset/gtFine/val\\\\frankfurt\\\\frankfurt_000000_005898_gtFine_labelIds.png',\n",
       " './dataset/gtFine/val\\\\frankfurt\\\\frankfurt_000000_006589_gtFine_labelIds.png',\n",
       " './dataset/gtFine/val\\\\frankfurt\\\\frankfurt_000000_007365_gtFine_labelIds.png']"
      ]
     },
     "execution_count": 17,
     "metadata": {},
     "output_type": "execute_result"
    }
   ],
   "source": [
    "label_val[10:15]"
   ]
  },
  {
   "cell_type": "code",
   "execution_count": 18,
   "metadata": {},
   "outputs": [],
   "source": [
    "dataset_train = tf.data.Dataset.from_tensor_slices((img, label))"
   ]
  },
  {
   "cell_type": "code",
   "execution_count": 19,
   "metadata": {},
   "outputs": [
    {
     "data": {
      "text/plain": [
       "<TensorSliceDataset shapes: ((), ()), types: (tf.string, tf.string)>"
      ]
     },
     "execution_count": 19,
     "metadata": {},
     "output_type": "execute_result"
    }
   ],
   "source": [
    "dataset_train"
   ]
  },
  {
   "cell_type": "code",
   "execution_count": 20,
   "metadata": {},
   "outputs": [],
   "source": [
    "dataset_val = tf.data.Dataset.from_tensor_slices((img_val, label_val))"
   ]
  },
  {
   "cell_type": "code",
   "execution_count": 21,
   "metadata": {},
   "outputs": [],
   "source": [
    "def read_png(path):\n",
    "    img = tf.io.read_file(path)\n",
    "    img = tf.image.decode_png(img, channels=3)\n",
    "    return img"
   ]
  },
  {
   "cell_type": "code",
   "execution_count": 22,
   "metadata": {},
   "outputs": [],
   "source": [
    "def read_png_label(path):\n",
    "    img = tf.io.read_file(path)\n",
    "    img = tf.image.decode_png(img, channels=1)\n",
    "    return img"
   ]
  },
  {
   "cell_type": "code",
   "execution_count": 23,
   "metadata": {},
   "outputs": [],
   "source": [
    "img_1 = read_png(img[0])\n",
    "label_1 = read_png_label(label[0])"
   ]
  },
  {
   "cell_type": "code",
   "execution_count": 24,
   "metadata": {},
   "outputs": [
    {
     "data": {
      "text/plain": [
       "TensorShape([1024, 2048, 3])"
      ]
     },
     "execution_count": 24,
     "metadata": {},
     "output_type": "execute_result"
    }
   ],
   "source": [
    "img_1.shape"
   ]
  },
  {
   "cell_type": "code",
   "execution_count": 25,
   "metadata": {},
   "outputs": [
    {
     "data": {
      "text/plain": [
       "TensorShape([1024, 2048, 1])"
      ]
     },
     "execution_count": 25,
     "metadata": {},
     "output_type": "execute_result"
    }
   ],
   "source": [
    "label_1.shape"
   ]
  },
  {
   "cell_type": "markdown",
   "metadata": {},
   "source": [
    "# 数据增强"
   ]
  },
  {
   "cell_type": "markdown",
   "metadata": {},
   "source": [
    "1.随机翻转   img = tf.image.flip_left_right()\n",
    "\n",
    "2.随即裁剪"
   ]
  },
  {
   "cell_type": "code",
   "execution_count": 26,
   "metadata": {},
   "outputs": [],
   "source": [
    "concat_img = tf.concat([img_1, label_1], axis=-1)"
   ]
  },
  {
   "cell_type": "code",
   "execution_count": 27,
   "metadata": {},
   "outputs": [
    {
     "data": {
      "text/plain": [
       "TensorShape([1024, 2048, 4])"
      ]
     },
     "execution_count": 27,
     "metadata": {},
     "output_type": "execute_result"
    }
   ],
   "source": [
    "concat_img.shape"
   ]
  },
  {
   "cell_type": "code",
   "execution_count": 28,
   "metadata": {},
   "outputs": [],
   "source": [
    "def crop_img(img, mask):\n",
    "    concat_img = tf.concat([img, mask], axis=-1)\n",
    "    concat_img = tf.image.resize(concat_img, (280, 280),\n",
    "                                 method=tf.image.ResizeMethod.NEAREST_NEIGHBOR)\n",
    "    crop_img = tf.image.random_crop(concat_img, [256, 256, 4])\n",
    "    return crop_img[ :, :, :3], crop_img[ :, :, 3:]"
   ]
  },
  {
   "cell_type": "code",
   "execution_count": 29,
   "metadata": {},
   "outputs": [],
   "source": [
    "img_1, label_1 = crop_img(img_1, label_1)"
   ]
  },
  {
   "cell_type": "code",
   "execution_count": 30,
   "metadata": {},
   "outputs": [
    {
     "data": {
      "text/plain": [
       "TensorShape([256, 256, 1])"
      ]
     },
     "execution_count": 30,
     "metadata": {},
     "output_type": "execute_result"
    }
   ],
   "source": [
    "label_1.shape"
   ]
  },
  {
   "cell_type": "code",
   "execution_count": 31,
   "metadata": {},
   "outputs": [
    {
     "data": {
      "text/plain": [
       "<matplotlib.image.AxesImage at 0x1f982aeeaf0>"
      ]
     },
     "execution_count": 31,
     "metadata": {},
     "output_type": "execute_result"
    },
    {
     "data": {
      "image/png": "[encoded data removed]",
      "text/plain": [
       "<Figure size 432x288 with 2 Axes>"
      ]
     },
     "metadata": {
      "needs_background": "light"
     },
     "output_type": "display_data"
    }
   ],
   "source": [
    "plt.subplot(1,2,1)\n",
    "plt.imshow(img_1.numpy())\n",
    "plt.subplot(1,2,2)\n",
    "plt.imshow(np.squeeze(label_1.numpy()))"
   ]
  },
  {
   "cell_type": "code",
   "execution_count": 32,
   "metadata": {},
   "outputs": [],
   "source": [
    "def normal(img, mask):\n",
    "    img = tf.cast(img, tf.float32)/127.5 -1\n",
    "    mask = tf.cast(mask, tf.int32)\n",
    "    return img, mask"
   ]
  },
  {
   "cell_type": "code",
   "execution_count": 33,
   "metadata": {},
   "outputs": [],
   "source": [
    "def load_image_train(img_path, mask_path):\n",
    "    img = read_png(img_path)\n",
    "    mask = read_png_label(mask_path)\n",
    "    \n",
    "    img, mask = crop_img(img, mask)\n",
    "    \n",
    "    if tf.random.uniform(())>0.5:\n",
    "        img = tf.image.flip_left_right(img)\n",
    "        mask = tf.image.flip_left_right(mask)\n",
    "        \n",
    "    img, mask = normal(img, mask)\n",
    "    \n",
    "    return img, mask"
   ]
  },
  {
   "cell_type": "code",
   "execution_count": 34,
   "metadata": {},
   "outputs": [],
   "source": [
    "def load_image_val(img_path, mask_path):\n",
    "    img = read_png(img_path)\n",
    "    mask = read_png_label(mask_path)\n",
    "    \n",
    "    img = tf.image.resize(img, (256, 256))\n",
    "    mask = tf.image.resize(mask, (256, 256))\n",
    "        \n",
    "    img, mask = normal(img, mask)\n",
    "    \n",
    "    return img, mask"
   ]
  },
  {
   "cell_type": "code",
   "execution_count": 35,
   "metadata": {},
   "outputs": [],
   "source": [
    "BCTCH_SIZE = 6\n",
    "BUFFER_SIZE = 300\n",
    "step_per_epoch = train_count//BCTCH_SIZE\n",
    "val_step = val_count//BCTCH_SIZE"
   ]
  },
  {
   "cell_type": "code",
   "execution_count": 36,
   "metadata": {},
   "outputs": [],
   "source": [
    "auto = tf.data.experimental.AUTOTUNE"
   ]
  },
  {
   "cell_type": "code",
   "execution_count": 37,
   "metadata": {},
   "outputs": [],
   "source": [
    "dataset_train = dataset_train.map(load_image_train, num_parallel_calls=auto)\n",
    "dataset_val = dataset_val.map(load_image_val, num_parallel_calls=auto)"
   ]
  },
  {
   "cell_type": "code",
   "execution_count": 38,
   "metadata": {},
   "outputs": [
    {
     "data": {
      "image/png": "[encoded data removed]",
      "text/plain": [
       "<Figure size 432x288 with 2 Axes>"
      ]
     },
     "metadata": {
      "needs_background": "light"
     },
     "output_type": "display_data"
    }
   ],
   "source": [
    "for i, m in dataset_train.take(1):\n",
    "    plt.subplot(1,2,1)\n",
    "    plt.imshow((i.numpy() + 1)/2)\n",
    "    plt.subplot(1,2,2)\n",
    "    plt.imshow(np.squeeze(m.numpy()))"
   ]
  },
  {
   "cell_type": "code",
   "execution_count": 39,
   "metadata": {},
   "outputs": [],
   "source": [
    "dataset_train = dataset_train.shuffle(BUFFER_SIZE).batch(BCTCH_SIZE)\n",
    "dataset_val = dataset_val.batch(BCTCH_SIZE)"
   ]
  },
  {
   "cell_type": "markdown",
   "metadata": {},
   "source": [
    "# 定义unet模型"
   ]
  },
  {
   "cell_type": "code",
   "execution_count": 40,
   "metadata": {},
   "outputs": [],
   "source": [
    "class Downsample(keras.layers.Layer):\n",
    "    def __init__(self, units):\n",
    "        super(Downsample, self).__init__()\n",
    "        self.conv1 = keras.layers.Conv2D(units, kernel_size=3, padding='same')\n",
    "        self.conv2 = keras.layers.Conv2D(units, kernel_size=3, padding='same')\n",
    "        self.pool = keras.layers.MaxPooling2D()\n",
    "    def call(self, x, is_pool=True):\n",
    "        if is_pool:\n",
    "            x = self.pool(x)\n",
    "        x = self.conv1(x)\n",
    "        x = tf.nn.relu(x)\n",
    "        x = self.conv2(x)\n",
    "        x = tf.nn.relu(x)\n",
    "        return x"
   ]
  },
  {
   "cell_type": "code",
   "execution_count": 41,
   "metadata": {},
   "outputs": [],
   "source": [
    "class Upsample(keras.layers.Layer):\n",
    "    def __init__(self, unit):\n",
    "        super(Upsample, self).__init__()\n",
    "        self.conv1 = keras.layers.Conv2D(unit, kernel_size=3, padding='same')\n",
    "        self.conv2 = keras.layers.Conv2D(unit, kernel_size=3, padding='same')\n",
    "        self.deconv = keras.layers.Conv2DTranspose(unit//2,\n",
    "                                                   kernel_size=3,\n",
    "                                                   strides=2,\n",
    "                                                   padding='same')\n",
    "        \n",
    "    def call(self, x, is_pool=True):\n",
    "        x = self.conv1(x)\n",
    "        x = tf.nn.relu(x)\n",
    "        x = self.conv2(x)\n",
    "        x = tf.nn.relu(x)\n",
    "        x = self.deconv(x)\n",
    "        x = tf.nn.relu(x)\n",
    "        return x"
   ]
  },
  {
   "cell_type": "code",
   "execution_count": 42,
   "metadata": {},
   "outputs": [],
   "source": [
    "class Net(keras.Model):\n",
    "    def __init__(self):\n",
    "        super(Net, self).__init__()\n",
    "        self.down1 = Downsample(64)\n",
    "        self.down2 = Downsample(128)\n",
    "        self.down3 = Downsample(256)\n",
    "        self.down4 = Downsample(512)\n",
    "        self.down5 = Downsample(1024)\n",
    "        \n",
    "        self.up1 = Upsample(512)\n",
    "        self.up2 = Upsample(256)\n",
    "        self.up3 = Upsample(128)\n",
    "        \n",
    "        self.conv_last = Downsample(64)\n",
    "        \n",
    "        self.up = keras.layers.Conv2DTranspose(512,\n",
    "                                               kernel_size=3,\n",
    "                                               strides = 2,\n",
    "                                               padding='same')\n",
    "        \n",
    "        self.last = keras.layers.Conv2D(34,\n",
    "                                        kernel_size=1,\n",
    "                                        padding='same')\n",
    "\n",
    "    def call(self, x):\n",
    "        x1 = self.down1(x, is_pool=False)         # 256*256*64\n",
    "        x2 = self.down2(x1)                       # 128*128*128\n",
    "        x3 = self.down3(x2)                       # 64*64*256\n",
    "        x4 = self.down4(x3)                       # 32*32*512\n",
    "        x5 = self.down5(x4)                       # 16*16*1024\n",
    "        \n",
    "        x5 = self.up(x5)                          # 32*32*512\n",
    "        \n",
    "        x5 = tf.concat([x4,x5], axis=-1)          # 32*32*1024\n",
    "        x5 = self.up1(x5)                         # 64*64*256\n",
    "        x5 = tf.concat([x3,x5], axis=-1)          # 64*64*512   \n",
    "        x5 = self.up2(x5)                         # 128*128*128\n",
    "        x5 = tf.concat([x2,x5], axis=-1)          # 128*128*256\n",
    "        x5 = self.up3(x5)                         # 256*256*64\n",
    "        x5 = tf.concat([x1,x5], axis=-1)          # 256*256*128\n",
    "        \n",
    "        x5 = self.conv_last(x5, is_pool=False)    # 256*256*64\n",
    "        \n",
    "        x5 = self.last(x5)                        # 256*256*3\n",
    "        return x5"
   ]
  },
  {
   "cell_type": "code",
   "execution_count": 43,
   "metadata": {},
   "outputs": [],
   "source": [
    "model = Net()"
   ]
  },
  {
   "cell_type": "code",
   "execution_count": 44,
   "metadata": {},
   "outputs": [],
   "source": [
    "#tf.keras.utils.plot_model(model)                     # conda install pydot"
   ]
  },
  {
   "cell_type": "code",
   "execution_count": 45,
   "metadata": {},
   "outputs": [],
   "source": [
    "class MeanIoU(tf.keras.metrics.MeanIoU):\n",
    "    def __call__(self, y_true, y_pred, sample_weight=None):\n",
    "        y_pred = tf.argmax(y_pred, axis=-1)\n",
    "        return super().__call__(y_true, y_pred, sample_weight=sample_weight)"
   ]
  },
  {
   "cell_type": "code",
   "execution_count": 46,
   "metadata": {},
   "outputs": [],
   "source": [
    "optimizer = tf.keras.optimizers.Adam(learning_rate=0.0001)"
   ]
  },
  {
   "cell_type": "code",
   "execution_count": 47,
   "metadata": {},
   "outputs": [],
   "source": [
    "loss_object = tf.keras.losses.SparseCategoricalCrossentropy(from_logits=True)"
   ]
  },
  {
   "cell_type": "code",
   "execution_count": 48,
   "metadata": {},
   "outputs": [],
   "source": [
    "train_loss = tf.keras.metrics.Mean(name='train_loss')\n",
    "train_accuracy = tf.keras.metrics.SparseCategoricalAccuracy(name='train_accuracy')\n",
    "train_iou = MeanIoU(34, name='train_iou')\n",
    "\n",
    "test_loss = tf.keras.metrics.Mean(name='test_loss')\n",
    "test_accuracy = tf.keras.metrics.SparseCategoricalAccuracy(name='test_accuracy')\n",
    "test_iou = MeanIoU(34, name='test_iou')"
   ]
  },
  {
   "cell_type": "code",
   "execution_count": 49,
   "metadata": {},
   "outputs": [],
   "source": [
    "@tf.function\n",
    "def train_step(images, labels):\n",
    "    with tf.GradientTape() as tape:\n",
    "        predictions = model(images)\n",
    "        loss = loss_object(labels, predictions)\n",
    "    gradients = tape.gradient(loss, model.trainable_variables)\n",
    "    optimizer.apply_gradients(zip(gradients, model.trainable_variables))\n",
    "\n",
    "    train_loss(loss)\n",
    "    train_accuracy(labels, predictions)\n",
    "    train_iou(labels, predictions)"
   ]
  },
  {
   "cell_type": "code",
   "execution_count": 50,
   "metadata": {},
   "outputs": [],
   "source": [
    "@tf.function\n",
    "def test_step(images, labels):\n",
    "    predictions = model(images)\n",
    "    t_loss = loss_object(labels, predictions)\n",
    "\n",
    "    test_loss(t_loss)\n",
    "    test_accuracy(labels, predictions)\n",
    "    test_iou(labels, predictions)"
   ]
  },
  {
   "cell_type": "code",
   "execution_count": 51,
   "metadata": {},
   "outputs": [
    {
     "name": "stdout",
     "output_type": "stream",
     "text": [
      "Epoch 1.000, Loss: 1.659, Accuracy: 51.076,                 IOU: 0.058, Test Loss: 1.319,                 Test Accuracy: 59.580, Test IOU: 0.078\n",
      "Epoch 2.000, Loss: 1.119, Accuracy: 65.038,                 IOU: 0.094, Test Loss: 1.260,                 Test Accuracy: 62.844, Test IOU: 0.082\n",
      "Epoch 3.000, Loss: 0.934, Accuracy: 73.421,                 IOU: 0.124, Test Loss: 1.118,                 Test Accuracy: 70.207, Test IOU: 0.114\n",
      "Epoch 4.000, Loss: 0.825, Accuracy: 77.399,                 IOU: 0.143, Test Loss: 0.992,                 Test Accuracy: 74.606, Test IOU: 0.137\n",
      "Epoch 5.000, Loss: 0.764, Accuracy: 79.206,                 IOU: 0.155, Test Loss: 0.888,                 Test Accuracy: 76.744, Test IOU: 0.149\n",
      "Epoch 6.000, Loss: 0.724, Accuracy: 80.347,                 IOU: 0.165, Test Loss: 0.876,                 Test Accuracy: 77.285, Test IOU: 0.151\n",
      "Epoch 7.000, Loss: 0.679, Accuracy: 81.594,                 IOU: 0.176, Test Loss: 0.823,                 Test Accuracy: 79.067, Test IOU: 0.168\n",
      "Epoch 8.000, Loss: 0.640, Accuracy: 82.615,                 IOU: 0.186, Test Loss: 0.819,                 Test Accuracy: 78.988, Test IOU: 0.171\n",
      "Epoch 9.000, Loss: 0.623, Accuracy: 82.922,                 IOU: 0.191, Test Loss: 0.812,                 Test Accuracy: 79.442, Test IOU: 0.172\n",
      "Epoch 10.000, Loss: 0.592, Accuracy: 83.622,                 IOU: 0.201, Test Loss: 0.756,                 Test Accuracy: 80.658, Test IOU: 0.190\n",
      "Epoch 11.000, Loss: 0.578, Accuracy: 83.954,                 IOU: 0.205, Test Loss: 0.810,                 Test Accuracy: 80.687, Test IOU: 0.191\n",
      "Epoch 12.000, Loss: 0.552, Accuracy: 84.537,                 IOU: 0.213, Test Loss: 0.731,                 Test Accuracy: 81.271, Test IOU: 0.202\n",
      "Epoch 13.000, Loss: 0.540, Accuracy: 84.743,                 IOU: 0.222, Test Loss: 0.709,                 Test Accuracy: 81.428, Test IOU: 0.207\n",
      "Epoch 14.000, Loss: 0.520, Accuracy: 85.183,                 IOU: 0.233, Test Loss: 0.709,                 Test Accuracy: 81.808, Test IOU: 0.219\n",
      "Epoch 15.000, Loss: 0.513, Accuracy: 85.340,                 IOU: 0.241, Test Loss: 0.704,                 Test Accuracy: 82.054, Test IOU: 0.220\n",
      "Epoch 16.000, Loss: 0.494, Accuracy: 85.742,                 IOU: 0.254, Test Loss: 0.674,                 Test Accuracy: 82.017, Test IOU: 0.228\n",
      "Epoch 17.000, Loss: 0.476, Accuracy: 86.240,                 IOU: 0.265, Test Loss: 0.689,                 Test Accuracy: 82.151, Test IOU: 0.235\n",
      "Epoch 18.000, Loss: 0.466, Accuracy: 86.461,                 IOU: 0.276, Test Loss: 0.683,                 Test Accuracy: 82.903, Test IOU: 0.239\n",
      "Epoch 19.000, Loss: 0.454, Accuracy: 86.702,                 IOU: 0.286, Test Loss: 0.672,                 Test Accuracy: 82.926, Test IOU: 0.247\n",
      "Epoch 20.000, Loss: 0.444, Accuracy: 86.975,                 IOU: 0.294, Test Loss: 0.682,                 Test Accuracy: 82.845, Test IOU: 0.250\n",
      "Epoch 21.000, Loss: 0.426, Accuracy: 87.456,                 IOU: 0.309, Test Loss: 0.678,                 Test Accuracy: 82.669, Test IOU: 0.249\n",
      "Epoch 22.000, Loss: 0.425, Accuracy: 87.448,                 IOU: 0.311, Test Loss: 0.654,                 Test Accuracy: 82.980, Test IOU: 0.257\n",
      "Epoch 23.000, Loss: 0.409, Accuracy: 87.889,                 IOU: 0.328, Test Loss: 0.679,                 Test Accuracy: 82.585, Test IOU: 0.251\n",
      "Epoch 24.000, Loss: 0.397, Accuracy: 88.219,                 IOU: 0.333, Test Loss: 0.695,                 Test Accuracy: 83.491, Test IOU: 0.264\n",
      "Epoch 25.000, Loss: 0.387, Accuracy: 88.449,                 IOU: 0.348, Test Loss: 0.686,                 Test Accuracy: 83.336, Test IOU: 0.268\n",
      "Epoch 26.000, Loss: 0.387, Accuracy: 88.456,                 IOU: 0.350, Test Loss: 0.648,                 Test Accuracy: 83.395, Test IOU: 0.271\n",
      "Epoch 27.000, Loss: 0.374, Accuracy: 88.822,                 IOU: 0.357, Test Loss: 0.723,                 Test Accuracy: 83.142, Test IOU: 0.270\n",
      "Epoch 28.000, Loss: 0.361, Accuracy: 89.143,                 IOU: 0.370, Test Loss: 0.671,                 Test Accuracy: 83.499, Test IOU: 0.274\n",
      "Epoch 29.000, Loss: 0.361, Accuracy: 89.158,                 IOU: 0.374, Test Loss: 0.681,                 Test Accuracy: 83.674, Test IOU: 0.274\n",
      "Epoch 30.000, Loss: 0.349, Accuracy: 89.487,                 IOU: 0.388, Test Loss: 0.689,                 Test Accuracy: 84.242, Test IOU: 0.287\n",
      "Epoch 31.000, Loss: 0.337, Accuracy: 89.791,                 IOU: 0.402, Test Loss: 0.691,                 Test Accuracy: 83.354, Test IOU: 0.275\n",
      "Epoch 32.000, Loss: 0.339, Accuracy: 89.767,                 IOU: 0.403, Test Loss: 0.665,                 Test Accuracy: 83.559, Test IOU: 0.289\n",
      "Epoch 33.000, Loss: 0.325, Accuracy: 90.158,                 IOU: 0.418, Test Loss: 0.653,                 Test Accuracy: 84.072, Test IOU: 0.293\n",
      "Epoch 34.000, Loss: 0.330, Accuracy: 90.060,                 IOU: 0.420, Test Loss: 0.681,                 Test Accuracy: 84.157, Test IOU: 0.291\n",
      "Epoch 35.000, Loss: 0.311, Accuracy: 90.554,                 IOU: 0.442, Test Loss: 0.667,                 Test Accuracy: 84.080, Test IOU: 0.296\n",
      "Epoch 36.000, Loss: 0.303, Accuracy: 90.775,                 IOU: 0.455, Test Loss: 0.661,                 Test Accuracy: 84.245, Test IOU: 0.292\n",
      "Epoch 37.000, Loss: 0.299, Accuracy: 90.879,                 IOU: 0.460, Test Loss: 0.729,                 Test Accuracy: 83.983, Test IOU: 0.294\n",
      "Epoch 38.000, Loss: 0.289, Accuracy: 91.144,                 IOU: 0.461, Test Loss: 0.695,                 Test Accuracy: 84.445, Test IOU: 0.301\n",
      "Epoch 39.000, Loss: 0.290, Accuracy: 91.125,                 IOU: 0.469, Test Loss: 0.744,                 Test Accuracy: 84.281, Test IOU: 0.299\n",
      "Epoch 40.000, Loss: 0.288, Accuracy: 91.181,                 IOU: 0.476, Test Loss: 0.722,                 Test Accuracy: 84.280, Test IOU: 0.299\n",
      "Epoch 41.000, Loss: 0.281, Accuracy: 91.382,                 IOU: 0.477, Test Loss: 0.708,                 Test Accuracy: 83.618, Test IOU: 0.283\n",
      "Epoch 42.000, Loss: 0.290, Accuracy: 91.118,                 IOU: 0.477, Test Loss: 0.720,                 Test Accuracy: 83.892, Test IOU: 0.296\n",
      "Epoch 43.000, Loss: 0.268, Accuracy: 91.739,                 IOU: 0.503, Test Loss: 0.750,                 Test Accuracy: 84.534, Test IOU: 0.299\n",
      "Epoch 44.000, Loss: 0.258, Accuracy: 92.003,                 IOU: 0.514, Test Loss: 0.729,                 Test Accuracy: 84.423, Test IOU: 0.304\n",
      "Epoch 45.000, Loss: 0.257, Accuracy: 92.038,                 IOU: 0.518, Test Loss: 0.712,                 Test Accuracy: 84.284, Test IOU: 0.305\n",
      "Epoch 46.000, Loss: 0.249, Accuracy: 92.283,                 IOU: 0.528, Test Loss: 0.734,                 Test Accuracy: 84.383, Test IOU: 0.305\n",
      "Epoch 47.000, Loss: 0.261, Accuracy: 91.959,                 IOU: 0.508, Test Loss: 0.691,                 Test Accuracy: 84.563, Test IOU: 0.310\n",
      "Epoch 48.000, Loss: 0.242, Accuracy: 92.464,                 IOU: 0.538, Test Loss: 0.718,                 Test Accuracy: 84.659, Test IOU: 0.304\n",
      "Epoch 49.000, Loss: 0.243, Accuracy: 92.442,                 IOU: 0.539, Test Loss: 0.716,                 Test Accuracy: 84.587, Test IOU: 0.307\n",
      "Epoch 50.000, Loss: 0.235, Accuracy: 92.675,                 IOU: 0.549, Test Loss: 0.732,                 Test Accuracy: 84.368, Test IOU: 0.309\n",
      "Epoch 51.000, Loss: 0.228, Accuracy: 92.873,                 IOU: 0.566, Test Loss: 0.718,                 Test Accuracy: 84.153, Test IOU: 0.308\n",
      "Epoch 52.000, Loss: 0.225, Accuracy: 92.962,                 IOU: 0.573, Test Loss: 0.763,                 Test Accuracy: 84.818, Test IOU: 0.313\n",
      "Epoch 53.000, Loss: 0.229, Accuracy: 92.834,                 IOU: 0.572, Test Loss: 0.722,                 Test Accuracy: 84.334, Test IOU: 0.307\n",
      "Epoch 54.000, Loss: 0.232, Accuracy: 92.753,                 IOU: 0.572, Test Loss: 0.696,                 Test Accuracy: 84.673, Test IOU: 0.310\n",
      "Epoch 55.000, Loss: 0.221, Accuracy: 93.049,                 IOU: 0.583, Test Loss: 0.748,                 Test Accuracy: 84.823, Test IOU: 0.315\n",
      "Epoch 56.000, Loss: 0.220, Accuracy: 93.098,                 IOU: 0.583, Test Loss: 0.721,                 Test Accuracy: 84.740, Test IOU: 0.315\n",
      "Epoch 57.000, Loss: 0.210, Accuracy: 93.376,                 IOU: 0.600, Test Loss: 0.793,                 Test Accuracy: 84.722, Test IOU: 0.308\n"
     ]
    },
    {
     "name": "stdout",
     "output_type": "stream",
     "text": [
      "Epoch 58.000, Loss: 0.203, Accuracy: 93.583,                 IOU: 0.624, Test Loss: 0.757,                 Test Accuracy: 85.022, Test IOU: 0.314\n",
      "Epoch 59.000, Loss: 0.200, Accuracy: 93.680,                 IOU: 0.624, Test Loss: 0.817,                 Test Accuracy: 84.902, Test IOU: 0.317\n",
      "Epoch 60.000, Loss: 0.204, Accuracy: 93.568,                 IOU: 0.614, Test Loss: 0.812,                 Test Accuracy: 85.029, Test IOU: 0.317\n"
     ]
    }
   ],
   "source": [
    "\n",
    "\n",
    "EPOCHS = 60\n",
    "\n",
    "for epoch in range(EPOCHS):\n",
    "    # 在下一个epoch开始时，重置评估指标\n",
    "    train_loss.reset_states()\n",
    "    train_accuracy.reset_states()\n",
    "    train_iou.reset_states()\n",
    "    test_loss.reset_states()\n",
    "    test_accuracy.reset_states()\n",
    "    test_iou.reset_states()\n",
    "\n",
    "    for images, labels in dataset_train:\n",
    "        train_step(images, labels)\n",
    "\n",
    "    for test_images, test_labels in dataset_val:\n",
    "        test_step(test_images, test_labels)\n",
    "\n",
    "    template = 'Epoch {:.3f}, Loss: {:.3f}, Accuracy: {:.3f}, \\\n",
    "                IOU: {:.3f}, Test Loss: {:.3f}, \\\n",
    "                Test Accuracy: {:.3f}, Test IOU: {:.3f}'\n",
    "    print (template.format(epoch+1,\n",
    "                           train_loss.result(),\n",
    "                           train_accuracy.result()*100,\n",
    "                           train_iou.result(),\n",
    "                           test_loss.result(),\n",
    "                           test_accuracy.result()*100,\n",
    "                           test_iou.result() \n",
    "                           ))"
   ]
  },
  {
   "cell_type": "code",
   "execution_count": null,
   "metadata": {},
   "outputs": [],
   "source": []
  }
 ],
 "metadata": {
  "kernelspec": {
   "display_name": "Python 3",
   "language": "python",
   "name": "python3"
  },
  "language_info": {
   "codemirror_mode": {
    "name": "ipython",
    "version": 3
   },
   "file_extension": ".py",
   "mimetype": "text/x-python",
   "name": "python",
   "nbconvert_exporter": "python",
   "pygments_lexer": "ipython3",
   "version": "3.7.7"
  }
 },
 "nbformat": 4,
 "nbformat_minor": 4
}
