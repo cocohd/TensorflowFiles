{
 "cells": [
  {
   "cell_type": "code",
   "execution_count": 1,
   "metadata": {},
   "outputs": [],
   "source": [
    "import tensorflow as tf"
   ]
  },
  {
   "cell_type": "code",
   "execution_count": 2,
   "metadata": {},
   "outputs": [
    {
     "name": "stdout",
     "output_type": "stream",
     "text": [
      "Tensorflow version: 2.3.0\n"
     ]
    }
   ],
   "source": [
    "print('Tensorflow version: {}'.format(tf.__version__))"
   ]
  },
  {
   "cell_type": "code",
   "execution_count": 3,
   "metadata": {},
   "outputs": [],
   "source": [
    "from tensorflow import keras\n",
    "import matplotlib.pyplot as plt\n",
    "%matplotlib inline\n",
    "import numpy as np\n",
    "import glob"
   ]
  },
  {
   "cell_type": "code",
   "execution_count": 13,
   "metadata": {},
   "outputs": [],
   "source": [
    "all_image_path = glob.glob('../2_class/*/*.jpg')"
   ]
  },
  {
   "cell_type": "code",
   "execution_count": 14,
   "metadata": {},
   "outputs": [
    {
     "data": {
      "text/plain": [
       "['../2_class\\\\airplane\\\\airplane_001.jpg',\n",
       " '../2_class\\\\airplane\\\\airplane_002.jpg',\n",
       " '../2_class\\\\airplane\\\\airplane_003.jpg']"
      ]
     },
     "execution_count": 14,
     "metadata": {},
     "output_type": "execute_result"
    }
   ],
   "source": [
    "all_image_path[:3]"
   ]
  },
  {
   "cell_type": "code",
   "execution_count": 15,
   "metadata": {},
   "outputs": [
    {
     "data": {
      "text/plain": [
       "['../2_class\\\\lake\\\\lake_698.jpg',\n",
       " '../2_class\\\\lake\\\\lake_699.jpg',\n",
       " '../2_class\\\\lake\\\\lake_700.jpg']"
      ]
     },
     "execution_count": 15,
     "metadata": {},
     "output_type": "execute_result"
    }
   ],
   "source": [
    "all_image_path[-3:]"
   ]
  },
  {
   "cell_type": "code",
   "execution_count": 16,
   "metadata": {},
   "outputs": [],
   "source": [
    "import random\n",
    "random.shuffle(all_image_path)"
   ]
  },
  {
   "cell_type": "code",
   "execution_count": 17,
   "metadata": {},
   "outputs": [
    {
     "data": {
      "text/plain": [
       "['../2_class\\\\airplane\\\\airplane_574.jpg',\n",
       " '../2_class\\\\airplane\\\\airplane_176.jpg',\n",
       " '../2_class\\\\airplane\\\\airplane_447.jpg']"
      ]
     },
     "execution_count": 17,
     "metadata": {},
     "output_type": "execute_result"
    }
   ],
   "source": [
    "all_image_path[:3]"
   ]
  },
  {
   "cell_type": "code",
   "execution_count": 18,
   "metadata": {},
   "outputs": [],
   "source": [
    "label_to_index = {'airplane': 0,  'lake': 1}"
   ]
  },
  {
   "cell_type": "code",
   "execution_count": 19,
   "metadata": {},
   "outputs": [],
   "source": [
    "index_to_label = dict((v, k) for k, v in label_to_index.items())"
   ]
  },
  {
   "cell_type": "code",
   "execution_count": 20,
   "metadata": {},
   "outputs": [
    {
     "data": {
      "text/plain": [
       "{0: 'airplane', 1: 'lake'}"
      ]
     },
     "execution_count": 20,
     "metadata": {},
     "output_type": "execute_result"
    }
   ],
   "source": [
    "index_to_label"
   ]
  },
  {
   "cell_type": "code",
   "execution_count": 21,
   "metadata": {},
   "outputs": [
    {
     "data": {
      "text/plain": [
       "'../2_class\\\\airplane\\\\airplane_643.jpg'"
      ]
     },
     "execution_count": 21,
     "metadata": {},
     "output_type": "execute_result"
    }
   ],
   "source": [
    "a_path = all_image_path[100]\n",
    "a_path"
   ]
  },
  {
   "cell_type": "code",
   "execution_count": 22,
   "metadata": {},
   "outputs": [
    {
     "data": {
      "text/plain": [
       "'airplane'"
      ]
     },
     "execution_count": 22,
     "metadata": {},
     "output_type": "execute_result"
    }
   ],
   "source": [
    "a_path.split('\\\\')[-1].split('_')[0]"
   ]
  },
  {
   "cell_type": "code",
   "execution_count": 23,
   "metadata": {},
   "outputs": [],
   "source": [
    "all_labels = [label_to_index.get(p.split('\\\\')[-1].split('_')[0]) \n",
    "                                                  for p in all_image_path]"
   ]
  },
  {
   "cell_type": "code",
   "execution_count": 24,
   "metadata": {},
   "outputs": [
    {
     "data": {
      "text/plain": [
       "[0, 0, 0]"
      ]
     },
     "execution_count": 24,
     "metadata": {},
     "output_type": "execute_result"
    }
   ],
   "source": [
    "all_labels[:3]"
   ]
  },
  {
   "cell_type": "code",
   "execution_count": 25,
   "metadata": {},
   "outputs": [
    {
     "data": {
      "text/plain": [
       "[1, 0, 0]"
      ]
     },
     "execution_count": 25,
     "metadata": {},
     "output_type": "execute_result"
    }
   ],
   "source": [
    "all_labels[-3:]"
   ]
  },
  {
   "cell_type": "code",
   "execution_count": 26,
   "metadata": {},
   "outputs": [
    {
     "data": {
      "text/plain": [
       "['../2_class\\\\airplane\\\\airplane_574.jpg',\n",
       " '../2_class\\\\airplane\\\\airplane_176.jpg',\n",
       " '../2_class\\\\airplane\\\\airplane_447.jpg']"
      ]
     },
     "execution_count": 26,
     "metadata": {},
     "output_type": "execute_result"
    }
   ],
   "source": [
    "all_image_path[:3]"
   ]
  },
  {
   "cell_type": "markdown",
   "metadata": {},
   "source": [
    "加载和格式化图像"
   ]
  },
  {
   "cell_type": "code",
   "execution_count": 27,
   "metadata": {},
   "outputs": [
    {
     "data": {
      "text/plain": [
       "'../2_class\\\\airplane\\\\airplane_574.jpg'"
      ]
     },
     "execution_count": 27,
     "metadata": {},
     "output_type": "execute_result"
    }
   ],
   "source": [
    "img_path = all_image_path[0]\n",
    "img_path"
   ]
  },
  {
   "cell_type": "code",
   "execution_count": 28,
   "metadata": {},
   "outputs": [],
   "source": [
    "img_raw = tf.io.read_file(img_path)"
   ]
  },
  {
   "cell_type": "code",
   "execution_count": 29,
   "metadata": {},
   "outputs": [
    {
     "data": {
      "text/plain": [
       "<tf.Tensor: shape=(), dtype=string, numpy=b'\\xff\\xd8\\xff\\xe0\\x00\\x10JFIF\\x00\\x01\\x01\\x00\\x00\\x01\\x00\\x01\\x00\\x00\\xff\\xdb\\x00C\\x00\\x08\\x06\\x06\\x07\\x06\\x05\\x08\\x07\\x07\\x07\\t\\t\\x08\\n\\x0c\\x14\\r\\x0c\\x0b\\x0b\\x0c\\x19\\x12\\x13\\x0f\\x14\\x1d\\x1a\\x1f\\x1e\\x1d\\x1a\\x1c\\x1c $.\\' \",#\\x1c\\x1c(7),01444\\x1f\\'9=82<.342\\xff\\xdb\\x00C\\x01\\t\\t\\t\\x0c\\x0b\\x0c\\x18\\r\\r\\x182!\\x1c!22222222222222222222222222222222222222222222222222\\xff\\xc0\\x00\\x11\\x08\\x01\\x00\\x01\\x00\\x03\\x01\"\\x00\\x02\\x11\\x01\\x03\\x11\\x01\\xff\\xc4\\x00\\x1f\\x00\\x00\\x01\\x05\\x01\\x01\\x01\\x01\\x01\\x01\\x00\\x00\\x00\\x00\\x00\\x00\\x00\\x00\\x01\\x02\\x03\\x04\\x05\\x06\\x07\\x08\\t\\n\\x0b\\xff\\xc4\\x00\\xb5\\x10\\x00\\x02\\x01\\x03\\x03\\x02\\x04\\x03\\x05\\x05\\x04\\x04\\x00\\x00\\x01}\\x01\\x02\\x03\\x00\\x04\\x11\\x05\\x12!1A\\x06\\x13Qa\\x07\"q\\x142\\x81\\x91\\xa1\\x08#B\\xb1\\xc1\\x15R\\xd1\\xf0$3br\\x82\\t\\n\\x16\\x17\\x18\\x19\\x1a%&\\'()*456789:CDEFGHIJSTUVWXYZcdefghijstuvwxyz\\x83\\x84\\x85\\x86\\x87\\x88\\x89\\x8a\\x92\\x93\\x94\\x95\\x96\\x97\\x98\\x99\\x9a\\xa2\\xa3\\xa4\\xa5\\xa6\\xa7\\xa8\\xa9\\xaa\\xb2\\xb3\\xb4\\xb5\\xb6\\xb7\\xb8\\xb9\\xba\\xc2\\xc3\\xc4\\xc5\\xc6\\xc7\\xc8\\xc9\\xca\\xd2\\xd3\\xd4\\xd5\\xd6\\xd7\\xd8\\xd9\\xda\\xe1\\xe2\\xe3\\xe4\\xe5\\xe6\\xe7\\xe8\\xe9\\xea\\xf1\\xf2\\xf3\\xf4\\xf5\\xf6\\xf7\\xf8\\xf9\\xfa\\xff\\xc4\\x00\\x1f\\x01\\x00\\x03\\x01\\x01\\x01\\x01\\x01\\x01\\x01\\x01\\x01\\x00\\x00\\x00\\x00\\x00\\x00\\x01\\x02\\x03\\x04\\x05\\x06\\x07\\x08\\t\\n\\x0b\\xff\\xc4\\x00\\xb5\\x11\\x00\\x02\\x01\\x02\\x04\\x04\\x03\\x04\\x07\\x05\\x04\\x04\\x00\\x01\\x02w\\x00\\x01\\x02\\x03\\x11\\x04\\x05!1\\x06\\x12AQ\\x07aq\\x13\"2\\x81\\x08\\x14B\\x91\\xa1\\xb1\\xc1\\t#3R\\xf0\\x15br\\xd1\\n\\x16$4\\xe1%\\xf1\\x17\\x18\\x19\\x1a&\\'()*56789:CDEFGHIJSTUVWXYZcdefghijstuvwxyz\\x82\\x83\\x84\\x85\\x86\\x87\\x88\\x89\\x8a\\x92\\x93\\x94\\x95\\x96\\x97\\x98\\x99\\x9a\\xa2\\xa3\\xa4\\xa5\\xa6\\xa7\\xa8\\xa9\\xaa\\xb2\\xb3\\xb4\\xb5\\xb6\\xb7\\xb8\\xb9\\xba\\xc2\\xc3\\xc4\\xc5\\xc6\\xc7\\xc8\\xc9\\xca\\xd2\\xd3\\xd4\\xd5\\xd6\\xd7\\xd8\\xd9\\xda\\xe2\\xe3\\xe4\\xe5\\xe6\\xe7\\xe8\\xe9\\xea\\xf2\\xf3\\xf4\\xf5\\xf6\\xf7\\xf8\\xf9\\xfa\\xff\\xda\\x00\\x0c\\x03\\x01\\x00\\x02\\x11\\x03\\x11\\x00?\\x00\\xe3\\x00\\xeaiU\\x88`GQ\\xc8\\xf64\\xa0`b\\x8d\\xa3\\xd34[A\\x92K\\x1e\\xd8\\xe3q\\xc2\\x9c\\xe3\\xdb\\xdb\\xf0\\xa8\\xfb\\xd4\\xa8\\x0c\\x91\\x18I\\xc7\\xcd\\xb99\\xe3=\\xc7\\xe3\\xfc\\xc0\\xa9-l.\\xaf\\\\\\xac\\x10\\xb3\\x00yb0\\xa3\\xf1\\xa8\\x8e\\x83*\\xe3\\'<T\\xf6\\xf6\\xb3]8\\x8e\\x08\\x9aB}:~\\'\\xb5tV>\\x1b\\x82\\x1d\\xafy#L\\xff\\x00\\xdc\\x07j\\x8f\\xeakd$q(X\\x91QGEQ\\x8anB14\\xcd\\x16KYV\\xe2y\\x17x\\x18\\x08\\xa38\\xcf\\xbdm(\\xc0\\x00Q\\x8c\\x9av9\\xc5-\\xc6(\\x19\\x1c\\xd2\\xbb\\xac(_\\xd3\\xf5>\\x94\\x03\\xb7\\x9cq\\xefL\\x8c\\x9b\\x87\\x12\\xb0\\xf9\\x17\\xee\\x03\\xdc\\xfa\\xd2\\x10E\\x13F\\x9b\\x9b\\x87c\\x96>\\xf4\\xa5CL\\xa3\\x9c!\\xc9>\\xf4\\xe9\\xa6D@\\x07.x\\x02\\xa0\\x12\\xe1v&d~\\xe1}~\\xb4\\x86O\\xbb\\x9eNj\\'\\xb8\\xdcJ\\xa0,\\x7f\\xd9\\xe8?\\x1aE\\x8eI\\x0e$l\\'\\xf7G\\x03\\xf3\\xa9\\xc4B<c\\xa0\\xec\\x06)\\x88\\x80B\\xcc\\xc1\\xa4!\\xc8\\xe81\\xc0\\xa9\\xc0\\xe7\\x9a\\x0b\\x801\\x9f\\xa50\\xc8O\\xb5\\x08c\\xce\\x14s\\xdb\\xb5@\\x92\\x10\\xac=X\\x9e)Kzu\\xf5\\xa6$\\x9b\\xb7\\x91\\xd01\\xcf\\xd7\\xbd\\x0f{\\x00\\xa7\\xb9\\'\\xf3\\xaa\\xe5\\xbc\\xe6$\\x1c\\xc6\\xbc}M,\\xaef%P\\xe1;\\xb5\"\\x10\\xaaU\\x07\\xca8\\xaa\\x13\\x12A\\xc0n\\xc3\\xad\\x08\\x81\\x94;\\x1f\\xa04}\\xfe\\x7f\\x874\\xf2\\x9cpqHc@\\x01\\x87A\\xd7\\xbesR4`\\xa8$?=\\xfbT~X\\xc6\\t\\xcf\\xb6r)\\xa5\\x14rI\\xfc(W\\xea\\x03\\xda\\x1e9f\\x07\\xdct\\xac\\xadE\\xc9G\\xb7\\x8c\\xe0\\xaa\\xeeg*v\\xaf\\xb18\\xc6}\\xaa{\\x89\\xd2\\x01\\xf7\\xe5\\x19\\xfe\\xeb\\x1a\\x86\\x03$\\xc5\\x8a\\xbb\\xaa\\x83\\xf2\\xee \\xe7\\xfc(\\x10\\xb6bcm\\x1f\\x98y#\\x8c\\x9c\\x1a\\xba\\x88v\\xb2\\x100z\\x8c\\x8a\\xae\\xea\\xf9\\x05\\xc21\\x1c\\xf4\\xc5!\\xb8;pc\\xc8\\x1e\\x94\\xc6n\\xe9\\xb6vp\\xbb\\xea\\x13,-v\\xa0\\x84`\\xb9e\\x8f\\x00m\\xfa\\xf0zz\\xd4Is}\\xf6\\x88\\x99f\\x91cf?\\xbae\\xe9\\xd7\\x92pq\\xf8V4W\\xa9!;AR>\\x9c~\\x15\"\\xde\\xc88%\\x9c\\x81\\xce?\\x88\\xfd)=D\\x91\\xb7q=\\x95\\xf7\\x1a\\x86\\x95o)?)\\x91Skc\\xb7\\xbfs\\xde\\xa8K\\xe1\\xdd1\\xbc\\x93\\xa7\\xcf-\\xa4\\xa8\\xf9U\\x90y\\x883\\x9e}z\\x9e2}I\\x15FMBR\\xef\\xe5\\xdb\\xce\\xf1\\xc6B\\xb9\\xdaN\\xdc\\x9c\\x0c\\x9e\\x9d}\\xea\\xd0\\xd4\\x8a\\xc1u\\x1c\\xf1H\\x92D\\xa7~O\\xcc\\x08\\xf5\\xc7z5\\x19\\xc6g\\x15v\\xd7J\\xbd\\xbc`c\\x85\\x96>\\xbec\\xfc\\xa3\\xf0\\xcf_\\xc2\\xba{=\\x1e\\xd6\\xd1A\\xd9\\xe6?vq\\xdf\\xe9\\xda\\xb420\\x00\\x00v\\xc0\\xa6\\xe4\\x06U\\xa7\\x87\\xec\\xed\\xd44\\xc0\\\\?\\xfb_w\\xf2\\xefZ\\x19h\\x86\\x17-\\x18\\xe81\\xf7jA\\xc7Zv@\\xfe\\x95,\\x04\\xfb\\xca\\x19NA\\xa6\\x8eX\\x8a$\\x85_\\xe6\\x05\\x91\\x8f$\\xa7SL\\xdbp\\x8a@x\\x9f\\xd0\\xb0+\\xf8\\xf7\\xa1\\x012&y\\xa7\\x12\\x10d\\x90\\xa3\\xb95Nk\\xc6\\xb7@\\\\D\\t\\xe0\\r\\xfc\\xff\\x00*\\x84\\xbd\\xc5\\xdb/ C\\xddJ\\x91\\xf9\\xf3\\xfd)s\\x05\\x8b{\\x85\\xcf#\\xfdH\\xe7?\\xde\\xff\\x00\\xebSZ\\xe83\\x15\\x81w\\x91\\xddz\\n\\x04&A\\x99\\xa4f\\xf6\\xe8\\xbe\\xdcT\\xca\\x10\\x0c\\x0cq\\xed\\x8aB [f\\x91\\xb7J\\xe1\\x98\\xf5\\xc0\\xc0\\xab\\t\\x1a \\xe3\\x18\\x1d\\xb1\\xc5\\x0c\\xea\\xa0\\x0c\\xe4\\xf6\\xa8\\x9eF\\'\\x04\\xd5$2vu\\x03\\xb9>\\x95\\x13H\\xc7\\xbf\\x14\\xd1\\x9e\\xbdi\\x1b\\x1f\\x8d;\\x0821\\xc5\\x07\\xa7\\xb9\\xa4\\xa8\\x9aa\\x9d\\xa877\\xe8)\\xa0$,\\x10e\\x8e*\\xb9;\\xa4t\\xe4)b\\xdb\\x7f\\xc6\\x82\\x0e\\xed\\xc7\\xe6o~\\x94\\xae0\\xdb\\xceFF\\xea\\x97\\xdc\\x07\\xe1v\\x9f\\xa55T\\xbf\\x03\\x88\\xc7C\\xebH\\xaa\\xd26X\\x00\\x9f\\xdd\\x07\\x9f\\xc6\\xa5.\\xab\\xc0\\xfd)\\xdc\\x07lU\\\\zTLH\\x18\\xa4.K`q\\xde\\x98\\xff\\x00<\\xd1\\xcc\\x1d\\x97\\nC(\\x19\\r\\xf5\\xe7\\x8a\\x06F\\\\\\x93\\xc7\\x02\\x95\\x8eG\\x194\\x84\\x8d\\xc4\\xe3>\\xd4\\xd7u\\x1dG\\xe0)\\x81\\x13[\\xab6_\\x9fj\\x95\\n\\x05\\xf9y\\x03\\xa0\\xf4\\xa8%\\x95]6\\xedlw\\x19\\xa5\\xb5\\x8d\"\\x89Ue>^NK\\x8e\\xde\\xdf\\xe4\\xd0&J\\xdbX\\x8e\\xe6\\xa2c\\xb0yq\\xe3\\x1f\\xc4\\xd9\\xa0\\xb8\\x1f,l\\x18\\x9e\\x87\\xfc\\xff\\x00:\\x85\\xa3\\x9b?\\xea\\x98\\x8f\\xa1\\xc5\\x17C+\\tH\\xbc6\\xb1\\x862\\xb2\\x19\\x06H\\x01\\xc0\\x04\\x9cs\\xc9\\x00g\\x03\\x93\\xda\\xa6[\\x97\\x0b\\x90F\\xd2:\\x81\\x8a\\x8ae2)\\x8eH\\xb2\\xa4\\x83\\xd7\\xa1\\x1c\\x83\\xec}\\xc5F \\x9c.%}\\xcd\\xeb\\xb6\\x8b\\x811\\xbb%1\\xbc\\x93\\xc7 \\xe3\\xbe\\x7f\\x9d)\\xd4c\\x92\\xdexe\\x91<\\xd7\\x8fp\\xdcNq\\x9e\\xbe\\xfc\\x9aX\\xaco\\'\\x8f\\xf7\\x16\\x93\\xca\\x01\\x00\\xb2G\\x90\\xa4\\xf4\\x07\\xf4\\xa7H\\xb2i\\xf6\\xfbd1#7Us\\xf3\\xf6\\xce2=\\xc5 :\\x11\\x93\\xd6\\x9c9\\xe6\\x93\\x9c\\x0e(\\xe7\\xb9\"\\x90\\xae)\\'8\\xa2\\x98\\xd2$\\x7fx\\xe3\\xdb\\xb9\\xa6\\x13$\\x83\\xe4]\\x80\\xf4\\'\\xa9\\xfc(\\xb8\\xc9Ze\\x85r\\xe4*\\xf6&\\xa1\\xf3n&\\x07\\xcb_*2~\\xfb\\x8f\\x9b\\xf0\\x1d\\xbdrs\\xf4\\xa5\\x8e\\xda4}\\xc7,\\xe7\\xf8\\x9b\\x93Sp9\\xa5\\xea\"8\\xed\\xa3\\x8c\\x82T3\\x01\\x8d\\xed\\xc957\\xca9\\xebL-\\xe9Lf\\xcd>Q\\x92;\\x03\\xd3\\x93\\xfc\\xaa=\\xc7\\x18\\xa5\\x1c\\xf4\\x02\\x93\\xbe:\\x9av\\x10r\\xc4R\\xed\\x1d\\xf2M!;\\x06N\\x00\\x1di\\x9evG\\xee\\xd7 \\xff\\x00\\x11\\xe0P\\x80\\x9b\\x80:\\xe0\\n\\x85\\xa5]\\xc7`\\xde}s\\xc5E&\\xc3\\xcc\\x8eX\\x8ev\\x8e\\x9f\\x95;  \\xe0\\xfeT\\xc0i$\\x93\\xe6\\xbf\\x07\\xa2\\xa8\\xe3\\xfcM\\n\\xd9\\xe3n\\xd5\\x1d\\x07\\xff\\x00Z\\x9b\\xbf\\x9f\\x95K\\x1f\\xe5G-\\x82\\xcc\\t\\xf4^\\x94\\x01 pN\\x14n#\\xaf\\xa5\\x03i\\\\3\\x07n\\xc7\\xd3\\xda\\x98?\\x0czR\\x80O8\\xa4\\x08f\\x18\\x93\\x93\\x82;P\\\\\\xf4#\\x19\\xef\\xda\\xa4*\\t\\x04\\xf2\\xc3\\x8aC\\x85\\xeb\\xf9RC+\\xc7<\\x13NaI\\xe32\\xaer\\xa5\\xb9\\xe3\\xdb\\xadNc+\\xceW\\x18\\xcf\\xa7\\x1e\\xbc\\xf6\\xaa\\xa2\\xda\\x08\\xee<\\xe4\\x8c\\x879\\xe7q\\xff\\x00\"\\xa6;\\x87!\\xb1\\xfaS\\x01\\x8e\\x92\\x13\\xc2\\x1e{\\x8e\\x7f\\x95W\\xfe#\\xbb\\xf5\\xabD\\xb9m\\xc3\\x18\\xeb\\xc56I\\x1dG# \\x8f\\xad\\x17\\x02\\xb3c\\x1cTpK\\x14\\x97\\r\\x11<\\xa8\\xe4\\x1e\\x95,\\xae$\\x8f\\x03\\xe4>\\xaa\\x80\\x9c~\\x9f\\x9d$B\\x00\\xc6M\\x801\\x18\\xcfB?\\x0c\\x9a.\\x04\\xf1\\x04\\x8eu |\\xbd\\x0f\\xd2\\x9e\\xff\\x00\\xe8\\xe8\\xc4+7\\x96\\t\\xda\\xbe\\xdf\\xe4R/\\x94N\\x032\\xe4\\x13\\x83\\x83\\xff\\x00\\xd7\\xfcj\\xca\\xac/,-4\\x8d\\xb02\\xb3*\\xf0[\\x1f^\\xdd*^\\xe0\\x8a\\x91\\xd9j\\xfa\\xe5\\x92]\\xd8\\xfd\\x9e\\x0b6p\\x14\\xcd\\x95vQ\\xf7\\x9b\\xf9\\x80;\\xe3\\xb5G>\\x97\\xa8\\xe8\\xb3yP\\xe8\\xb7w6%\\xbeV\\x8e_2@p3\\xf2\\x93\\x9d\\xbf\\xe7\"\\xb7/\\xef\\xed\\xae\\xaea\\x826\\x05\\x11w\\x98\\xfb\\xfat\\xec\\x07\\xad6\\xdaI @\\xb1M*\\xa89\\x08d-\\xfc\\xf3\\xefG5\\x82\\xc6M\\xb6\\xaf\\xa6\\xb3\\xac\\x17\\x13\\xdeXL\\xfc\\xa10\\x1c\\x9cr\\x0e\\x0f\\x1bGs\\x9f\\xa1\\xa5\\x8ex\\x16\\xde\\xf6<\\xa1\\x91Dgv\\x06X3\\x13\\x91\\x8e\\x99\\xc6y\\xfck\\xa37\\xf3\\\\\\xc6b\\x9e(\\xe7\\x8fv\\xe2\\xad\\x1f\\x04\\xe3\\xae?\\n\\xc2\\xd4\\xect\\x99`\\x9cKm\\r\\xb3\\xee;\\x1e-\\xe4\\x0e\\x06N3\\x8d\\xd8\\xcf<SM0\\xb3-I:\\xa9\\x03\\x92O@\\xbc\\x93H\\xa6Ix\\x1f >\\xf9&\\x98\\x91\\xf9,H\\x01\\x81\\xeb\\xea}\\xf3S\\xad\\xca\\x1c\\x00B\\x9e\\x84\\x11\\x83@\\x87Gn\\x8a\\xdb\\x8fS\\xdc\\xf5\\xa2@\\x07\\xcc\\xbc\\nI$\\xe3\\x8f\\xcc\\xd4Y\\xc8\\xc9$\\xfdi\\xd8d\\x8c\\xfc`\\x1an\\xe3\\xebL\\nOjS\\x9e\\x9d\\xe8\\x10\\xee\\xbcf\\x86\\\\t\\xe9Q\\xf9\\xa9\\x189`H\\xec95R\\xe3T\\x11\\xa3\\xb4c\\x85;O=\\xfa\\xe3\\xeb\\x8e\\xd4\\xec\\x05\\xd6`\\xab\\x92B\\xfdN*?5\\x98\\x1f-x\\xeb\\xb9\\x850l\\'\\xcc\\x00\\xb1#\\xabu\\xfdzSwg;\\x8f\\xcb\\xf5\\xa0\\x07d\\x190\\xed\\xb9\\xfa\\xe0\\xf6\\xfc)\\xfc\\x9c\\xee8\\xa8\\x81\\x010\\x8b\\x81\\xfd\\xe2\\x7f\\xc94.7\\x0c\\xfc\\xc7?A@\\x0b\\xbb\\x92Pg\\xdf\\x18\\xa6\\x95\\xdd\\xc31on\\x82\\x9d,\\xa9\\x1bH\\xd2\\xc8\\x89\\x1a\\x93\\xf39\\xc0\\x02\\xa0\\xb7\\xbe\\xb7\\xb8v\\x10\\x19\\x1dT\\x07\\xf3\\x04ga\\\\\\xe3pc\\xc1\\x19\\xe3\"\\x84\\x04\\xaf\\x9e\\x84\\x9c\\x0e\\xd4\\xe5\\x07h\\xcf\\x1fZ}\\xc9P\\\\\\xaa\\xe5\\xb1\\xc1\\xefP+\\xf0\\r\\x17\\xe8\\x08\\x9cc\\xb6\\x0f\\xd6\\x95\\x9dW\\xa9\\xcdA\\xbf#\\x1d\\x05 \\x1c\\xe2\\x81\\x923\\x97\\xf9G\\x02\\x98~\\xf7=\\xe9\\xc4\\x05\\x19\\x06\\x91\\xce#\\xdd\\x8c\\xed8=j^\\x80\\x18\\xe7\\x9aR~SH~\\xf6\\x07\\\\\\xf0=i\\x92\\x06S\\xcf~\\x94\\xc4\\x05\\xb08\\xe6\\xa0\\x98\\xb3\\x1cT\\xb9\\xf5\\xa7\\xe0\\x15\\xcf\\xb7Zar\\xa4v\\x8d\\xb8H\\xecx\\xe83R:|\\x87\\x03\\x9c\\xd4\\xcb\"0\\xf5\\x14\\xd2\\x03e\\x89\\x18\\'\\xb5\\x1a\\x0c\\xaeUp\\x0ca\\xb3\\x8e@\\xe0~4\\xd5w\\r\\xb1\\x0f\\x00\\xf3\\x83\\xfey\\xa9K/\\x19$\\x0fO\\xf1\\xa1aWb\\xdbA#\\x8aV\\x01\\x12\\xdaS/\\x98\\xa0\\x16\\xe0d\\xf6\\x02\\xaf\\xc2fPC\\xab\\xb0\\x1c\\x8ez\\xd6v\\xa1\\xa8I\\xa7\\xda\\xac\\xd0\\xdb\\xf9\\x80\\x1c7\\'\\x81\\x8fj\\x86\\x1f\\x11\\xdc\\xfd\\xa6+t\\xb1\\xdbw(\\x1b\\x07\\x99\\xb8.{\\xb6@\\xc7\\xe6h\\xb0Y\\xeetQ\\xdc>\\x06ce\\\\v\\xa9\\xdaV\\x8f|\\xf1I\\xf3\\x04;T\\xf4\\xc8\\x07\\xf5\\xaey\\xf5\\x1f\\x12\\xed%\\xb4X\\xa5P~VI\\x14\\xe7\\xf2c\\x8f\\xc8t\\xa8\\xa6\\xd5\\xf5\\x99c6\\xef\\xe1\\xf9\\xb7I\\x94\\xdc\\x8cH\\\\\\xf1\\xd8\\x10\\x7f:9;\\x02f\\xbeW\\xfeY\\xfd\\xdfjk\\x10A\\xdc3\\x9fZB\\x80\\x8c\\x82A\\xf6\\xa4%\\xc7\\xa1\\x03\\xf0\\xa6!\\xa3g\\xf0\\xcaW\\xfe\\x05JD\\x80\\xe0Hq\\xee\\x05&\\xf3\\xceS\\xa1\\xf4\\xa4\\xf3\\t9 \\x8c\\xf4\\x18\\xa4\\x03\\xbeq\\xcb>~\\x83\\x00S~Vl\\x19\\x0b\\x13\\xfe\\xd5!`\\xdfy\\x0f\\xd0\\x8a7>0\\x14\\xe3\\xf2\\xa6\\x03\\xf6\\xa8\\x18\\xe3=\\xbd\\xea\\x8d\\xecSDR[X\\xd4\\x16p$c\\xd7\\x80q\\xdf\\xf0\\xfc\\xaa\\xe1B\\x141\\x93\\x038\\xe0S\\xe2o\\x91\\x82\\x8c\\x1cg\\'\\x93@\\x14\\xed\\xe3\\x9a/0\\xb4\\xbb\\x839eR>\\xe7\\xb0\\xf5\\x14\\xf0\\xcb\\xb8\\x9d\\xb9n\\xc4\\xf6\\xa9\\x1ce\\xb3\\xd4\\x9a\\x89\\x10\\xc9)\\\\\\x8c/\\xa7\\xaei7\\xa8Xv\\xec\\x9c\\x9eqR\\r\\xc1\\x81n9\\xefI +\\x1c\\x8a\\x87l\\x98\\xe0\\xfa\\x1aErQ\\x0c\\x84\\x17\\xc0\\x0cG\\xeb@\\xcd\\x8b\\x15\\xf0\\xf5\\xb3}\\xbe\\xe6\\xd2]B\\xf8\\xb1+\\x0c\\xaa\\x0cq`\\xf1\\x8e\\xc3\\xf55\\x1e\\xb1\\xaa]j\\xd7\\x82\\xe0A\\xba\\xe1\\x11\\x92\\x18\\xe3$|\\xa7\\x04\\xa9#\\xafATOV\\xe9\\xc94\\xc33E efF\\x07!\\x94\\xe0\\x8f\\xc6\\x98\\xace\\xdc_\\xea\\x8c^#\\xa1^n\\xc0\\x00(\\'\\x9c\\x8c\\x12q\\xc0\\xebW \\x82\\xf5\"\\xdf}\\x01\\xb7v\\xc1X\\xcfP\\xbe\\xff\\x00\\x8ekj\\xd2\\xf7\\xc4W\\x10\\\\,q4Jc&\\'\\x97c\\x198%J\\xe7\\xa6p\\xbdG\\x19\\xfa\\xe3\\x1a]BH\\xdd\\x97X&\\x1b\\xc6q\\xb9\\x1eA#\\xf3\\x922Tz\\x1f\\xa56\\x81\\x0e\\xe7k\\x00\\x01l\\x1c\\x02p\\t\\xfdi\\xaa\\xc5\\xe2Y\\n\\x94\\xc8\\xfb\\x87\\xa8\\xeb\\xfe\\x15\\x1b\\\\\\xabI\\xf2\\xe4\\xa7!X\\x10A>\\xf8\\xe4~4\\xf0\\x18.O\\x0b\\x9cd\\x9f\\xf3\\xebR1\\xdevx\\xe9Jt]N\\xed7X\\xeb6\\xc67p\\x0cR\\x02\\x1a<\\x91\\xdf\\x1e\\xf5\\x04\\x88J\\x12\\xbc\\x9a\\xabnnn\\xaf\\xe3\\xb1U\\x8f\\x12\\x10\\x1fs|\\xd8\\xcf@?\\x0e\\xb4\\xd6\\xa0_\\x86\\xcb\\xec0I\\x0f\\xdb\\xe4\\xbd\\x94\\xae^A\\xf7A\\xc60\\xa3\\x9e+7Cy\\x96\\xcd\\x92\\xf6G3\\x86\\xdd\\xb2G,\\xc1H\\x1e\\xa4\\x9e\\xb9\\xa9n\\xb7\\xe9Z\\x9bY]I\\x13\\xc6\\xaa\\xdeX@w\\xa8\\xc6@nNF:\\x11\\xe9V\\x9a\\xf1^\\xd1#\\x924\\xc4\\'\\xf7s\\xaa`\\xa0=r@\\xe7<u\\xf4\\x14\\xf6Z\\x88z\\xba\\x94n2q\\xc6i.\\x1d\\x16\\xc0\\xcd\\x19\\x99\\xafQ\\x8f\\xcb\\x91\\xb1\\x93\\x1c\\x0f\\\\\\xfd*\\x04#k\\x85\\xe7\\xd7\\xd4\\x7f\\x9cTFR>\\x94\\x93\\x1d\\x8a\\xfau\\xfe\\xa3,\\xb2\\x9b\\xcbX\\xe3R\\x01\\\\FT\\xe7\\xdf\\'\\x9f\\xca\\xae\\xbc\\xb2>\\x06G\\'\\x9e\\x00\\xa8\\x89\\xfe%9>\\xb41\\xc0\\xe9\\x8f\\xa5;\\x80\\xf1\\x95\\xf9X\\x83\\xf4\\xa9\\xa2b\\x1f9\\xc6*\\xbag\\x00\\xf4\\xfa\\xd4\\xca\\xe0\\x9e3\\x9aB/Bc\\xf3\\xb7Im<\\xc0\\xf5\\x11\\xa9#$az{\\x91REkk\\x12[M\\x12]}\\xa5\\x0e\\xd9<\\xd9\\x98\\xee \\x1c\\x86S\\xdf#?\\x85%\\x95\\xdc\\x88\\xc0G!F\\xceA\\x07\\xde\\xae|\\xcc\\xea\\x0b\\x1f\\x9bs\\x9f\\xd3\\xfc\\x7fJ@\\xf6*\\xfd\\xae\\xe6r\\xdfaX_`\\xcc\\x9et\\x85>\\x98\\xc09\\xfc\\xabF\\xd9\\x8b(\\xbbX\\xc3*F\\xd2\\x92[<\\x05-\\xd7\\xf0\\x15V<(\\xb81\\xc4r\\x00\\x00\\xed\\xdb\\xb8\\xfbg\\xadE\\xb5-\\xb4\\xddN\\xe43\\xc6\\x12\\xc6w\\xf2\\x83|\\xa31\\x90\\x069\\x03\\x93\\x8e8\\xabD\\xf5!\\xf9\\x89\\xc8\\xc8\\x1e\\xa6\\x93\\x03$\\xf5>\\xa7\\xb5)c\\x8e\\x0ehEg\\'\\xbf\\x1d*J\\x11\\x94\\xf2\\r: \\xa7\\nQ?Q\\xf9T\\x92F\\x8b\\x82\\xac0G\\x035^&f\\xc8\\x18\\xe1\\xb9\\xf5\\x02\\x95\\xb5\\x18\\xfc\\x93\\x80\\x0741\\x1c\\xa1`$\\xdb\\xbbmE\\xb8\\xa3\\x86\\x1dA\\xa4\\\\F\\xcc\\xd1\\xa2\\xae\\xf6,O\\xa94\\x08q\\xc3&\\x07\\xf7\\xbf\\xa5M\\x0f\\x12.x\\'\\x8a\\x8d:\\x1f\\xc0\\xd2\\x97\\xc7*3\\x8e\\xf4\\xc0\\x98\\xa8\\xe0\\xe3\\x04pj\\x8aJ>\\xd72\\xe0\\xb0\\x18\\x1c\\x8a}\\xc4\\xac$+\\x92T\\xf3\\xc5fG6\\xfdB\\xe7q\\xd8\\x14\\xa8R\\xdd\\x0f\\xb8\\xa5a\\x9a\\x8e\\xc1\\xa4>\\xb9\\xe9Q?\\x03#\\xa5A\\xe4b\\xe5\\xdd\\xee\\x18\\xb1?w8\\x02\\xa61\\xaa\\xc1\\xb01`0:\\xf5\\xa6\\x03$\\xd5-\\xe3\\xbd6\\xef4h\\xdc\\x95\\xdc\\xe1ws\\xd0g\\xa9\\xa7\\xce\\xc2h7\\xa4\\x8a\\xc0\\xf4#\\xbdK\\r\\xd3[\\xc93B\\x91\\xb2H~t\\x920\\xc1\\xb1\\x9e9\\xad\\x18\\xa7\\xd0\\xee\\x1f\\xfd/E\\xb6S\\xfcO\\x1cA\\xb7}F3\\x8fj\\x10\\x99\\xa1\\xa5\\xea-.\\x9d90\\x85[[q\\x8c\\xb6K\\x11\\x81\\xcf\\xa0\\xc8\\xf4\\xef\\\\^\\xb5\\xa8\\xe9\\xd773]^$1\\t\\x82\\xc7\\x9d\\xc0\\x96\\xe0r1\\xf3g\\x8e;\\x0f\\xd6\\xbb\\x88\\x86\\x9e\\xb6\\xd7\\x9f\\xd9\\xf1\\xc1\\x1d\\xb1\\x85C$J\\x15ya\\xd4\\x01\\xf4\\xa8&\\xd4\\xb4\\xeb0\\r\\x9d\\x9c/(=V \\x8a\\x0f\\xd7\\xaf\\xe5\\xf9\\xd5\\xb2Sg\\'g\\x1cg\\xf7\\xb6V\\x12:\\x927\\xbc\\x16\\xe4(\\x03\\x9c\\x93\\x801\\xf8\\xd4\\x97\\x16\\xf3\\xdc*\\xa4L\\xc5K\\xe7j\\xb0R\\xc7\\xa7S\\xc0\\xe3\\xd6\\xb5.\\xef\\xee\\xef\\x9c\\x89\\xe6m\\x87\\x1f \\xe1G\\xe1\\xde\\xa0l\\x88\\x86C\\x1f\\x9b#\\x9c\\x1cT\\\\\\xa1\\x86\\xce\\xf6\\x05U\\x92\\xc2\\xeb9\\xea\\xa08\\xc7\\xaf\\xcb\\x9f\\xd7\\x14\\xfd-#Mv\\xd2v\\xb6\\x90H\\x1cFK\\xab\\xae\\x07\\xd0\\xf1\\x8ez\\xe2\\xa3\\x8bP\\x9a\\xcao\\xf4{\\xa7]\\xdc\\xec\\'\\x8f\\xcb\\xa5l\\xdb\\xeb\\xb7\\x0e\\x16+\\x98P\\x97u\\x02D\\xe3\\x91\\x81\\xc8\\xe9\\xf9SBe/\\x12\\xe8\\xcbw\\xe2f\\x9a;)\\xa5\\x91U9M\\xc0\\x0e\\xbd\\xc1\\x00S\\x1b\\xc2\\xf8\\x89\\x1e\\xfd,l\\x94c\\n\\xb1\\xf9\\xb2\\xb7\\xe2@\\xe7\\xf3\\xfa\\xd7E\\xaaj\\ra\\xaaJ\\x91\\xc4\\x1eYQJ\\xef\\xfb\\xa3\\xdc\\xe3\\x93\\xf4\\xe2\\xb9\\rb-Z\\xed\\xc3[]\\x94 \\x90\\xecX\\x03\\x8fE$\\x1fN\\xd40E\\x99`\\xb7_1\\xad\\xe2t\\x8b\\x04\\x16\\x94\\x82\\xccq\\x83\\x93\\xdb\\xe9Y\\x98\\xfd\\xe61\\xc7\\xd6\\xac\\xd8i\\xefg\\x04\\xe2k\\xa7\\x99\\xa5m\\xd8g\\xdc8\\x18\\xe0\\x9a\\x88[\\xfc\\xe5\\xf2\\x02\\xee\\xeb\\xde\\xa5\\x96*\\xc7\\xb7\\x8c`\\xf6\\xc5#F\\xd9\\r\\x8e\\rh\\xc0\\x91\\xa8\\xfb\\xbd}k+Q\\xd5\\xedmVD\\x89ZyT\\x85\\xdb\\x11\\x07k\\x1f_J.+\\t*\\xec\\xc1\\x07#\\xa1\\xa9m\\xd4\\xbe\\x14v\\xaaV\\xda\\x92_\\xc5\\xf2\\xab,\\x80\\x02\\xc8G\\xdd>\\x9e\\xf5e\\xef\\xe0\\xb0\\x84O4\\x88\\x84\\xf4\\\\\\xfc\\xc4\\xfa\\x01LV4\\xe0A\\x1b\\x06 6:\\xfbT\\x96\\xda\\x85\\xbd\\xdd\\xec\\xf0@\\xe2F\\x81\\x06\\xe6S\\xc0\\xdcz{\\xfd\\xda\\xc4a\\xabx\\x85\\x80\\xe7N\\xd3e=\\xff\\x00\\xd6J=\\x00\\x1c\\xfe9\\x03\\xeb[\\x96v\\x16z%\\x90\\x8a\\xde \\x91\\xaf\\xde8\\xc9s\\xeaOsE\\x82\\xe4\\xf6\\xfea\\x85\\x84\\xd8\\x05\\x8eN?\\x0f\\xf0\\xa8\\xb5}\\x89\\xe1MfC\\xc1\\x16\\xe22\\x7f\\xd9i\\x14\\x1a\\xb1\\x04\\x892\\x07\\\\\\x95<\\xe4\\xd5-xc\\xc2\\x9a\\x99b\\x19ZX\\x10*\\xae1\\xf3\\x86\\xe4\\xf7\\x1f.i\\xc7rFR4\\xbb\\x18\\x1eED\\x1f\\x8d\\xc5\\xb1\\xeeM?`u\\xcb\\x1c\\xe6\\xa4\\xb2X\\xa7\\x12*.2T\\xe3\\xaf\\xe5QE\\x80\\xd2\\xe5\\xb2VN\\xdd\\xb8\\xa8\\xe3\\x85\\xd2B\\xca\\xdc\\x0eq\\x9a\\xac\\xf7\\x87}\\xcf\\x96\\xfb0\\xe3\\xe7t8\\xe9\\xce)\\xb1\\x16\\x9aX\\x8c\\x92l\\xe8\\t\\x04\\xfd(\\xdc\\x02\\x829\\x15Ao\\x9eK\\x99#H\\x99\\xca\\xb7\\'\\x1c\\x1a\\xd0\\x89\\x1eH\\xb0\\xfc\\x13\\x9e\\x07\\xe9H\\x06\\x13$\\xb1H\\x91\\xbe\\xc2\\xcb\\x8d\\xd8\\xcfqR\\xa0\\xf2\\xa1X\\x90\\xb3\\x101\\xb8\\x9e\\xb4\\xc1\\x88\\xe7\\x038\\x0c9\\xa93\\x83\\xb8a\\x87aLd\\x8e\\xa1\\x91_i,;\\x0csY0\\xc3 \\xbf\\xbc%\\x197m\\xc9-\\x9c\\xf0zV\\xba\\xca]J\\x91\\xb4\\xf0@\\xaa\\xa0b\\xf6P\\x11K0\\x07\\x19\\xebH\\x08\\xd6\\xc5\\x16Wg$\\x93\\xfd\\xea\\x99\\xa2X\\x9bj\\x8e\\x18\\x0e\\x95h\\xa0V,\\xe0n<\\x81\\xd7\\x14\\xc6G\\xd8\\xc7\\x18\\x1f^M\\x02#q\\x89\\x08\\x18a\\xd7\\r\\xfe4\\x90\\xe0z\\xa9\\xe9\\xf3\\x8e\\x0f\\xe3U\\x1a\\xe9E\\xd9\\xb7\\x19$(bOA\\xd7\\x1d\\xfa\\xf5\\xa9B\\xed`\\x17\\x80\\xdd@\\xe3\\xf1\\xa63kOp\\xfe\\x1e\\xd5\\n6\\xe0\\x19W\\xf5\\x07\\xfaU\\x08\\xde2\\x83\\xf7\\x8a\\xf8b\\x00^pGc\\xefW4kk[\\xbd\\x0e\\xefO\\x92\\xf5\\xa0\\x13L\\xa6O.EG\\x0b\\x8cpH$\\x0f~>\\xb5\\x9fq\\xe0\\xef.X\\xe3\\xd2<B\\xd0+e\\xcd\\xbc\\x8a\\xb3o?\\xde\\xcer\\x01\\xef\\x81L\\x91]\\xca\\xb9\\xda\\xca1\\xe9Q\\xcb\\x95\\x03\\x07\\xa8\\xf4\\xa8-u\\x18\\xee\\xef\\x9a\\xc8\\xba}\\xa2\\x10V`\\xa0\\xe00\\xf7\\xe8\\x7f\\n\\xbbs\\x0e\\xde\\xbd@\\xces\\xc5N\\xc3)e\\x9a2:\\x91BLQ\\x94\\x01\\xd1\\xd4\\x9c\\xfbR\\xec\\xc2\\x83\\xc7\\xd6\\x95\\x11_x\\xc09^?:i\\x8d\\x9d\\x1f\\x89|?{\\xacj\\x10\\x94\\xbf\\xfb\\x1cq\\xa0\\x04\\x81\\xf3?9\\xcf#\\x81\\xd7\\xbds\\x97\\x96\\xbe!\\xd2U\\xae\\xb59ln,\\x91\\xd5d{bC\\xc6\\t\\xfb\\xc4\\x1e3\\xd3\\xa7\\xadh\\x9b\\xf2\\xff\\x00gX^\\xe7z\\x0f\\x9cK&Fz\\x00=\\x80\\x1d\\xfdj\\xc47\\x90\\x9b\\rR\\x13\\xb6GR\\xae\\xc9\\xe5\\xe79\\x19\\xe7\\x1dzP\\xc9\\xd9\\x18cS\\x86K\\x19/\\x01\\xf3\\xa1\\xde\\x14\\x10x\\xe4\\x81\\x9f\\xcf\\xf9\\xd5\\x90\\xae%]\\xa3\\x93\\xc3\\x02)\\xbat\\xf1\\\\\\x86\\x99\\x1a\\x15$\\r\\xeb\\x03\\xe0)\\xe3\\xb0##\\x00pjy\\xa2\\xb86\\xcf$\\x08\\x92L~\\xea\\xc8\\xfb\\x01\\x1f\\\\\\x1aE\"\\x17\\x93a\\xdb\\xe7FYz\\xaf\\xa8\\xf7\\xaeFhV\\x06\\xddn\\x8b\\xf2\\x0c\\x10\\x07,;\\xfe<f\\xad_\\xe9\\x1e#[\\xb1*\\xd9p\\xc7\\x18\\x8et\\xe3\\x9fr3M\\xd2\\xfc=}\\xaa\\xc8Z\\xfay\\xadb\\x81\\xb64J>y\\t\\xe7\\x8cp\\x06;\\xe4\\xd3@\\xcc\\xe8g\\xba\\xbc\\xbf\\xf2\\xf4X\\xcd\\xc4\\xe4\\xec\\x97\\x1fu}\\xc9\\xff\\x00=+\\xad\\xd1\\xbc%\\x15\\xa3}\\xb3R\\x90^^c\\x8d\\xe31\\xaf\\xe1\\xdc\\x8fS\\x91Z\\xf6\\x9666\\x16\\xebeo\\x0cp\\xc7\\xf7\\x82/V\\xc7s\\xdc\\xf5\\xebW\\x8b,cs\\x10\\xaa:\\xb3\\x1c\\x00>\\xb5L\\x9b\\x8c\\xc9-\\x93Q]\\xba\\x94\\x11\\xeci\\x19\\x8e\\x02\\xa0\\x19\\x1e\\xfc\\x9a\\x82\\xe2Di\\xd5\\x85\\xda*\\x8f\\xe1\\xde94\\xe6\\xb8\\x81\\xdd\\x129\\xe0iI\\x1c\\x17\\x19\\xc6\\x7f\\x9d\\x01q\\xd6\\xd6\\xc6\\xd1\\x9e1q$\\xcb\\x90~p\\xa3\\x19\\xcfL\\x01\\xe9\\xde\\xab\\xf8\\xab\\xe4\\xf0U\\xcb`\\x0f2\\xf2\\x04\\'\\x1dp\\x1c\\xe3\\xf9~\\x154\\xf7Q\\xc1\\x7f\\xe5\\xcb:)*>V`?\\x1e~\\xbf\\xa5g\\xf8\\xae\\xea&\\xf0\\xdd\\xacBee{\\xd2\\xf8\\xdd\\x8e\\x04l3\\x8f_\\x9e\\x84\\x030\\x8c\\xfbXd/J\\x9b$\\x9e\\xb5E\\xdc\\xa4\\xe83\\xf7\\x94\\xe7\\xdc\\xd5\\xa1\\x92\\xbb\\x878\\xa9(\\x9e,+\\x82{\\x9c\\x1a\\xaf\\xe4\\x07y\\x15\\x81 \\x91\\xc1<\\x1ap\\x97\\x91\\xf2\\x9f\\x7fj\\x90\\x13\\xf6\\x99>]\\xc4\\xae\\x7fZL\\tDa0\\x00\\x03\\xd0S\\xc9X\\xd7\\x9e\\xfd\\x17\\xbd1\\xa4\\x11\\xf5\\xc7\\x00d\\x93\\xd3\\xf0\\xa4\\x11\\x93\\x97;\\x8f|\\x90@\\xfc\\xe8\\x11\\x15\\xc4h\\xe5I\\xceA\\xcf\\xadU\\xb5\\x97\\xed\\x11\\x17#iWd`}\\x8e*\\xf4\\xa5#p\\xce\\xea\\xaa1\\x9ep?3Y\\xb6\\xe8\\xd1_\\\\\\xf0\\x9eL\\x85]J\\xf03\\x8c\\x11\\xc9\\xc9\\xe9\\xfa\\xd3\\x19q^X\\xd9\\x90\\xf4\\xc6\\x079\\xceh\\x80\\xef\\x90\\xc9\\xb3;S\\x04/SN\\x8dC8+\\xb4\\x008\\xcd>!\\xfe\\x9a6\\xcaG \\xed\\n0q\\xce9\\x14\\x80\\xa1s\\xab\\xcff\\xa9q{\\xa5^ZZ\\x80<\\xd9\\xa6B\\x15\\t\\xc0\\x1c\\x0e\\xa35r\\xde\\xf2\\x0b\\xb8\\x0c\\xf02\\xc9\\x13\\x02\\x03\\xf4\\xfc?\\xce+f\\xeb\\\\\\x9e\\xdf`DL\\xbb\\xaa\\x11\\xb0\\xb19<\\xe3\\x91\\x9a\\xc6\\xf1\\x05\\x84k\\xaf\\x99-\\xaf\\xa0\\xb6\\x05W\\xcd\\xb5\\xf2\\x883u\\xc9\\xff\\x00\"\\x9aD\\xecfI\\xb4j\\xca\\xa8\\xae\\x1b\\xcb\\xcbs\\x90y\\xfd?\\xcf\\xadh\\xa0\\xf9\\xbeb1\\xe9PK\\x16\\xc7W+\\xcex\\xa9Q\\x83\\x1c\\x13\\xc9\\xa4Q8\\x9b\\x16\\x92\\xd9<(\\xc2F\\\\\\xb1\\x198\\x1d@\\xf6<~UsE\\xddm\\xabE\\x06\\x00\\x8f\\xc9g\\x1bO z7\\xf4\\xaa\\xcdc<v\\xd6\\xba\\x8b4\\x9e[\\xb6\\xd5\\x00\\r\\xa3\\x18\\xf49\\xfd+CDb\\xf7\\xe3\\xa9U\\x8c\\x8f\\x98u\\xe4\\x7f\\x9f\\xc2\\x803\\xa5\\xbd\\xf3\\xae].RH\\xd6\"\\xca<\\xc5*\\x07?\\xfe\\xaf\\xce\\xa4\\x94\\x86Vo_\\xca\\xa4\\xba\\x02+\\xc6\\x1b\\xb6\\x82\\xec\\xcc:g\\x92?\\xa51\\xb3\\xb7\\xbe1\\x9e\\x06I\\xf6\\xc0\\xe4\\xfd)\\x01I\\x80 \\xe7\\x9alg\\x12r\\xd8\\x1d\\xcd,\\xb3\\xc3\\x12\\xcb$\\x92$h\\x83\\xe6gl\\x05\\xf6>\\x95\\x04R}\\xa8\\t !\\xd5\\xb9\\x04\\x10)\\x81j\\xda\\xe23}\",\\x99lr\\x05t:2\\xa1K\\x94C\\xe5\\xab(c\\x82s\\x9eF}\\xbbV\\x04\\x963[\\xc7m0\\xb5\\xd8&\\xc9\\xde\\xeb\\xb09\\xef\\x83\\x9c\\x9e=\\xabSA\\x90\\xfd\\xb1w2\\xa9p\\xcaW>\\x9f\\xfe\\xaa\\x18t)\\xc6\\x8b\\x82>\\\\\\xa0\\xc2\\xe7\\xa8\\x07\\x9e\\xbf\\x8dY\\\\\\x001\\x8d\\xbd\\xb1Y\\xb2j\\x166\\x9a\\xd4\\x91^,\\xf2\\x9c\\x96\\x10\\xc7\\x80\\n\\x8c\\xaf\\'\\x19\\xc7\\x038\\xc6s\\x8c\\xd4\\x8f\\xac\\xd8E\"\\x89\\x14Y\\xa4\\xacLj\\xeaQOs\\xb7\\x8c\\x1cf\\x93A\\xb1f\\xe28\\xee\\x10\\xa4\\xd1A\"g;f\\x8c0\\xe3\\xd8\\xfdz\\xd1\\xa6Db\\xb5\\x94b<\\xf9\\xed\\x95Y\\x14\\x01\\x8c\\x0c\\x00H=\\xba\\x01\\xdc\\xd40\\xde[^\\x16\\x10K\\x1c\\xdbq\\x9e\\t\\x03=9\\xabv\\x0c\\xbff\\xf9r\\x01\\x92R\\x7f\\xef\\xb2?\\xa1\\xa7\\x1b\\xdc\\x19-\\xc2<*e6\\xb3\\xb3\\xaf\\xdd\\x0b\\x19,s\\xd8\\x0e\\xf5F\\xea\\t\\xb5(\\xfe\\xc5ui\\x7fo\\x1c\\x84,\\x8e\\x14\\x02\\x98\\xe7\\x9e\\xa0s\\x81\\xcf\\xadK\\xa8\"}\\x94\\xaa(\\xdc\\xf2 \\xff\\x00\\xc7\\x85=aO\\xb5\\xc0G\\n\\xaf\\xc2\\x01\\x81\\xf7MY&1\\xf0N\\x9e\\xdb\\xb3qvA=7\\'\\xff\\x00\\x13\\xfc\\xb1Mo\\x03in\\xea\\xads|\\x8b\\xd5v\\xc8\\xa3\\x9fl.G~\\xa4\\xd7V\\xa3\\xd7\\xad\\x1c\\x1e\\x80\\xd1v#\\x97o\\x03i\\xc4\\x9c\\\\\\xdfcn\\x03\\x16R\\xdf\\xaa\\xf4\\xa8\\x1f\\xc0v_f\\x10\\x8b\\x9b\\x92\\xaa\\xc5\\xb6\\xe2<\\x0f\\xa6W\\xf9\\x11]~h<\\xd1p\\xb9\\xcc\\xce\\xf1y\\x87\\xe7\\xc2\\x8e\\x84\\xe3\\xa5,s\\xfc\\xbd\\x88\\x07\\x1c\\x8a\\xa1\\xad\\xc4E\\x85\\xd0`\\xc7\\xf7Np\\x0e1\\x80jth\\xd0\\xf9i\\x18\\x0b\\xc7\\xcb\\x92q\\xc7\\xadId\\x92\\x82\\xeaH\\xc0\\xf7\\xa5[\\x85\\x84\\xab\\xc8I\\x01y\\xda3\\x8ej\\xcd\\xad\\xad\\xcd\\xec\\x86\\x1bX\\x04\\xa7i$\\x16\\n\\x00\\xf5$\\xf6\\xa8\\xa1\\x95\\xa2\\x90#*#t\\xea\\x18u\\xecG\\x14\\x01s\\xfe\\x11{=^\\xd9nf\\xbf\\xbd_9\\x03y~f\\xd0\\xa3\\xd4.=;\\x1a\\xcc\\x9e\\xcbR\\xf0\\xfc\\x0b}s\\xa8A\\x7f\\xa7\\x96\\xf2\\xd9\\xe3]\\x8c\\x07c\\xef\\xfa\\x9fJ\\xd6\\x904\\x88\\xac\\x02w\\x03q\\xf4>\\xa2\\xa7e\\xbb\\x8f\\xc2p\\xf9r\\xa9o38x\\xc3u\\'8\\'\\xb7\\xa7\\x19\\xa5{\\x88\\xc7\\x86s*\\xad\\xc2\\x00P\\xe7\\xe5a\\xf7\\x87N\\x95^\\xd6\\'S&\\xec\\x92O\\x19<\\x0e+E\\xe3w\\x85Ir\\xd2\\x02_v\\xdd\\xbb\\xb9\\xee?\\xc2\\xab9#\\xad\\x00H\\x84m=89\\xe6\\x92\\x0b\\x94]@\\xa8e/\\x8c\\x84\\x07\\xaf\\xd3\\x9ei\\xaa\\xf9\\x19\\xab\\xb6R\\xd9\\x08\\xeea\\x969\\xd2\\xe2R\\x1d%\\x8d\\x86\\x08\\x07\\x95#<\\xe7\\x9f\\xa0\\xe9L\\ta\\x02{\\xbb`\\xca\\x8e|\\xd5e\\xdc\\xb8 \\xfbU\\x9da\\x91n\\xe5fc\\x9d\\x81\\x0f\\xcd\\xd4\\x1ej\\xad\\x94\\xf1G\\xa8\\xdb[\\xb4\\x8a\\xae\\xf2\\r\\x8aX\\x02G^\\x95\\x93\\xe2\\x7f\\x13[[j\\xb3\\xd9\\xac\\xc8g\\x8d\\xc9bI\\xc2\\x80\\x17\\x1c\\x80y\\xe7\\xa6;RHl\\xb0Z9\\x11v\\xe0\\x86\\x19R\\x07Z\\xc9\\x93T\\xb6\\x17\\xbffE\\x91\\x98I\\xe5\\xbe\"8S\\xf5?\\xd2\\xb1n|W6Um\\xd5\\x1d\\xe4r\\t\\x08z\\x9ex\\x19\\xcf^\\xf5\\x04\\xa7\\xc47\\xd2\\xc8\\xcdk<hN\\tk\\x7f)O\\x1e\\xad\\xd6\\xa9E\\x85\\xce\\xa2P\\xe2\\xea9\\x02\\xc6\\xe1x\\xdc\\xf9\\xe3\\xb5k\\xe8\\xd7\\xf1\\xa6\\xb1\\x04\\x05\\xc0\\x9e`\\xca#\\xc7\\xde\\xc0\\xc9\\xc5p\\x96\\x9a5\\xc2\\xc7(\\x96\\xe6&\\x95w0Ar\\xe0\\x86\\xc1\\xff\\x00g\\x03\\xa7\\xa8\\xe35b\\xdfN\\x94\\xb2\\xbd\\xdd\\xfc\\xf2\\xc8\\x10d\\xa2\\x85\\x1c\\x81\\x91\\x9e\\xfe\\x84\\xe3\\x9cUr]\\x88\\xean5\\t.u\\xdb\\x8b}>[ye\\x8fy\\x90;\\xedE\\x1b\\xfdpry\\xf4\\xa5\\xbb\\xbf\\x9fN\\x99\\x12\\xf6\\xe2\\x1d\\xef\\xfe\\xacZ\\xef$\\x10y\\xe7\\x03\\xa7\\xadr\\xb7:<P\\xdbIue4\\xd6\\xb3\\xa3n\\x95\\xc33\\x16S\\x9c\\xf1\\x9cu\\xc5P0\\xaefY\\xef.\\xe6\\xf2\\x95\\x18\\xe1\\xb0>b\\xbc\\x8c{052J;\\x97\\x189lm\\xebw\\xd6\\xda\\xdc\\xeb<\\xf0\\\\\\x19\\x03\\x88\\xcb\"$j\\x08\\x18\\xe9\\x9e\\xb8\\xef\\x8a\\x84\\xdc\\x16\\xb0\\x92\\xd7NX\\xe2\\x95?x@\\xbaB\\xd8\\x07\\x04\\xf3\\xc0\\x1c\\xf5\\xcddMoa\\x1d\\xcc\\x81`\\x84\\x84\\x81\\\\3\\xfd\\xe2N\\xd2wd\\xf3\\xc15cN\\x96\\xccj\\xd1\"\\xf9)\\x1d\\xc4\\'\\xe5D\\x01X\\x01\\x9eq\\xfe\\xd2S\\x8b\\xbe\\x85:vW#\\x1au\\xfc\\xee\\xa2\\xe2\\xed\\x14\\x7f\\x11]Ad8\\xf6\\xd8[\\xf9V\\x82X_G\\xa8\\xad\\xc2\\xdd\\xf9R[\\x93\\x1a3\\x8d\\xf27\\x1c\\x90@Q\\x83\\x9f\\xafZ\\xbecQ\\xda\\x8e\\x07A]\\x1e\\xcc\\xcd\\x19gEv\\xb8\\x9ayu\\x07v\\x97;\\xbfq\\xceO_\\xe2\\xfe\\xb5\"\\xe8\\x96M\"3^\\xdf3/B H\\xba\\xe3\\xb9g\\xfeU\\xa3\\xb8\\xf3\\xc5\\x039\\xc9\\xe9G\"\\x02+\\x1by\\xac\\'\\x8akK\\x9b\\xa8\\xed\\xdd\\xfc\\xab\\x90\\xe5\\x1b\\x0b\\x8c\\x82\\x0e\\xde9\\xcfn\\xff\\x00\\x9fa\\x14Q\\x9b1\\x14L\\xfb\\x08\\xe1\\xf3\\xf3`\\xf4?\\xads\\'\\x12\\xe9\\xb7Q4\\xaf\\x10gD2!\\x01\\x97vy\\x07\\x07\\x1d\\xb9\\xa8\\xa1\\xf1P\\xb7\\xb6\\x8e\\x11iq/\\x94\\x81\\t3\\xa8\\'\\x03\\x1dv\\x9e\\xfe\\xd5\\x8c\\x96\\xba\\x08\\xe9\\xaf~\\xed\\xbcy83/S\\xd7\\xa9\\xfe\\x94\\xebe\"u%\\xb7|\\xc4\\x8ezq\\xfe\\x7f:\\xe5\\xe4\\xf1C\\xcc\"q\\xa60H\\xdb\\x7f7\\x1b\\xbd\\xb9m\\x83\\x1f\\x95ihZ\\xdbj\\xb7\\xf2\\xc5\\xf6T\\x8dR\"\\xc5\\x84\\xbb\\xdb\\xa8\\x18\\xfb\\xa0w\\'\\xa7n\\xb56b:el\\x9c\\xe2\\x9d\\x9a`\\x1f\\xfe\\xaav{P\\x01\\x9aZ\\xcemcMYLm\\xa8Z\\x87S\\xb5\\x94\\xca\\x01S\\xef\\xe9V\\xe1\\x9e9\\x90<R$\\x88y\\x0c\\x8c\\x18\\x1f\\xc4P#\\x99\\xb9\\x91u\\x9b+\\xaf\\xb2H\\n\\xc8\\x85\\x03\\x03\\xc8$\\x10j\\x18\\x01\\x8c\\x12\\xc4\\x96c\\x9c{\\xd5\\xfbkd\\x8a\\t\\n\\xa4(\\xd2rV\\x1e\\x15x\\xe3\\x1f\\xe7\\xd6\\xa3(\\xa821\\xc7\\xb5K.\\xc3\\xa0\\x93\\xe6\\xdcr\\x98\\xea3L\\x95\\xb3<f3\\n\\xa0]\\xe5\\xde@\\xa0\\x01\\xeeO\\xe9Q\\x87\\x05\\xb2:\\xd5\\xcbr\\xeb28+\\x9c\\x8c\\x17P\\xdc\\xfd\\r\\x00X\\x06II\\x1c\\x9c\\x9e>n\\xff\\x00\\xca\\xb5\\x1c\\xc7\\xfd\\x81\\x02)R\\x0c\\xc1N09\\x0cA\\xae.\\xeb\\xc5v\\x96\\xcf\\xb2 \\xf3:\\x83\\x91\\xc2\\x81\\x8f\\xaf>\\xbd\\xa9__3h\\xcb\\xf6k%:\\x93\\xccJ,n\\x8c\\xb8\\r\\x92rz\\x10\\x08\\xe3=\\xfe\\x94$\\xc4\\xd9\\xa9&\\xa3\\x14\\x07\\x0f\"\\x0c\\x002EcO\\xe2m?\\x95V\\x92I\\x01\\xc6\\xd5\\x8c\\xf3\\xf9\\x8a\\xca\\xb4\\xd3\\xf5\\x02\\xca\\xd7wk\\x13\\xa9\\xc3\\x18\\x9dec\\xf5\\xd8p{ujp\\xf0\\xde\\x96\\x97o<\\xb0=\\xc3\\xb1\\xc9y$*3\\xfe\\xe2\\xff\\x00\\x89\\xad#N\\xe1q\\xd2x\\xac\\xcc\\xe6+H\\x17\\x7fLd\\xc8\\xc4\\xfd\\x00\\xa8dO\\x10^2\\x19\\x96h#\\'\\x93)\\x10\\xe0{\\x0cd\\xfeF\\xb5\\xe2\\x02\\x08\\xbc\\xa8U!OH\\x91S\\xf5P\\r1!\\x8a3\\x94@\\x0f\\xadh\\xa9\\x01\\x9b\\x0e\\x87\\x12]\\x19E\\xd3\\x1d\\xbf\\xc2\\x90\\x0e\\xbf\\xef6?\\xf4\\x1a\\xb2\\xbaN\\x98%3\\x1d:\\x17\\x93$\\xabK$\\x84\\x8c\\xfb\\x06\\x0b\\xf9\\x8a\\xb8zQ\\xda\\xb4QH\\x07D\\xcd\\x08\\xfd\\xcb\\xc9\\x08#\\x05bb\\x83\\x1f@i8\\xde\\\\\\xe4\\xb9\\xea\\xc7\\xa9\\xfci\\x07JZv@/|\\xf7\\xa0\\xd2f\\x83\\x83@\\xf4\\t@\\x96\\xcex\\x08p%M\\x84\\xa3\\x05#\\x90x$\\x1fOJ\\xac\\xda^\\x9e\\xf24\\x8fd\\xf3\\x19\\x10#y\\xf7,\\xdb\\x80\\x03\\x19\\t\\xb3\\xd0~Uk \\x0e\\xb5\\x1f\\x9f\\x08;|\\xd5\\xcf\\xf7A\\x19\\xfc\\xaa\\\\Sw`\\x9d\\x85\\x8e\\x1bx\\x99|\\xbbKT\\x01v\\xff\\x00\\xa9\\r\\x95\\xc7O\\x9b<qS\\x99\\xa5-\\x90\\xec\\x8a\\x06\\x02G\\xf2(\\xf6\\xc0\\xc7\\x15\\x16\\xf3\\x82Lr\\xe3\\xd7a\\x02\\xb4\\xad\\xf4\\x1d^\\xea\\x04\\x9e\\r>F\\x8aA\\x95r\\xe9\\x83\\xfa\\xe6\\x97\\xba\\x81\\xb3?>\\xb4\\x1e\\rmG\\xe1\\x1dvPO\\x91m\\x18\\x1f\\xde\\x9b\\x93\\xf8b\\xb1u$\\x97J\\xb8\\x96\\t\\xdaI\\x1e3\\x86\\xf2`\\x1b\\x7f\\xef\\xa2\\xff\\x00\\xd2\\x9f:\\x12bf\\x97>\\xd5\\x98uv\\'lvo\\x93\\xfcO8\\xff\\x00\\xd0B\\x7fZ\\x1e\\xfaT\\x90\\xac\\x91\\x00A\\x1c\\tF?@\\x7f\\x9dO:\\x19v\\xe9O\\xf6]\\xe9\\'\\x8c!\\xfcCW?\\xe9\\x92\\x0ez\\xd5\\xd95\\x07kg\\x87\\x10\\xa2\\xb9\\xc3|\\xd23c\\xafRq\\xfaVC_[\\x89J\\x87,Ge\\\\\\xd4I\\xdc\\x16\\xc5\\xc7\\n!\\x83\\x93\\x9es\\x91\\x91\\xd7\\xfc+\\xa7\\xf0V\\xd6\\xba\\xbd\\x038X\\xd7\\x03h\\x1dO\\xf3\\xe0q\\\\Y\\xd4\\xed\\xf2\\xa1D\\x84\\xa9\\xe8\\xa9\\x93]\\xaf\\x82%S\\x05\\xf4\\xa67B\\xd2\\xaa\\x96q\\x82J\\xab\\x13\\xfc\\xc7\\xe9R&v\\x83\\x81\\xc5#r\\xa6\\xa3YW\\x01\\xb2\\x07\\xd4\\xd0\\xd2(Fb\\xea\\x14\\x0c\\x92O\\x00T\\x92\\x02\\xca\\xceD\\x0c\\xf6\\x96\\xec\\xc4\\x0f\\x99\\xa2\\x04\\xe7\\xebI\\x141B\\xce\\x91\" $\\x90\\xa8\\x00\\x02\\x9f\\x1c\\xc0\\xc603\\x8e3Mg\\x1b\\xd9\\xb1\\x8e=(\\x03%Z\\x02\\x8e\\xd7k\\xe5\\xa8\\x8c\\xf9N\\xa7\\x1b\\x1f\\xb1\\xc7\\x1f\\xadg\\xdf\\\\Go\\x0f\\x99r\\xeb\\x12\\x92\\x01.\\xc1FMs\\x93\\xdbk\\x17\\xd2\\xba\\xddo\\x8eN\\xcbv\\xad\\x136}\\x10/\\xf3\\x02\\xab]MvBK<\\x90\\xc35\\xb9\\n\\xf2`\\xcb+\\x928\\x1bN\\x00\\x1d}\\xf8\\xa4\\xe3m\\xcdV\\xae\\xc8\\xd4\\x9b[\\t\\xe5<I\\xf2\\x17\\xc2\\xc9!\\xdb\\x19\\xc6x\\xcf\\xe1T\\xdbW\\x96\\xf0\\xfc\\xce\\xf2 \\x7f\\xde\\x0bD\\xc2\\x81\\xd3>c\\x7f*\\xce\\xf2\\xe0\\x8b\\xed9O6X\\xce|\\xd9\\xc9bW<\\x903\\xb4u\\x07\\xa7@j\\xff\\x00\\xd9.\\xef\\xe2s\\x1d\\xbc\\x8dou\\x12\\xcd\\x1c\\xce\\xa4F\\xac\\x0ev\\xe4\\xfb\\x86\\x1c\\x0e3B\\xd7b\\xb9\\x12\\xdc\\xd1:}\\x8c2>\\xcbDfo\\x98\\xb4\\xecdo\\xcc`v\\xcfCS;3\\x80\\xae\\xe5\\xd4d(nv\\x8fA\\x9e\\x83\\x93\\xc0\\xe3\\xaf\\xadEl\\x92Gk\\x0cr\\xcb\\x14\\x8e\\xab\\xb5\\x8c!\\xc2\\x8cp\\x00\\xde\\x01\\xe9\\x8f\\xd6\\xa45\\xd4\\x92\\xb1\\x90\\x81UF\\x15T\\x0fa\\x8aP)i\\x18\\xed\\xe4\\xf4\\x1dj\\x90\\x0bM\\xc1\\xa5\\xc8\\xc0;\\x80\\x07\\xa6H\\x19\\xa8\\xe4\\xb8\\x8a3\\x83<\\x05\\x80\\xc9Q2n\\x1f\\xf0\\x1c\\xe7\\xf4\\xa4\\xda\\x1a$\\x03\\x14\\x12\\x01\\x00\\xf5=*\\x8b\\xeaQ\\x11\\xfb\\xa5\\xb8-\\x9f\\xee(\\x1f\\x9es\\xfaU;\\x8dQ\\xc6U\\xcd\\xb2\\x00\\x7f\\x8dw\\x11\\xff\\x00}q\\xfaT\\xf3\\xa4\\x06\\xe2\\xa3\\xb9\\xc2#\\xb9\\xec\\x11K\\x1f\\xd2\\xa2\\x9aU\\xb6?\\xbf\\xdd\\x17\\x19\\x1b\\xd0\\x82~\\x83\\x19\\xac1\\x15\\xcd\\xf2+E\\x1c\\x97+\\x9c\\x00\\x18m?A\\x90+A<?\\xa9mCr-mS\\x1b@\\x9a\\xe0d{c\\xf3\\xe2\\xa1\\xd5\\x10\\xf6\\xd4-\\x8b\\xe2)&|\\x1e\\xd6\\xfdG\\xe2\\xc3\\x1f\\x91\\xab:l\\xd1]\\xeav\\xd6\\xf3J\\x90\\xc6\\xee7\\xb3\\x8eB\\xe3\\xd8\\xe2\\xa7\\xb7\\xf0\\xccx\\xc4\\xd7\\xd7\\x0c\\x0f$@\\xa0)\\xfcH5g\\xfe\\x11xb!\\xa2\\xb6\\x84\\x9e\\x8cg\\x9d\\x89#\\xfd\\xd01Y\\xba\\xa3;\\x08|=\\xa0\\x1b9.\\x85\\xcc7\\x10\\xc5\\xf3;.\\xd3\\x81\\x8c\\xf5\\x1f\\xcb\\xad7P\\xd64{\\x0b\\x18\\xe0\\xb0\\xb7\\x92\\xe4\\\\\\xc2J\\xad\\xb2\\xa9\\xda1\\xc6\\xfer\\x0f\\xd6\\xb9\\xc8\\xf4h\"\\xdb\\xb9c\\xf9\\x07\\x02(\\x80\\xc7\\xe2y\\xabV\\xfa\\x15\\xad\\xf9\\x94\\xf9\\xd2E\\xe5F_\\x0e\\xecCc\\xb62\\x07\\xe9R\\xea$+3\\x93\\x9a\\xda\\xfe\\xe4+Ih\\x8b\\x1a\\x9c\\x86\\x96E\\xc8\\xe3\\xa1\\xe6\\xba\\x8d\\x1b\\xc5\\xf7\\x9atPZ\\xcb\\xfd\\x98\\xf6p)FH\\xd9\\xbc\\xd1\\xe8s\\x9cc>\\xd5J\\xd0[\\xc6\\x82[\\x8bH\\xa1\\x04\\x9d\\xa6;\\x0f9\\xd8\\x1e~\\xf7\\xf0\\x8cg\\xa9\\xeex\\xe2\\xad\\x93%\\xd2\\xdcA\\xf3\\x98\\x86\\xc0\\x8aA\\xdb\\xc1\\xcf~;~\\x94]\\xb5q\\xdb\\xb9\\xa2\\xfe(\\xd5.\\xad\\x1a8U\\x83HII\\xa2\\xb7pB\\xe7\\x8c\\x1f\\xbb\\xc0\\xef\\x8a\\xe7.\\xb4\\xbb\\x8dN\\xfb\\xcd\\xd4\\xaenf-\\x8d\\xdef\\xc1\\x80\\x01\\xc69\\xc8\\xfc\\x075\\xb7i\\x13\\xc3h\\x91\\xb2\\xf2:\\x80r*\\xe4J\\x8e\\xc1\\x1c\\x13\\x81\\x92?\\n\\x9ef\\x16F4>\\x17\\xd2L\\xa8\\r\\xbb\\xc8A\\xc3n\\x9d\\xbeo\\xd7\\x02\\xa4\\x8bA\\xd1\\x1b\\xcc\\xf2t\\xdb \\xc8yo\\xb43c\\xeb\\x8a\\xd8\\x92Fh\\xb8\\xdc\\t\\xc1\\xca\\x9eGP\\x7fZ\\x9eM\\t\\x06\\xbe\\xbaa\\xd4.Z9R&29Ve$\\xb1 d\\x11\\xd8v\\xefB\\xd4\\x1b2\\x93F\\xb0\\x8a/6\\x0bM8\\x80\\t\\x0e\\x90\\x03\\xb8\\xff\\x00\\xbcj\\x08-\\xf4[[x\\xa16\\x16\\xa1\\xd9\\x15\\x9blj\\x0b\\x92:\\x9f\\xadh\\xcfn\\xb6\\x96\\x9a\\x8d\\xb8y\\x1cB\\xf2\\xc6\\x19\\x8f,\\x07\\x18\\xe3\\xbdW\\x16k4\\xb3\\x99\\xd2\\xde@\\x06#\\x1b9S\\x93\\xce\\x7f\\x1aw\\xb0\\x9b\\x056\\x91eb\\xb3\\x82-\\xa3\\xfex\\xa8\\x07>\\xa7\\x15\\x98\\x9a\\xb5\\xc41-\\xbci\\x03\\xdb\\xa3\\xb3\\x88\\xde\\xd67\\x19=z\\x8faV\\xe4\\xb2a)\\x81g\\x9b\\xca\\xd8\\\\\\x8e8\\xe7\\x81\\xd3\\xd2\\xb9\\xe5\\x85\\x12\\xed\\xe42\\x08\\x90\\xf4@\\x19\\x89?\\x86\\x07=j\\x93`u\\x1a%\\xcc\\x9a\\x87\\x88l\\xec\\xe7\\x8a\\xcf\\xca\\x99\\xb0|\\x9b]\\x8c\\xab\\x82O\\'\\xa1\\xc0\\xed\\x8a\\xb34\\xd0\\xacN#\\xd3m\\x1eNpK\\xc8\\xa1\\x89\\xe8\\x0b\\x06\\xc8\\x15G\\xc1\\xa9\\n\\xeb\\x9fi[\\x86\\xdf\\x14SI\\xb0\\x90v\\x81\\x19\\xe78\\xcfR*\\xda(\\xd9\\x16\\x00\\x1fw\\x189\\xe2\\x98\\x99\\x9a\\xb2\\xeb\\xa8F</\\xa7\\xbarv\\xae\\xa1*\\xf3\\xff\\x00}\\x7f<\\xd5\\xf4\\xb8\\xf3cI$\\xd1Hm\\xbb\\x9b\\xfd=\\xb2\\xa3\\xb8\\xc0\\x18?\\\\V\\xc1q\\xd7\\xae+7n\\xd8B\\xe3\\xee\\x80?!@X\\xe3\\x80@\\x00E\\x08\\x07 /\\x18\\xaa\\x97\\xda\\\\s\\xdd\\\\\\xee\\x98-\\xbc\\xc8\\xac\\xbeJ\\x86\\x91_\\x82I\\xc9\\x00\\x0c\\xe4w\\xab`|\\xd9\\xa7r=x\\xae\\x89EI\\r6\\xb6+\\xc3i\\x1d\\xbd\\xc4r\\xc3\\x0cbE\\x8c#Nr\\xd20\\xc7Nr\\xa3\\xf0\\x02\\xa7 \\x19\\x0b\\x90\\x0b\\x1f\\xe2\\xc74ew\\xa8fQ\\x93\\xdc\\x8a\\x82k\\xb8bv\\x8d\\xa5P\\xc0s\\x80$\\xff\\x00\\xd0I\\xc7\\xe2E%\\xcb\\x1d\\x86\\xe4\\xd9b\\x93#\\x93\\x9c\\x81\\xddAo\\xe5]\\xa6\\x9b\\xe0\\xabYm\\xed\\xee\\xae.\\xdaC\"\\x06U\\x8f\\x01[#\\xfb\\xb8\\xff\\x00\\x1a\\xb9\\xf6\\xfd\\x03E\\xb5w\\xd3\\xd2)\\'\\x8d\\x8ayp\\x8d\\xae\\xcc\\x0e\\x0fn):\\xa4\\xdc\\xf3\\xa9.b\\x85\\x984\\x8aq\\xda2\\x19\\xba\\xe3\\xa7c\\xf5\"\\xaaK|\\xcc\\x8d\\xb4 N0nU\\xcb7\\xd1c>\\xdd\\xdb\\x15\\xa3\\xaa\\xdb\\\\\\xea\\xfa\\xc1\\xb8\\x8e%\\xb2\\x82f\\xcf\\x96%\\xf3\\x18\\x12rz\\x1f\\\\\\xd5\\xa3\\xe1\\xbd>+r\\xb2\\x1b\\x89]\\x08l\\xb0\\xdd\\x9f`\\xb88\\xefY\\xca\\xa0\\xd1\\xce<\\xb7\\x13\\\\<\\x16s_L\\x99\\xdb\\xe5\\xc1\\xb8\\x03\\xf5\\x00\\xe3\\xf3\\xcd[\\xb7\\xf0\\xd6\\xa96\\x1eD\\x8e\\xd5Oy[\\xe6\\xfc\\x85uz`\\x8e8\\x7ft\\xcc\\x8b\\x92\\xdb#*G<\\xe3\\xa5[\\x91c\\x04\\xba\\xc3\\x18o\\xef\\xed\\x1b\\xb3\\xf5\\xac\\xdc\\xd8\\xcev\\xd3\\xc26\\xccC]Ks0\\xf4D(\\x87\\xf1\\xebZ\\x16ze\\x8d\\x84\\xe7\\xc8\\xb2k|\\x1col\\xba\\xfb|\\xc4u\\xab\\xa9,\\x999c\\x8a\\xb5oy<(\\xe9\\x1c\\xce#\\x95J\\xba7\\xcc\\xa4{\\x83Sv\\xc0\\xadv\\'X\\xdew\\x0eT!a\\x86#\\x1cu\\xe2\\xa5\\xb5\\x95\\xd9RX\\x99B\\xc8\\x01%\\\\\\xf4\\xc7\\xafZ\\x929\\xf6\\xa8B1\\x81\\xb4c\\xd3\\xb55\\xe0\\xc8\\xfd\\xd9#\\x1f\\xc4O\\x1f\\xcf\\xff\\x00\\xadE\\x80q\\x1b\\x87\\'<w\\xa4\\x1c`g\\x8e\\x98\\xa8\\xf9U\\x1b\\xb3\\xf8\\x9e\\xb5\\x1b\\x11\\xdf\\xd2\\x95\\x80|\\x93\"p\\xcc\\xa0\\x93\\xd35$s\\xb4J\\xe2\\'+\\xbcmc\\x8c\\xf1\\xdf\\xaf\\x15Ry\\x19 C\\x1e\\x01\\x0er\\x07\\xe1VY\\x8b\\x10}@\\xe9CI\\xa0\\x1a\\xd9\\x8e\\x19R\\x16T\\xf3\\x10\\xa3f=\\xd9\\x04\\x1e\\x9c\\xf0hW\\xf9\\x156\\xb6\\xd5\\x1c\\x7f\\x859\\xc9\\xdb\\x8e\\xf4\\xaa9\\xa7\\xe4\\x04\\x90#\\xc8\\xbbcBH\\xeb\\xedR\\xa2H\\x92\\x1c\\xa6\\x0e\\xd3\\xee:S\\xac\\xdc)}\\xc4\\x0e\\x9f\\x8dL\\xe5\\x1d\\xf2\\x19N\\x14\\xf7=\\x7f\\n\\x90EHK\\x9d\\xaa@\\x1c\\xe39\\xf7\\xa9\\xc6\\xf0\\xdb\\xb7>\\xf3\\xdc1\\xcf\\xe7P\\xdb\\ty.\\xc8X\\x9c\\x8c\\x0fO\\xff\\x00UL\\xfc9\\x19\\xe3\\xb7\\xd2\\x80\\x1by\\x18K<\\x7fzD\\x1c\\x9c\\xe4\\x96\\x1c\\x9f\\xcf5\\x02)\\xf2f\\x07~\\x1b\\x00\\x05 c\\xaf\\xe3\\xdf\\xf4\\xa9\\xaf\\x1b-\\x04g%]\\xc7\\xd0`\\x13\\xfd*\\x84\\xba\\x84\\x82\\x06\\x96;;\\x89P\\x12\\x07\\x97\\x82\\xcd\\x83\\x83\\x81V\\x84\\xc6\\xce\\xca\\xb7Wrg\\x85\\x85S$\\xf1\\xceMs\\n\\xadwp\\xa9\\r\\xc8g\\xc3\\x1c\\x08\\xd8g\\nN\\x07\\xcc\\xdd1\\xd7\\x8f\\xa5iO}u\\xb2\\xea\\xe1t\\x99\\xda\\x06 7\\x99\\x1b\\xf9\\x8a@\\x1f\\xc0\\xaaN9\\xf4\\xaa\\xe9\\xa8\\xe9\\x91\\x961\\xc1q\\x04\\x8e\\x003\\x1b\\x16\\x05\\x7f\\xe0{x\\xe3\\x8e\\xb4\\xc1\\x1a~\\x15I\\xac.o\\xce\\xa1\\x1c\\xd1\\x1f\\xb0\\xc8\\x17\\xceM\\xa0\\xbb`\\x00\\x0f!\\xb8\\xcdl(\\xe5N\\x00\\xc7AUm\\xe3\\x96M\\xa5\\xc8\\xda\\xaa\\x02\\x8d\\xbd{\\x93\\x9e\\xe4\\xf3W\\x04{\\x7f\\xfdUI\\x89\\x93y\\xa7\\xae\\xda\\x88\\xa8#\\xbes\\x9a\\\\c\\xbd(\\xc1\\x14\\n\\xe7\\x15o\\x1c\\xd7s\\xc7\\x1d\\xbcF_0\\xe1v\\x10I\\xfa\\x0e\\xb5\\xd4\\xe9\\xde\\x07\\xba\\xb8\\xc3_\\xce-\\x94s\\xfb\\xbf\\x98\\xfe#\\x1c~b\\xb8;\\x0b\\xbdR=B\\xde\\xfe\\xda\\r\\xed\\x1c\\x99\\xfbE\\xd6B\\x1f\\xab\\x13\\x92>\\x86\\xba\\xff\\x00\\xed\\xadv\\xea\\xd2T\\x92\\xe6\\xdd\\xc4\\xb8Y<\\x98B\\xc4\\x07C\\x8d\\xdc\\xe0\\xfbU\\xb9\\xb6=Mmb\\x1d\\x07H\\xd1Z\\xd1!o:\\xe22cx\\xe1bd \\xf5,8\\xc6}My\\xa2X\\xb6\\xf6\\x12I\\x0c%O\\xdc\\xce\\xe7\\xff\\x00\\xbeEu\\xc9d\\x96\\x91a\\xe6o,/\\xdc\\x84\\xe7\\x8fL\\x90I\\xfc=\\xaa\\xd5\\x90\\x81`\\x0fm\\x0f\\x90\\xc4\\x9d\\xc7n\\x1c\\x9fs\\xd4\\x9a\\xcd\\xc8kC&\\xc7K\\xbc\\x8c\\xab$\\xf7E\\x90|\\xb2\\xdc\\xcb\\xf2\\xa8\\xc7E@s\\xfa~5y4\\xd5A\\x99ei\\x1c\\x12x\\xf9\\x13\\x93\\xfd\\xd0\\x7f\\x995x\\x90\\tl\\x92OsQ<\\x8a9\\xceFq\\xc5Kl,V\\xb7\\xb6\\t{>\\x1f1H\\x00\\x11\\x04UU\\x03\\xe8+]6\\x9bf\\x8d\\x91v\\x95\\xc3q\\xef\\xfdk>3\\xb9\\xd8\\x8e*\\xd4e\\x8eT\\x11\\x82\\xa7\\x19\\xf5\\xedHdp@\\xeb\\x12Ekj\\xf2\\x15\\x19\\xda\\x8c\\xbf*\\x8eI;\\x88\\xe2\\x9a\\xb2\\x17\\x00\\xf3\\x822\\x08\\x1di\\xc2I\\xa3>tL\\x15\\xd1\\xb7\\xae@onr?\\xa557K\\x16\\xe7`\\x1f\\x9c\\xf6\\xf7\\x1d?\\x1a\\x047`\\xce9\\xfc\\xe9\\xc0c\\x8c\\xe6\\x82\\x84I\\x82\\xc2\\x9a\\xdc>(\\x19#7\\x07\\xe4\\xfdjH\\xdb\\x001<\\xfeu\\x18@\\xd9\\x19?L\\xd4\\x85\\x14)\\x1c\\xe2\\x80&VV_\\x99W\\xae\\x00-\\xc7\\xe1I$!S(\\x01\\xf5\\x18\\xa8\\x83\\xf9i\\xf2\\xa1<\\xfa\\xf7\\xa7<\\xab\\xb1\\x8fR\\x0e\\x08\\xc6p\\x7f\\x1a\\x00\\x19A\\x83\\x05y$\\x90:b\\x9c\\x867\\x1f\\'\\xca\\xfbzg \\x81Y\\xb7\\x17\\x17\\xf2\\xde[-\\xba\\xaf\\x92W\\xe7g#\\'\\x07\\xa7\\xf2\\xab\\xb6\\x9c.\\xe6U\\xdc\\t\\x00\\x81\\x8cR\\xb8\\x12)\\xdc\\xf9#\\x8cu\\'\\x02\\x9c\\xdf.r1\\x8e\\xbcR6\\t\\x07\\x00\\x9a\\x99\\xbel\\xb0a\\xcf<f\\x98\\x88\\xd4\\xf0\\x08\\xe9\\xedQ\\xa4\\xac\\x0c\\x85\\x18\\x96\\xda\\xd8\\x1d\\x89\\xc7\\x1f\\xadYT\\xc8?9\\xce3\\x8cQ\\x1a\\x93!<\\xe4\\x03\\xfc\\xa91\\xa1\\xcb\\x95=i\\xd2 \\x1f08\\x00\\x10Ni\\xec\\xa3$\\x9a\\xa3\\xac\\xc3%\\xd6\\x8du\\x14\\n\\xcd!\\x8f\\x81\\xc7\\'\\xa1\\x14 \\x1fy\\xb9d\\x89\\xc9\\xc2\\xa2\\x97\\xc9\\xef\\xf2\\x9fO\\xaf\\xe9Ume\\xb7\\xb5\\xd2\\xad\\xe5\\xba\\x9e(c\\x00e\\xdd\\x80PO=OJf\\x95\\xa7\\xcfi\\xe1\\xe8-\\xda\\xd5\\x92U\\x05v.\\t\\x19\\xe7<\\x1a\\x96\\x01,_$\\x96\\xb7\\x0f\\xb7\\xb3\"\\x9cc\\xdc\\x1cUh\\x84\\xd0\\x87\\\\\\xd3\\xfe\\xff\\x00\\xdb\\xed\\xd5[\\xee<\\xac\\x14?|\\x82q\\x9f\\xa8\\xa9\\x86\\xb3\\x05\\xc3yis\\x031\\x18\\n$RN}\\x07zV\\x95Y\\xd3\\x1ac\\xca\\x08\\xf9\\x99\\xa2\\xfb\\xa3\\xd38\\xe7\\xf0\\xa8\\xa4\\x8a\\xc5#.\\xbaj\\xc4\\x15\\xb2\\xac-\\n\\xf3\\x9c\\xf4\\xc09\\xa0E\\xc4\\xe7\\'9\\xe7\\xaf\\xe1O\\x03\\xd6\\xa1\\xb7p\\xc9\\x9c0\\xf9\\x8f\\x0c\\xa4\\x1f\\xc8\\xd4\\xf9\\xe35W\\x00 R`Rn\\xa3&\\x98\\x19\\xfeTL\\x10\\xb8\\x0f\\xb7\\x9c0\\x05G\\xd0c\\xf9\\xd3\\x8beH-\\x91\\xd8S\\x1c`p\\t>\\xd446\\xadf\\x97v\\xf3\\xc8g-\\x89VG\\xc8>\\x9b\\x00\\x1f\\\\\\xf3Y\\xa1\\x8d;YN\\xe0\\x0f\\x1d\\r \\x93\\x800\\x14SI8\\xeb\\xda\\x9a\\x0f\\x04g\\x9a\\x00xe\\'\\xb1\\x1e\\xb5\\x13\\x90[j\\x9c\\x9faC\\x13\\xb0\\x8f\\xd6\\x92.\\xf9\\xeb@\\xc9\\x15J\\xd4\\xcaq\\x82\\x06H\\xce*1\\x8c\\xd4\\xb1|\\xc0\\x8c\\x80\\xaaFs\\xdf4\\xc4?aR\\xd2\\x14>Z\\xa9\\xfb\\xf9\\x00\\x828\\xe7\\xf1\\x15\\x027\\x946`<Lw`\\x12y\\xe7\\x90z\\xd2^J|\\x99!\\x8a0fd\\xda\\xac\\xc0rGN\\xd5R\\xc9f[x\\xbc\\xd7\\xde\\xc0\\x90px\\xcf\\xe3I\\xb1\\x97\\xfc\\x9d\\xaf\\xb9\\xa5R\\xa7\\x95\\xc1\\xc9\\xfc\\xa8x\\xc7\\xdfVc\\xce\\x1bp\\xf5\\xe9\\xfc\\x8dH!u\\x07\\xb8\\xcfni\\xa2_.FR\\xaar\\x00*\\xc0\\xfa\\xd0\\x03\\xd4\\x00A\\x0b\\xc9\\xa9\\n\\xf69\\xcf^\\x94\\xa5\\xf0\\xea\\xe1UH\\\\\\x0cq\\xc1\\xf44\\xec\\xfc\\x81\\xf0y\\xe1\\x8eG\\x14\\x80jDpz`\\x8ey\\x06\\xa2\\x99\\xa2\\x03!\\xb3\\xd38^\\xa7\\x18\\xa7\\xb1,\\x08\\x03\\x03\\xd4\\x1e\\xb5\\x9f*:\\xbes\\x91\\x91\\xeb@\\nX\\xbcjV#\\xb1\\x1c\\xe7#\\x9e\\xdf\\xfdz\\x92)\\x8e\\xe7\\xda\\xdf\\xc5\\xdcQ\\x02\\x10\\xce\\xa0\\xb8+\\xf3n\\xe8\\x074\\xd2\\x1b\\xed\\x0e\\xacG8<w\\xa1\\xa0\\xb9/\\x9f\\x18l7\\xde\\x1c\\xe5i\\xd2J\\xb8\\x05&\\x1fBj\\x8a\\xc5\"\\xdc7\\x98\\xe0\\xa9?&\\xde\\xc2\\x9b{\\x00t_-\\xca\\x8c\\x8c\\x9c\\xf2)\\x81\\xa5\\x14\\xa0\\x90\\x0b\\x1e\\x98<\\xfbb\\xa5\\xb0!\\xa7q\\xbb\\xa2\\x13\\x82qPZZ\\xc7n\\x8d\\xfclNI5i\\x14Ex\\xc5F\\x0f#\\xf0\\xcd&\\x08\\xb2\\xe0\\x958\\x14\\xc1*\\xa2|\\xf9\\x1c\\xf1\\xd2\\xa4gQ\\xc6\\xd0\\xccz\\x03H\\xa9\\x1e\\xed\\xcc\\xa1\\x8f\\xa9\\x19\\xc7\\xd2\\x80\\x1f\\xb9\\xbc\\xc0R6#o\\xf1`~\\\\\\xd3$\\xf9FDL\\xb9\\xf4\\x00\\xff\\x00\\xf5\\xea\\xc4lK\\x0e\\xa7\\x820~\\x94\\xa0\\x9fN\\x94X\\x132\\xb5\\x08\\xa4\\xbc\\xd3\\xe6\\xb4\\x8au\\x89\\xa4\\x1bT\\xf2\\xa5}I\\xe7\\xda\\xb3\\xb4]\"\\xf3K\\xb8g\\x93Tk\\x98\\xca\\x95\\xda\\x1d\\x8e:z\\x93\\xe9\\xda\\xb7\\xa6\\xb7Ip\\x1d\\x03g\\xbe9\\xa8\\xd6\\xd9\\xe2Q\\xe5\\xb6@\\xfe\\x16\\x19\\xa2\\xf6V\\x19\\x1cQ\\x08#*\\xccZFfr\\xc7\\xfd\\xa2O\\xaf\\xbf\\xe9Rq\\x8e\\xa0S\\x98\\r\\xad$\\x90l r\\xd9\\xeb\\xfa\\xd5{\\xab\\x85\\x82\\x18\\x9cD\\x1cI\\x922\\xc7\\x18\\x1f\\xe4\\xd5E\\x92K\\x81\\x9e\\xb4\\xa0\\x0c\\xf5\\x15@j\\x19\\x18X\\t\\'\\x9cn\\xed\\x9ct\\xc5M-\\xd2\\xc3o\\x1c\\xcd\\x1ba\\xc18\\xcf\\xb6j\\xc8+\\x91\\xd5[<\\x8c\\x1f\\xc7\\xa1\\xac\\xebtt-k\\xe5\\x91\\xcf\\xca\\xa1\\xb3\\xd3\\xa7J\\xbc\\xe0\\xba\\x05\\x1e\\x9f)\\x038>\\x9c\\x7f:\\x82\\xe8e\\xd4\\xe7iP\\x06F\\x01\\xf7\\xa8,q\\r\\xf3d\\x1c\\xfeT\\xc8\\xc6\\xf6$\\x02v\\xf3\\x91\\xce>\\xb4D\\xf1\\xbc#{4\\x87?)&\\x94I\\xb1\\xd7n\\xd5\\xdb\\xc8Px\\xa41\\xcc@BI\\x1fJH\\xd5F\\\\\\x9a\\x9b\\xec\\xf6\\xed\\xfcY^\\xbbA\\xe6\\xa4\\x8c\"3\\r\\xa3\\x0c{\\xf3\\x81\\x8e\\x99\\xa0DJ\\xa7 \\xf6\\x1dMZH\\xc4J\\xe6O\\x902\\xe4w$\\xf6\\xe2\\x9d\\xe5 \\x8dY\\xa3Brx+\\x9ei\\x8c\\xcc\\xceK\\x1c\\x9e\\x94\\xee\\x04\\xab\\xe4\\xa0\\x12\\xaa\\x8d\\xf9\\xcf\\xcc{\\xfeUJ\\xfc2\\xac\\xa5S\\x8c\\x9d\\xac\\xbd\\xc5X\\xf3\\xb6\\xa9M\\xc3\\x83\\x9e\\xa7\\xd2\\x929K\\xc0\\x1aPc\\'*7\\x1e\\xa2\\x90\\x15\\x95\\xb6\\xc3\\xbc)\\x07n\\xe0O\\x02\\x9e\\x92J\\xecY\\x06\\xe4#\\xae2\\rGl\\x17\\xcb{v\\'\\nv\\xf5\\xed\\xff\\x00\\xea\\xa7\\xc4\\xabm\\x10\\x8dH\\x01x\\x03=\\x05\\x00%\\xc5\\xd4\\x8b7\\x97\\x1c@\\x9c\\x0eH\\xebV\\xd5|\\xd0#|\\x80j\\xaa\\xf9f\\xe1e8$\\x1f_^\\xb5a\\xdf\\xcap\\xf9\\x19\\x1c\\xf3@\\x0c\\x0ep\\x00\\xc8\\xe3\\xa55\\x94\\xb1\\xe1\\x804\\xc4\\xf9\\xdc\\xb1^\\xbc\\xd5\\x90\\x07\\x18\\x00R\\x19*(,G\\r\\xb8d\\x828\\xf5\\xaasB\\x05\\xd2c9*F=*\\xf4g&2rA \\x1c\\x0e\\x9c\\xd5[\\xa4o\\xdd\\x9c\\x93\\x86\\xc0\\'\\xad\\r\\x88c\\xc4\\xb9\\xe4\\x92@\\xe9\\x8aQ\\x1a\\x90U\\x87\\x1fJ\\x98\\xb18\\xc8\\x1d)UI\\x1d\\x814\\xee\\x04\\x99\\x05Fs\\x9cS\\xd7\\x89\\xf7c\\xe51\\x16\\xe7\\xbe\\rW\\x0c@\\xecNqV#Fu\\xdf\\xbc\\xb0\\xf2\\xca`\\x0c\\xff\\x00\\x10\\xff\\x00\\x1aCB\\xab\\x1c1<1\\xfeT\\xf0v\\xa9%\\x8e\\x07\\xad5#2\\x120\\x7f\\x01J\\xd1fTB\\x1b\\x1dN}\\xa8\\x01\\xe8\\xb2I\\x86\\xdcQ{\\x01\\xc94e\\xe2\\xe0>\\xf0=x\"\\x8f\\x9b\\x9ex\\xa6\\xf0\\x18\\xe3\\x92\\x06i\\x80\\xe31$\\x82\\n\\x9f\\xce\\xab\\\\^\\xf9X\\xd8rq\\xd4\\xd2\\xddLAX\\xf0\\x0f\\xae*\\x8b\\x8d\\xcd\\xf2\\x83\\xb8\\x9e\\xb4\\x80\\x8aYZgf\\x99\\xc6\\xec\\xe7\\x19\\xa2&\\xb9f\\r\\x0c\\x920\\x03\\x00o\\xc0\\x1f\\xe75\\xa1od\\x03fE\\x05\\xbbw\\x02\\xa6x\\xc6p\\xa0\\x13\\xd8c\\xad\\x02(\\xa9\\xb9\\xc0\\x05\\xf9\\xc6I\\xc1\\xa4{k\\x89\\xc6\\x01\\x8d@9\\xc8Q\\xcf\\xe3\\xde\\xb4H\\x93)\\x1c1y\\x933mU\\xdd\\x8c\\xf3\\xfa\\x01\\xcf\\xe5Y\\xfav\\xa9-\\xf8\\x0c\\xbau\\xdb#!\\x91\\x02\\x14b\\xea\\t\\x05\\x94g\\xee\\xf1\\xd4\\xe2\\x8dG\\xa0I\\x02!o4\\x82\\xad\\xff\\x00,\\xf2G\\x1e\\xff\\x00\\xfdj\\xc8\\xbe\\x80Mx.\\x19\\xa4\\xc0M\\x9eZ\\x1f\\x94\\x1e\\xf9\\xfd?*\\xde\\xb8E\\x99\\x14\\xa0\\xdc\\xe0`\\x803\\xf4\\xaa\\x93\\xdb\\xf9pn/\\x86f\\x03\\x85\\xc0_\\xf1\\xfa\\xd3\\x0b\\x98i+\\x80#A\\xc2\\xfc\\xbd:U\\x0b\\xadN\\xe2;\\xf3\\x14q+(\\xc7c\\xb8\\xf1\\xda\\xae\\xdd\\xb4\\xf1\\xee*T3}\\xd2;\\x1fZ\\xc4[k\\xc9\\xafY]\\xc3Jy2\\x12p8\\xfc)\\xa0G]i#0;\\xba\\x9e\\xb4G\\xa9B\\xf7f\\x04;\\xc8\\xea{UkA#\\xc0\\xa1\\xe4\\x07\\x8c\\x1e8\\xfa\\xd5\\x8b=>8\\xa7\\x12\\x00\\x141 c\\xb5\\x00i\\x89K\\xa31<\\x81\\xd3\\x1f\\xe7\\xb5D\\xd2g\\x18\\xc8=\\xe9\\xd0\\xed\\x89\\x88\\x90\\x9c0!\\x85D\\xa8\\xa4\\x9f\\x98\\x9aB\\x1fl\\x9f\\xbd$\\x8c\\x96\\x06\\xadm;YW\\x03\\xd3p\\xe0TH\\xbb\\x19v\\x81\\xf8\\xd5\\x82\\x99;Hlu8\\xe2\\x9e\\xe0\\x8a\\x02%\\x8e\\xf0\\xe4m.3\\x81\\xd35c\\x18$\\xe0sL\\xb9A\\x1f\\xcc\\x8er\\x84|\\xa7\\xb5)\\xed\\xcd$\\x03v`\\xf0:\\xf5\\xa6\\xcew\\xa9\\xcf\\\\S\\xcf\\xd6\\xa3`\\x00$\\xd02RT\\xa4{8;\\x00o\\xad*\\xe4\\xf7\\x14\\xb1\\xa2\\xf9D\\xe3\\x9d\\xbcg\\xfc\\xfb\\xd20P;f\\x81\\x13\\xc4q\\x18\\xc9\\x1c\\x1ae\\xf2\\xa9v\\xc8\\xdaA\\x0c\\xb8\\xe8i\\x10\\x8f-\\xc7\\x07\\xa7j.\\x18m\\xe4\\x12Z>{{\\x7fJL\\x10\\xc2A<\\x1ax`x\\xa8b|(\\xf4\\xc5J\\x0eE\\x03\\x0c\\xe1\\xb8\\xfeT\\x1b\\x91\\x14\\x0c@n\\x1drT\\xfa\\xe7\\xfc\\x05$\\xab\\xe6D\\xe9\\xfd\\xf5\"\\xa2D\\xf2mc\\x83\\x00*\\x80\\xbc\\x0ct\\xf6\\xa6\"\\xdcWA\\xd8d8\\xc9\\xc0\\x0c{\\xd5\\xa5/\\xe7\\x0e\\x0e\\x02\\x91\\xcfz\\xcd\\x89\\x98H\\xa5\\xd4`\\x11V\\xbe\\xd2\\xbei \\xe3\\x0b\\xfdi\\x0c\\x97{\\x15\\xec8\\xa1\\x1f9\\'\\xf3\\xa6\\x01\\x95\\x04\\xe4\\xe6\\x95\\x87\\x97\\x1br2~\\xe8\\x1dh\\x02\\x8c\\xf2\\x12O~8\\xa5\\xb5\\x1c\\x92@\\'\\xa6i\\x84e\\xf7g\\xdf\\x8a\\xbb\\x0c\\x18E\\xe7\\xad\\x00N\\x84\\xecc\\x9e\\x8b\\xfa\\x9ac\\xc8#G~\\xa5Q\\x9c\\x01\\xd4\\x90\\t\\xe2\\xa4s\\x1cQ\\xec\\'%\\xcfO`?\\xc4\\xd1k\\x02\\xdd^\\xdbB\\xcb\\x94\\x92dF\\x03\\xb8\\x07s\\x0f\\xc9i\\xa0\\x1f7\\x85\\x0e\\x88t\\xcdF/\\x10_M\\xe6\\xcb\\x89\\xe0r\\xad\\x10\\x1bK6\\x0e29\\x18\\xeb\\xde\\xaa\\xc5\\xa5\\xea\\xf6\\xba:\\xeb\\x89%\\xaa\\xe9\\xad\\xb5b\\x8f\\xee\\xb8\\x8bx\\n\\xa3\\xe5\\xc9\\xc99\\xfb\\xc0`\\xf45\\xad\\xae\\xac\\xcfooi\\xe4\\xbcw\\x13\\xa3HQ\\x9fxW\\x96M\\xa0\\xe7\\xbe\\x00\\'\\x1fZ\\x9fQ\\xbcc\\xa7ZB\\x92\\xb7\\xd9\\xd5\\xe4xw\\xc5\\xb0\\xaaF\\x02(#\\xbf\\xccA\\xcf\\xd3\\x8ad\\x9f\\xff\\xd9'>"
      ]
     },
     "execution_count": 29,
     "metadata": {},
     "output_type": "execute_result"
    }
   ],
   "source": [
    "img_raw"
   ]
  },
  {
   "cell_type": "code",
   "execution_count": 30,
   "metadata": {},
   "outputs": [
    {
     "name": "stdout",
     "output_type": "stream",
     "text": [
      "(256, 256, 3)\n",
      "<dtype: 'uint8'>\n"
     ]
    }
   ],
   "source": [
    "img_tensor = tf.image.decode_jpeg(img_raw)\n",
    "\n",
    "print(img_tensor.shape)\n",
    "print(img_tensor.dtype)"
   ]
  },
  {
   "cell_type": "code",
   "execution_count": 31,
   "metadata": {},
   "outputs": [
    {
     "name": "stdout",
     "output_type": "stream",
     "text": [
      "(256, 256, 3)\n",
      "0.0\n",
      "1.0\n"
     ]
    }
   ],
   "source": [
    "img_tensor = tf.cast(img_tensor, tf.float32)\n",
    "img_tensor = img_tensor/255.0\n",
    "print(img_tensor.shape)\n",
    "print(img_tensor.numpy().min())\n",
    "print(img_tensor.numpy().max())"
   ]
  },
  {
   "cell_type": "code",
   "execution_count": 32,
   "metadata": {},
   "outputs": [],
   "source": [
    "def load_and_preprocess_image(path):\n",
    "    image = tf.io.read_file(path)\n",
    "    image = tf.image.decode_jpeg(image, channels=3)\n",
    "    image = tf.image.resize(image, [256, 256])\n",
    "    image = tf.cast(image, tf.float32)\n",
    "    image = image/255.0  # normalize to [0,1] range\n",
    "    return image"
   ]
  },
  {
   "cell_type": "code",
   "execution_count": 33,
   "metadata": {},
   "outputs": [
    {
     "data": {
      "text/plain": [
       "Text(0.5, 0, 'lake')"
      ]
     },
     "execution_count": 33,
     "metadata": {},
     "output_type": "execute_result"
    },
    {
     "data": {
      "image/png": "[encoded data removed]",
      "text/plain": [
       "<Figure size 432x288 with 1 Axes>"
      ]
     },
     "metadata": {
      "needs_background": "light"
     },
     "output_type": "display_data"
    }
   ],
   "source": [
    "i = random.choice(range(len(all_image_path)))\n",
    "image_path = all_image_path[i]\n",
    "label = all_labels[i]\n",
    "\n",
    "img_tensor = load_and_preprocess_image(image_path)\n",
    "plt.imshow(img_tensor.numpy())\n",
    "plt.xlabel(index_to_label.get(label))"
   ]
  },
  {
   "cell_type": "code",
   "execution_count": 76,
   "metadata": {},
   "outputs": [],
   "source": [
    "img_ds = tf.data.Dataset.from_tensor_slices(all_image_path)"
   ]
  },
  {
   "cell_type": "code",
   "execution_count": 77,
   "metadata": {},
   "outputs": [],
   "source": [
    "AUTOTUNE = tf.data.experimental.AUTOTUNE\n",
    "img_ds = img_ds.map(load_and_preprocess_image, num_parallel_calls=AUTOTUNE)"
   ]
  },
  {
   "cell_type": "code",
   "execution_count": 78,
   "metadata": {},
   "outputs": [],
   "source": [
    "label_ds = tf.data.Dataset.from_tensor_slices(all_labels)"
   ]
  },
  {
   "cell_type": "code",
   "execution_count": 79,
   "metadata": {},
   "outputs": [
    {
     "name": "stdout",
     "output_type": "stream",
     "text": [
      "airplane\n",
      "airplane\n",
      "airplane\n",
      "airplane\n",
      "lake\n",
      "airplane\n",
      "airplane\n",
      "lake\n",
      "airplane\n",
      "lake\n"
     ]
    }
   ],
   "source": [
    "for label in label_ds.take(10):\n",
    "    print(index_to_label[label.numpy()])"
   ]
  },
  {
   "cell_type": "code",
   "execution_count": 80,
   "metadata": {},
   "outputs": [],
   "source": [
    "image_label_ds = tf.data.Dataset.zip((img_ds, label_ds))"
   ]
  },
  {
   "cell_type": "code",
   "execution_count": 81,
   "metadata": {},
   "outputs": [
    {
     "data": {
      "text/plain": [
       "<ZipDataset shapes: ((256, 256, 3), ()), types: (tf.float32, tf.int32)>"
      ]
     },
     "execution_count": 81,
     "metadata": {},
     "output_type": "execute_result"
    }
   ],
   "source": [
    "image_label_ds"
   ]
  },
  {
   "cell_type": "code",
   "execution_count": 82,
   "metadata": {},
   "outputs": [],
   "source": [
    "image_count = len(all_image_path)"
   ]
  },
  {
   "cell_type": "code",
   "execution_count": 83,
   "metadata": {},
   "outputs": [],
   "source": [
    "test_count = int(image_count*0.2)\n",
    "train_count = image_count - test_count"
   ]
  },
  {
   "cell_type": "code",
   "execution_count": 84,
   "metadata": {},
   "outputs": [],
   "source": [
    "train_ds = image_label_ds.skip(test_count)\n",
    "test_ds = image_label_ds.take(test_count)"
   ]
  },
  {
   "cell_type": "code",
   "execution_count": 85,
   "metadata": {},
   "outputs": [],
   "source": [
    "BATCH_SIZE = 16"
   ]
  },
  {
   "cell_type": "code",
   "execution_count": 86,
   "metadata": {},
   "outputs": [
    {
     "data": {
      "text/plain": [
       "<BatchDataset shapes: ((None, 256, 256, 3), (None,)), types: (tf.float32, tf.int32)>"
      ]
     },
     "execution_count": 86,
     "metadata": {},
     "output_type": "execute_result"
    }
   ],
   "source": [
    "train_ds = train_ds.repeat().shuffle(buffer_size=train_count).batch(BATCH_SIZE)\n",
    "train_ds"
   ]
  },
  {
   "cell_type": "code",
   "execution_count": 87,
   "metadata": {},
   "outputs": [],
   "source": [
    "test_ds = test_ds.batch(BATCH_SIZE)"
   ]
  },
  {
   "cell_type": "markdown",
   "metadata": {},
   "source": [
    "建立模型"
   ]
  },
  {
   "cell_type": "code",
   "execution_count": 46,
   "metadata": {},
   "outputs": [],
   "source": [
    "model = tf.keras.Sequential()   #顺序模型\n",
    "model.add(tf.keras.layers.Conv2D(64, (3, 3), input_shape=(256, 256, 3), activation='relu'))\n",
    "model.add(tf.keras.layers.Conv2D(64, (3, 3), activation='relu'))\n",
    "model.add(tf.keras.layers.MaxPooling2D())\n",
    "model.add(tf.keras.layers.Conv2D(128, (3, 3), activation='relu'))\n",
    "model.add(tf.keras.layers.Conv2D(128, (3, 3), activation='relu'))\n",
    "model.add(tf.keras.layers.MaxPooling2D())\n",
    "model.add(tf.keras.layers.Conv2D(256, (3, 3), activation='relu'))\n",
    "model.add(tf.keras.layers.Conv2D(256, (3, 3), activation='relu'))\n",
    "model.add(tf.keras.layers.MaxPooling2D())\n",
    "model.add(tf.keras.layers.Conv2D(512, (3, 3), activation='relu'))\n",
    "model.add(tf.keras.layers.Conv2D(512, (3, 3), activation='relu'))\n",
    "model.add(tf.keras.layers.MaxPooling2D())\n",
    "model.add(tf.keras.layers.Conv2D(512, (3, 3), activation='relu'))\n",
    "model.add(tf.keras.layers.Conv2D(512, (3, 3), activation='relu'))\n",
    "model.add(tf.keras.layers.Conv2D(512, (3, 3), activation='relu'))\n",
    "model.add(tf.keras.layers.GlobalAveragePooling2D())\n",
    "model.add(tf.keras.layers.Dense(1024, activation='relu'))\n",
    "model.add(tf.keras.layers.Dense(256, activation='relu'))\n",
    "model.add(tf.keras.layers.Dense(1, activation='sigmoid'))"
   ]
  },
  {
   "cell_type": "code",
   "execution_count": 47,
   "metadata": {},
   "outputs": [
    {
     "name": "stdout",
     "output_type": "stream",
     "text": [
      "Model: \"sequential\"\n",
      "_________________________________________________________________\n",
      "Layer (type)                 Output Shape              Param #   \n",
      "=================================================================\n",
      "conv2d (Conv2D)              (None, 254, 254, 64)      1792      \n",
      "_________________________________________________________________\n",
      "conv2d_1 (Conv2D)            (None, 252, 252, 64)      36928     \n",
      "_________________________________________________________________\n",
      "max_pooling2d (MaxPooling2D) (None, 126, 126, 64)      0         \n",
      "_________________________________________________________________\n",
      "conv2d_2 (Conv2D)            (None, 124, 124, 128)     73856     \n",
      "_________________________________________________________________\n",
      "conv2d_3 (Conv2D)            (None, 122, 122, 128)     147584    \n",
      "_________________________________________________________________\n",
      "max_pooling2d_1 (MaxPooling2 (None, 61, 61, 128)       0         \n",
      "_________________________________________________________________\n",
      "conv2d_4 (Conv2D)            (None, 59, 59, 256)       295168    \n",
      "_________________________________________________________________\n",
      "conv2d_5 (Conv2D)            (None, 57, 57, 256)       590080    \n",
      "_________________________________________________________________\n",
      "max_pooling2d_2 (MaxPooling2 (None, 28, 28, 256)       0         \n",
      "_________________________________________________________________\n",
      "conv2d_6 (Conv2D)            (None, 26, 26, 512)       1180160   \n",
      "_________________________________________________________________\n",
      "conv2d_7 (Conv2D)            (None, 24, 24, 512)       2359808   \n",
      "_________________________________________________________________\n",
      "max_pooling2d_3 (MaxPooling2 (None, 12, 12, 512)       0         \n",
      "_________________________________________________________________\n",
      "conv2d_8 (Conv2D)            (None, 10, 10, 512)       2359808   \n",
      "_________________________________________________________________\n",
      "conv2d_9 (Conv2D)            (None, 8, 8, 512)         2359808   \n",
      "_________________________________________________________________\n",
      "conv2d_10 (Conv2D)           (None, 6, 6, 512)         2359808   \n",
      "_________________________________________________________________\n",
      "global_average_pooling2d (Gl (None, 512)               0         \n",
      "_________________________________________________________________\n",
      "dense (Dense)                (None, 1024)              525312    \n",
      "_________________________________________________________________\n",
      "dense_1 (Dense)              (None, 256)               262400    \n",
      "_________________________________________________________________\n",
      "dense_2 (Dense)              (None, 1)                 257       \n",
      "=================================================================\n",
      "Total params: 12,552,769\n",
      "Trainable params: 12,552,769\n",
      "Non-trainable params: 0\n",
      "_________________________________________________________________\n"
     ]
    }
   ],
   "source": [
    "model.summary()"
   ]
  },
  {
   "cell_type": "code",
   "execution_count": 48,
   "metadata": {},
   "outputs": [],
   "source": [
    "model.compile(optimizer=tf.keras.optimizers.Adam(0.0001),\n",
    "              loss=tf.keras.losses.BinaryCrossentropy(),\n",
    "              metrics=['acc']\n",
    ")"
   ]
  },
  {
   "cell_type": "code",
   "execution_count": 49,
   "metadata": {},
   "outputs": [],
   "source": [
    "steps_per_epoch = train_count//BATCH_SIZE\n",
    "validation_steps = test_count//BATCH_SIZE"
   ]
  },
  {
   "cell_type": "code",
   "execution_count": 41,
   "metadata": {},
   "outputs": [
    {
     "name": "stdout",
     "output_type": "stream",
     "text": [
      "Epoch 1/10\n",
      " 2/70 [..............................] - ETA: 6s - loss: 0.6931 - acc: 0.6562WARNING:tensorflow:Callbacks method `on_train_batch_end` is slow compared to the batch time (batch time: 0.0567s vs `on_train_batch_end` time: 0.1406s). Check your callbacks.\n",
      "70/70 [==============================] - 15s 215ms/step - loss: 0.4486 - acc: 0.8009 - val_loss: 0.2757 - val_acc: 0.9154\n",
      "Epoch 2/10\n",
      "70/70 [==============================] - 15s 214ms/step - loss: 0.3733 - acc: 0.8955 - val_loss: 0.2925 - val_acc: 0.9301\n",
      "Epoch 3/10\n",
      "70/70 [==============================] - 15s 214ms/step - loss: 0.2173 - acc: 0.9455 - val_loss: 0.2967 - val_acc: 0.9485\n",
      "Epoch 4/10\n",
      "70/70 [==============================] - 15s 213ms/step - loss: 0.1576 - acc: 0.9652 - val_loss: 0.1557 - val_acc: 0.9449\n",
      "Epoch 5/10\n",
      "70/70 [==============================] - 15s 213ms/step - loss: 0.0835 - acc: 0.9777 - val_loss: 0.1230 - val_acc: 0.9669\n",
      "Epoch 6/10\n",
      "70/70 [==============================] - 15s 214ms/step - loss: 0.1099 - acc: 0.9732 - val_loss: 0.1432 - val_acc: 0.9485\n",
      "Epoch 7/10\n",
      "70/70 [==============================] - 15s 214ms/step - loss: 0.1310 - acc: 0.9643 - val_loss: 0.1528 - val_acc: 0.9596\n",
      "Epoch 8/10\n",
      "70/70 [==============================] - 15s 213ms/step - loss: 0.0917 - acc: 0.9696 - val_loss: 0.1536 - val_acc: 0.9632\n",
      "Epoch 9/10\n",
      "70/70 [==============================] - 15s 215ms/step - loss: 0.0770 - acc: 0.9812 - val_loss: 0.1392 - val_acc: 0.9559\n",
      "Epoch 10/10\n",
      "70/70 [==============================] - 15s 214ms/step - loss: 0.0759 - acc: 0.9768 - val_loss: 0.1376 - val_acc: 0.9706\n"
     ]
    }
   ],
   "source": [
    "history = model.fit(train_ds, epochs=10, \n",
    "                    steps_per_epoch=steps_per_epoch, \n",
    "                    validation_data=test_ds, \n",
    "                    validation_steps=validation_steps)"
   ]
  },
  {
   "cell_type": "code",
   "execution_count": 42,
   "metadata": {},
   "outputs": [
    {
     "data": {
      "text/plain": [
       "dict_keys(['loss', 'acc', 'val_loss', 'val_acc'])"
      ]
     },
     "execution_count": 42,
     "metadata": {},
     "output_type": "execute_result"
    }
   ],
   "source": [
    "history.history.keys()"
   ]
  },
  {
   "cell_type": "code",
   "execution_count": 43,
   "metadata": {},
   "outputs": [
    {
     "data": {
      "text/plain": [
       "<matplotlib.legend.Legend at 0x1e98634b940>"
      ]
     },
     "execution_count": 43,
     "metadata": {},
     "output_type": "execute_result"
    },
    {
     "data": {
      "image/png": "[encoded data removed]",
      "text/plain": [
       "<Figure size 432x288 with 1 Axes>"
      ]
     },
     "metadata": {
      "needs_background": "light"
     },
     "output_type": "display_data"
    }
   ],
   "source": [
    "plt.plot(history.epoch, history.history.get('acc'), label='acc')\n",
    "plt.plot(history.epoch, history.history.get('val_acc'), label='val_acc')\n",
    "plt.legend()"
   ]
  },
  {
   "cell_type": "code",
   "execution_count": 44,
   "metadata": {},
   "outputs": [
    {
     "data": {
      "text/plain": [
       "<matplotlib.legend.Legend at 0x1e98a365b20>"
      ]
     },
     "execution_count": 44,
     "metadata": {},
     "output_type": "execute_result"
    },
    {
     "data": {
      "image/png": "[encoded data removed]",
      "text/plain": [
       "<Figure size 432x288 with 1 Axes>"
      ]
     },
     "metadata": {
      "needs_background": "light"
     },
     "output_type": "display_data"
    }
   ],
   "source": [
    "plt.plot(history.epoch, history.history.get('loss'), label='loss')\n",
    "plt.plot(history.epoch, history.history.get('val_loss'), label='val_loss')\n",
    "plt.legend()"
   ]
  },
  {
   "cell_type": "markdown",
   "metadata": {},
   "source": [
    "使用模型预测"
   ]
  },
  {
   "cell_type": "raw",
   "metadata": {},
   "source": [
    "model.predict()"
   ]
  },
  {
   "cell_type": "code",
   "execution_count": 98,
   "metadata": {},
   "outputs": [],
   "source": [
    "img_path = 'test02.jpg'\n",
    "img = load_and_preprocess_image(img_path)"
   ]
  },
  {
   "cell_type": "code",
   "execution_count": 99,
   "metadata": {},
   "outputs": [
    {
     "data": {
      "text/plain": [
       "TensorShape([256, 256, 3])"
      ]
     },
     "execution_count": 99,
     "metadata": {},
     "output_type": "execute_result"
    }
   ],
   "source": [
    "img.shape"
   ]
  },
  {
   "cell_type": "code",
   "execution_count": 100,
   "metadata": {},
   "outputs": [],
   "source": [
    "img = tf.expand_dims(img, axis=0)"
   ]
  },
  {
   "cell_type": "code",
   "execution_count": 101,
   "metadata": {},
   "outputs": [
    {
     "data": {
      "text/plain": [
       "TensorShape([1, 256, 256, 3])"
      ]
     },
     "execution_count": 101,
     "metadata": {},
     "output_type": "execute_result"
    }
   ],
   "source": [
    "img.shape"
   ]
  },
  {
   "cell_type": "code",
   "execution_count": 103,
   "metadata": {},
   "outputs": [],
   "source": [
    "pred = model.predict(img)"
   ]
  },
  {
   "cell_type": "code",
   "execution_count": 105,
   "metadata": {},
   "outputs": [
    {
     "data": {
      "text/plain": [
       "'airplane'"
      ]
     },
     "execution_count": 105,
     "metadata": {},
     "output_type": "execute_result"
    }
   ],
   "source": [
    "index_to_label.get((pred > 0.5).astype('int')[0][0])"
   ]
  },
  {
   "cell_type": "code",
   "execution_count": 106,
   "metadata": {},
   "outputs": [],
   "source": [
    "def pre_img(img_path):\n",
    "    img = load_and_preprocess_image(img_path)\n",
    "    img = tf.expand_dims(img, axis=0)\n",
    "    pred = model.predict(img)\n",
    "    print(index_to_label.get((pred > 0.5).astype('int')[0][0]))"
   ]
  },
  {
   "cell_type": "code",
   "execution_count": 107,
   "metadata": {},
   "outputs": [
    {
     "name": "stdout",
     "output_type": "stream",
     "text": [
      "lake\n"
     ]
    }
   ],
   "source": [
    "pre_img('test01.jpg')"
   ]
  },
  {
   "cell_type": "code",
   "execution_count": 108,
   "metadata": {},
   "outputs": [
    {
     "name": "stdout",
     "output_type": "stream",
     "text": [
      "airplane\n"
     ]
    }
   ],
   "source": [
    "pre_img('test02.jpg')"
   ]
  },
  {
   "cell_type": "code",
   "execution_count": null,
   "metadata": {},
   "outputs": [],
   "source": []
  }
 ],
 "metadata": {
  "kernelspec": {
   "display_name": "Python 3",
   "language": "python",
   "name": "python3"
  },
  "language_info": {
   "codemirror_mode": {
    "name": "ipython",
    "version": 3
   },
   "file_extension": ".py",
   "mimetype": "text/x-python",
   "name": "python",
   "nbconvert_exporter": "python",
   "pygments_lexer": "ipython3",
   "version": "3.7.7"
  }
 },
 "nbformat": 4,
 "nbformat_minor": 2
}
