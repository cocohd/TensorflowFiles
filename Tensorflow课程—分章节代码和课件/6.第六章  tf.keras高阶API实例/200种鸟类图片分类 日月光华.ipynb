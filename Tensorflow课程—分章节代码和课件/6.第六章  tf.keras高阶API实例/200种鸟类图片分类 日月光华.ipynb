{
 "cells": [
  {
   "cell_type": "code",
   "execution_count": 1,
   "metadata": {},
   "outputs": [],
   "source": [
    "import tensorflow as tf"
   ]
  },
  {
   "cell_type": "code",
   "execution_count": 2,
   "metadata": {},
   "outputs": [
    {
     "name": "stdout",
     "output_type": "stream",
     "text": [
      "Tensorflow version: 2.3.0\n"
     ]
    }
   ],
   "source": [
    "print('Tensorflow version: {}'.format(tf.__version__))"
   ]
  },
  {
   "cell_type": "code",
   "execution_count": 3,
   "metadata": {},
   "outputs": [],
   "source": [
    "from tensorflow import keras\n",
    "import matplotlib.pyplot as plt\n",
    "%matplotlib inline\n",
    "import numpy as np\n",
    "import glob"
   ]
  },
  {
   "cell_type": "code",
   "execution_count": 4,
   "metadata": {},
   "outputs": [],
   "source": [
    "imgs_path = glob.glob('dataset/birds/*/*.jpg')"
   ]
  },
  {
   "cell_type": "code",
   "execution_count": 5,
   "metadata": {},
   "outputs": [
    {
     "data": {
      "text/plain": [
       "['dataset/birds\\\\001.Black_footed_Albatross\\\\Black_Footed_Albatross_0001_796111.jpg',\n",
       " 'dataset/birds\\\\001.Black_footed_Albatross\\\\Black_Footed_Albatross_0002_55.jpg',\n",
       " 'dataset/birds\\\\001.Black_footed_Albatross\\\\Black_Footed_Albatross_0003_796136.jpg',\n",
       " 'dataset/birds\\\\001.Black_footed_Albatross\\\\Black_Footed_Albatross_0005_796090.jpg',\n",
       " 'dataset/birds\\\\001.Black_footed_Albatross\\\\Black_Footed_Albatross_0006_796065.jpg']"
      ]
     },
     "execution_count": 5,
     "metadata": {},
     "output_type": "execute_result"
    }
   ],
   "source": [
    "imgs_path[:5]"
   ]
  },
  {
   "cell_type": "code",
   "execution_count": 6,
   "metadata": {},
   "outputs": [
    {
     "data": {
      "text/plain": [
       "'dataset/birds\\\\002.Laysan_Albatross\\\\Laysan_Albatross_0075_668.jpg'"
      ]
     },
     "execution_count": 6,
     "metadata": {},
     "output_type": "execute_result"
    }
   ],
   "source": [
    "img_p = imgs_path[100]\n",
    "img_p"
   ]
  },
  {
   "cell_type": "code",
   "execution_count": 7,
   "metadata": {},
   "outputs": [
    {
     "data": {
      "text/plain": [
       "'Laysan_Albatross'"
      ]
     },
     "execution_count": 7,
     "metadata": {},
     "output_type": "execute_result"
    }
   ],
   "source": [
    "img_p.split('\\\\')[1].split('.')[1]"
   ]
  },
  {
   "cell_type": "code",
   "execution_count": 8,
   "metadata": {},
   "outputs": [],
   "source": [
    "label_names = [img_p.split('\\\\')[1].split('.')[1] for img_p in imgs_path]"
   ]
  },
  {
   "cell_type": "code",
   "execution_count": 9,
   "metadata": {},
   "outputs": [],
   "source": [
    "unique_label = np.unique(label_names)"
   ]
  },
  {
   "cell_type": "code",
   "execution_count": 10,
   "metadata": {},
   "outputs": [],
   "source": [
    "label_to_index = dict((v, k) for k, v in enumerate(unique_label))"
   ]
  },
  {
   "cell_type": "code",
   "execution_count": 11,
   "metadata": {},
   "outputs": [
    {
     "data": {
      "text/plain": [
       "{'Acadian_Flycatcher': 0,\n",
       " 'American_Crow': 1,\n",
       " 'American_Goldfinch': 2,\n",
       " 'American_Pipit': 3,\n",
       " 'American_Redstart': 4,\n",
       " 'American_Three_toed_Woodpecker': 5,\n",
       " 'Anna_Hummingbird': 6,\n",
       " 'Artic_Tern': 7,\n",
       " 'Baird_Sparrow': 8,\n",
       " 'Baltimore_Oriole': 9,\n",
       " 'Bank_Swallow': 10,\n",
       " 'Barn_Swallow': 11,\n",
       " 'Bay_breasted_Warbler': 12,\n",
       " 'Belted_Kingfisher': 13,\n",
       " 'Bewick_Wren': 14,\n",
       " 'Black_Tern': 15,\n",
       " 'Black_and_white_Warbler': 16,\n",
       " 'Black_billed_Cuckoo': 17,\n",
       " 'Black_capped_Vireo': 18,\n",
       " 'Black_footed_Albatross': 19,\n",
       " 'Black_throated_Blue_Warbler': 20,\n",
       " 'Black_throated_Sparrow': 21,\n",
       " 'Blue_Grosbeak': 22,\n",
       " 'Blue_Jay': 23,\n",
       " 'Blue_headed_Vireo': 24,\n",
       " 'Blue_winged_Warbler': 25,\n",
       " 'Boat_tailed_Grackle': 26,\n",
       " 'Bobolink': 27,\n",
       " 'Bohemian_Waxwing': 28,\n",
       " 'Brandt_Cormorant': 29,\n",
       " 'Brewer_Blackbird': 30,\n",
       " 'Brewer_Sparrow': 31,\n",
       " 'Bronzed_Cowbird': 32,\n",
       " 'Brown_Creeper': 33,\n",
       " 'Brown_Pelican': 34,\n",
       " 'Brown_Thrasher': 35,\n",
       " 'Cactus_Wren': 36,\n",
       " 'California_Gull': 37,\n",
       " 'Canada_Warbler': 38,\n",
       " 'Cape_Glossy_Starling': 39,\n",
       " 'Cape_May_Warbler': 40,\n",
       " 'Cardinal': 41,\n",
       " 'Carolina_Wren': 42,\n",
       " 'Caspian_Tern': 43,\n",
       " 'Cedar_Waxwing': 44,\n",
       " 'Cerulean_Warbler': 45,\n",
       " 'Chestnut_sided_Warbler': 46,\n",
       " 'Chipping_Sparrow': 47,\n",
       " 'Chuck_will_Widow': 48,\n",
       " 'Clark_Nutcracker': 49,\n",
       " 'Clay_colored_Sparrow': 50,\n",
       " 'Cliff_Swallow': 51,\n",
       " 'Common_Raven': 52,\n",
       " 'Common_Tern': 53,\n",
       " 'Common_Yellowthroat': 54,\n",
       " 'Crested_Auklet': 55,\n",
       " 'Dark_eyed_Junco': 56,\n",
       " 'Downy_Woodpecker': 57,\n",
       " 'Eared_Grebe': 58,\n",
       " 'Eastern_Towhee': 59,\n",
       " 'Elegant_Tern': 60,\n",
       " 'European_Goldfinch': 61,\n",
       " 'Evening_Grosbeak': 62,\n",
       " 'Field_Sparrow': 63,\n",
       " 'Fish_Crow': 64,\n",
       " 'Florida_Jay': 65,\n",
       " 'Forsters_Tern': 66,\n",
       " 'Fox_Sparrow': 67,\n",
       " 'Frigatebird': 68,\n",
       " 'Gadwall': 69,\n",
       " 'Geococcyx': 70,\n",
       " 'Glaucous_winged_Gull': 71,\n",
       " 'Golden_winged_Warbler': 72,\n",
       " 'Grasshopper_Sparrow': 73,\n",
       " 'Gray_Catbird': 74,\n",
       " 'Gray_Kingbird': 75,\n",
       " 'Gray_crowned_Rosy_Finch': 76,\n",
       " 'Great_Crested_Flycatcher': 77,\n",
       " 'Great_Grey_Shrike': 78,\n",
       " 'Green_Jay': 79,\n",
       " 'Green_Kingfisher': 80,\n",
       " 'Green_Violetear': 81,\n",
       " 'Green_tailed_Towhee': 82,\n",
       " 'Groove_billed_Ani': 83,\n",
       " 'Harris_Sparrow': 84,\n",
       " 'Heermann_Gull': 85,\n",
       " 'Henslow_Sparrow': 86,\n",
       " 'Herring_Gull': 87,\n",
       " 'Hooded_Merganser': 88,\n",
       " 'Hooded_Oriole': 89,\n",
       " 'Hooded_Warbler': 90,\n",
       " 'Horned_Grebe': 91,\n",
       " 'Horned_Lark': 92,\n",
       " 'Horned_Puffin': 93,\n",
       " 'House_Sparrow': 94,\n",
       " 'House_Wren': 95,\n",
       " 'Indigo_Bunting': 96,\n",
       " 'Ivory_Gull': 97,\n",
       " 'Kentucky_Warbler': 98,\n",
       " 'Laysan_Albatross': 99,\n",
       " 'Lazuli_Bunting': 100,\n",
       " 'Le_Conte_Sparrow': 101,\n",
       " 'Least_Auklet': 102,\n",
       " 'Least_Flycatcher': 103,\n",
       " 'Least_Tern': 104,\n",
       " 'Lincoln_Sparrow': 105,\n",
       " 'Loggerhead_Shrike': 106,\n",
       " 'Long_tailed_Jaeger': 107,\n",
       " 'Louisiana_Waterthrush': 108,\n",
       " 'Magnolia_Warbler': 109,\n",
       " 'Mallard': 110,\n",
       " 'Mangrove_Cuckoo': 111,\n",
       " 'Marsh_Wren': 112,\n",
       " 'Mockingbird': 113,\n",
       " 'Mourning_Warbler': 114,\n",
       " 'Myrtle_Warbler': 115,\n",
       " 'Nashville_Warbler': 116,\n",
       " 'Nelson_Sharp_tailed_Sparrow': 117,\n",
       " 'Nighthawk': 118,\n",
       " 'Northern_Flicker': 119,\n",
       " 'Northern_Fulmar': 120,\n",
       " 'Northern_Waterthrush': 121,\n",
       " 'Olive_sided_Flycatcher': 122,\n",
       " 'Orange_crowned_Warbler': 123,\n",
       " 'Orchard_Oriole': 124,\n",
       " 'Ovenbird': 125,\n",
       " 'Pacific_Loon': 126,\n",
       " 'Painted_Bunting': 127,\n",
       " 'Palm_Warbler': 128,\n",
       " 'Parakeet_Auklet': 129,\n",
       " 'Pelagic_Cormorant': 130,\n",
       " 'Philadelphia_Vireo': 131,\n",
       " 'Pied_Kingfisher': 132,\n",
       " 'Pied_billed_Grebe': 133,\n",
       " 'Pigeon_Guillemot': 134,\n",
       " 'Pileated_Woodpecker': 135,\n",
       " 'Pine_Grosbeak': 136,\n",
       " 'Pine_Warbler': 137,\n",
       " 'Pomarine_Jaeger': 138,\n",
       " 'Prairie_Warbler': 139,\n",
       " 'Prothonotary_Warbler': 140,\n",
       " 'Purple_Finch': 141,\n",
       " 'Red_bellied_Woodpecker': 142,\n",
       " 'Red_breasted_Merganser': 143,\n",
       " 'Red_cockaded_Woodpecker': 144,\n",
       " 'Red_eyed_Vireo': 145,\n",
       " 'Red_faced_Cormorant': 146,\n",
       " 'Red_headed_Woodpecker': 147,\n",
       " 'Red_legged_Kittiwake': 148,\n",
       " 'Red_winged_Blackbird': 149,\n",
       " 'Rhinoceros_Auklet': 150,\n",
       " 'Ring_billed_Gull': 151,\n",
       " 'Ringed_Kingfisher': 152,\n",
       " 'Rock_Wren': 153,\n",
       " 'Rose_breasted_Grosbeak': 154,\n",
       " 'Ruby_throated_Hummingbird': 155,\n",
       " 'Rufous_Hummingbird': 156,\n",
       " 'Rusty_Blackbird': 157,\n",
       " 'Sage_Thrasher': 158,\n",
       " 'Savannah_Sparrow': 159,\n",
       " 'Sayornis': 160,\n",
       " 'Scarlet_Tanager': 161,\n",
       " 'Scissor_tailed_Flycatcher': 162,\n",
       " 'Scott_Oriole': 163,\n",
       " 'Seaside_Sparrow': 164,\n",
       " 'Shiny_Cowbird': 165,\n",
       " 'Slaty_backed_Gull': 166,\n",
       " 'Song_Sparrow': 167,\n",
       " 'Sooty_Albatross': 168,\n",
       " 'Spotted_Catbird': 169,\n",
       " 'Summer_Tanager': 170,\n",
       " 'Swainson_Warbler': 171,\n",
       " 'Tennessee_Warbler': 172,\n",
       " 'Tree_Sparrow': 173,\n",
       " 'Tree_Swallow': 174,\n",
       " 'Tropical_Kingbird': 175,\n",
       " 'Vermilion_Flycatcher': 176,\n",
       " 'Vesper_Sparrow': 177,\n",
       " 'Warbling_Vireo': 178,\n",
       " 'Western_Grebe': 179,\n",
       " 'Western_Gull': 180,\n",
       " 'Western_Meadowlark': 181,\n",
       " 'Western_Wood_Pewee': 182,\n",
       " 'Whip_poor_Will': 183,\n",
       " 'White_Pelican': 184,\n",
       " 'White_breasted_Kingfisher': 185,\n",
       " 'White_breasted_Nuthatch': 186,\n",
       " 'White_crowned_Sparrow': 187,\n",
       " 'White_eyed_Vireo': 188,\n",
       " 'White_necked_Raven': 189,\n",
       " 'White_throated_Sparrow': 190,\n",
       " 'Wilson_Warbler': 191,\n",
       " 'Winter_Wren': 192,\n",
       " 'Worm_eating_Warbler': 193,\n",
       " 'Yellow_Warbler': 194,\n",
       " 'Yellow_bellied_Flycatcher': 195,\n",
       " 'Yellow_billed_Cuckoo': 196,\n",
       " 'Yellow_breasted_Chat': 197,\n",
       " 'Yellow_headed_Blackbird': 198,\n",
       " 'Yellow_throated_Vireo': 199}"
      ]
     },
     "execution_count": 11,
     "metadata": {},
     "output_type": "execute_result"
    }
   ],
   "source": [
    "label_to_index"
   ]
  },
  {
   "cell_type": "code",
   "execution_count": 12,
   "metadata": {},
   "outputs": [],
   "source": [
    "index_to_label = dict((v, k) for k, v in label_to_index.items())"
   ]
  },
  {
   "cell_type": "code",
   "execution_count": 13,
   "metadata": {},
   "outputs": [
    {
     "data": {
      "text/plain": [
       "{0: 'Acadian_Flycatcher',\n",
       " 1: 'American_Crow',\n",
       " 2: 'American_Goldfinch',\n",
       " 3: 'American_Pipit',\n",
       " 4: 'American_Redstart',\n",
       " 5: 'American_Three_toed_Woodpecker',\n",
       " 6: 'Anna_Hummingbird',\n",
       " 7: 'Artic_Tern',\n",
       " 8: 'Baird_Sparrow',\n",
       " 9: 'Baltimore_Oriole',\n",
       " 10: 'Bank_Swallow',\n",
       " 11: 'Barn_Swallow',\n",
       " 12: 'Bay_breasted_Warbler',\n",
       " 13: 'Belted_Kingfisher',\n",
       " 14: 'Bewick_Wren',\n",
       " 15: 'Black_Tern',\n",
       " 16: 'Black_and_white_Warbler',\n",
       " 17: 'Black_billed_Cuckoo',\n",
       " 18: 'Black_capped_Vireo',\n",
       " 19: 'Black_footed_Albatross',\n",
       " 20: 'Black_throated_Blue_Warbler',\n",
       " 21: 'Black_throated_Sparrow',\n",
       " 22: 'Blue_Grosbeak',\n",
       " 23: 'Blue_Jay',\n",
       " 24: 'Blue_headed_Vireo',\n",
       " 25: 'Blue_winged_Warbler',\n",
       " 26: 'Boat_tailed_Grackle',\n",
       " 27: 'Bobolink',\n",
       " 28: 'Bohemian_Waxwing',\n",
       " 29: 'Brandt_Cormorant',\n",
       " 30: 'Brewer_Blackbird',\n",
       " 31: 'Brewer_Sparrow',\n",
       " 32: 'Bronzed_Cowbird',\n",
       " 33: 'Brown_Creeper',\n",
       " 34: 'Brown_Pelican',\n",
       " 35: 'Brown_Thrasher',\n",
       " 36: 'Cactus_Wren',\n",
       " 37: 'California_Gull',\n",
       " 38: 'Canada_Warbler',\n",
       " 39: 'Cape_Glossy_Starling',\n",
       " 40: 'Cape_May_Warbler',\n",
       " 41: 'Cardinal',\n",
       " 42: 'Carolina_Wren',\n",
       " 43: 'Caspian_Tern',\n",
       " 44: 'Cedar_Waxwing',\n",
       " 45: 'Cerulean_Warbler',\n",
       " 46: 'Chestnut_sided_Warbler',\n",
       " 47: 'Chipping_Sparrow',\n",
       " 48: 'Chuck_will_Widow',\n",
       " 49: 'Clark_Nutcracker',\n",
       " 50: 'Clay_colored_Sparrow',\n",
       " 51: 'Cliff_Swallow',\n",
       " 52: 'Common_Raven',\n",
       " 53: 'Common_Tern',\n",
       " 54: 'Common_Yellowthroat',\n",
       " 55: 'Crested_Auklet',\n",
       " 56: 'Dark_eyed_Junco',\n",
       " 57: 'Downy_Woodpecker',\n",
       " 58: 'Eared_Grebe',\n",
       " 59: 'Eastern_Towhee',\n",
       " 60: 'Elegant_Tern',\n",
       " 61: 'European_Goldfinch',\n",
       " 62: 'Evening_Grosbeak',\n",
       " 63: 'Field_Sparrow',\n",
       " 64: 'Fish_Crow',\n",
       " 65: 'Florida_Jay',\n",
       " 66: 'Forsters_Tern',\n",
       " 67: 'Fox_Sparrow',\n",
       " 68: 'Frigatebird',\n",
       " 69: 'Gadwall',\n",
       " 70: 'Geococcyx',\n",
       " 71: 'Glaucous_winged_Gull',\n",
       " 72: 'Golden_winged_Warbler',\n",
       " 73: 'Grasshopper_Sparrow',\n",
       " 74: 'Gray_Catbird',\n",
       " 75: 'Gray_Kingbird',\n",
       " 76: 'Gray_crowned_Rosy_Finch',\n",
       " 77: 'Great_Crested_Flycatcher',\n",
       " 78: 'Great_Grey_Shrike',\n",
       " 79: 'Green_Jay',\n",
       " 80: 'Green_Kingfisher',\n",
       " 81: 'Green_Violetear',\n",
       " 82: 'Green_tailed_Towhee',\n",
       " 83: 'Groove_billed_Ani',\n",
       " 84: 'Harris_Sparrow',\n",
       " 85: 'Heermann_Gull',\n",
       " 86: 'Henslow_Sparrow',\n",
       " 87: 'Herring_Gull',\n",
       " 88: 'Hooded_Merganser',\n",
       " 89: 'Hooded_Oriole',\n",
       " 90: 'Hooded_Warbler',\n",
       " 91: 'Horned_Grebe',\n",
       " 92: 'Horned_Lark',\n",
       " 93: 'Horned_Puffin',\n",
       " 94: 'House_Sparrow',\n",
       " 95: 'House_Wren',\n",
       " 96: 'Indigo_Bunting',\n",
       " 97: 'Ivory_Gull',\n",
       " 98: 'Kentucky_Warbler',\n",
       " 99: 'Laysan_Albatross',\n",
       " 100: 'Lazuli_Bunting',\n",
       " 101: 'Le_Conte_Sparrow',\n",
       " 102: 'Least_Auklet',\n",
       " 103: 'Least_Flycatcher',\n",
       " 104: 'Least_Tern',\n",
       " 105: 'Lincoln_Sparrow',\n",
       " 106: 'Loggerhead_Shrike',\n",
       " 107: 'Long_tailed_Jaeger',\n",
       " 108: 'Louisiana_Waterthrush',\n",
       " 109: 'Magnolia_Warbler',\n",
       " 110: 'Mallard',\n",
       " 111: 'Mangrove_Cuckoo',\n",
       " 112: 'Marsh_Wren',\n",
       " 113: 'Mockingbird',\n",
       " 114: 'Mourning_Warbler',\n",
       " 115: 'Myrtle_Warbler',\n",
       " 116: 'Nashville_Warbler',\n",
       " 117: 'Nelson_Sharp_tailed_Sparrow',\n",
       " 118: 'Nighthawk',\n",
       " 119: 'Northern_Flicker',\n",
       " 120: 'Northern_Fulmar',\n",
       " 121: 'Northern_Waterthrush',\n",
       " 122: 'Olive_sided_Flycatcher',\n",
       " 123: 'Orange_crowned_Warbler',\n",
       " 124: 'Orchard_Oriole',\n",
       " 125: 'Ovenbird',\n",
       " 126: 'Pacific_Loon',\n",
       " 127: 'Painted_Bunting',\n",
       " 128: 'Palm_Warbler',\n",
       " 129: 'Parakeet_Auklet',\n",
       " 130: 'Pelagic_Cormorant',\n",
       " 131: 'Philadelphia_Vireo',\n",
       " 132: 'Pied_Kingfisher',\n",
       " 133: 'Pied_billed_Grebe',\n",
       " 134: 'Pigeon_Guillemot',\n",
       " 135: 'Pileated_Woodpecker',\n",
       " 136: 'Pine_Grosbeak',\n",
       " 137: 'Pine_Warbler',\n",
       " 138: 'Pomarine_Jaeger',\n",
       " 139: 'Prairie_Warbler',\n",
       " 140: 'Prothonotary_Warbler',\n",
       " 141: 'Purple_Finch',\n",
       " 142: 'Red_bellied_Woodpecker',\n",
       " 143: 'Red_breasted_Merganser',\n",
       " 144: 'Red_cockaded_Woodpecker',\n",
       " 145: 'Red_eyed_Vireo',\n",
       " 146: 'Red_faced_Cormorant',\n",
       " 147: 'Red_headed_Woodpecker',\n",
       " 148: 'Red_legged_Kittiwake',\n",
       " 149: 'Red_winged_Blackbird',\n",
       " 150: 'Rhinoceros_Auklet',\n",
       " 151: 'Ring_billed_Gull',\n",
       " 152: 'Ringed_Kingfisher',\n",
       " 153: 'Rock_Wren',\n",
       " 154: 'Rose_breasted_Grosbeak',\n",
       " 155: 'Ruby_throated_Hummingbird',\n",
       " 156: 'Rufous_Hummingbird',\n",
       " 157: 'Rusty_Blackbird',\n",
       " 158: 'Sage_Thrasher',\n",
       " 159: 'Savannah_Sparrow',\n",
       " 160: 'Sayornis',\n",
       " 161: 'Scarlet_Tanager',\n",
       " 162: 'Scissor_tailed_Flycatcher',\n",
       " 163: 'Scott_Oriole',\n",
       " 164: 'Seaside_Sparrow',\n",
       " 165: 'Shiny_Cowbird',\n",
       " 166: 'Slaty_backed_Gull',\n",
       " 167: 'Song_Sparrow',\n",
       " 168: 'Sooty_Albatross',\n",
       " 169: 'Spotted_Catbird',\n",
       " 170: 'Summer_Tanager',\n",
       " 171: 'Swainson_Warbler',\n",
       " 172: 'Tennessee_Warbler',\n",
       " 173: 'Tree_Sparrow',\n",
       " 174: 'Tree_Swallow',\n",
       " 175: 'Tropical_Kingbird',\n",
       " 176: 'Vermilion_Flycatcher',\n",
       " 177: 'Vesper_Sparrow',\n",
       " 178: 'Warbling_Vireo',\n",
       " 179: 'Western_Grebe',\n",
       " 180: 'Western_Gull',\n",
       " 181: 'Western_Meadowlark',\n",
       " 182: 'Western_Wood_Pewee',\n",
       " 183: 'Whip_poor_Will',\n",
       " 184: 'White_Pelican',\n",
       " 185: 'White_breasted_Kingfisher',\n",
       " 186: 'White_breasted_Nuthatch',\n",
       " 187: 'White_crowned_Sparrow',\n",
       " 188: 'White_eyed_Vireo',\n",
       " 189: 'White_necked_Raven',\n",
       " 190: 'White_throated_Sparrow',\n",
       " 191: 'Wilson_Warbler',\n",
       " 192: 'Winter_Wren',\n",
       " 193: 'Worm_eating_Warbler',\n",
       " 194: 'Yellow_Warbler',\n",
       " 195: 'Yellow_bellied_Flycatcher',\n",
       " 196: 'Yellow_billed_Cuckoo',\n",
       " 197: 'Yellow_breasted_Chat',\n",
       " 198: 'Yellow_headed_Blackbird',\n",
       " 199: 'Yellow_throated_Vireo'}"
      ]
     },
     "execution_count": 13,
     "metadata": {},
     "output_type": "execute_result"
    }
   ],
   "source": [
    "index_to_label"
   ]
  },
  {
   "cell_type": "code",
   "execution_count": 14,
   "metadata": {},
   "outputs": [],
   "source": [
    "all_labels = [label_to_index.get(la) for la in label_names]"
   ]
  },
  {
   "cell_type": "code",
   "execution_count": 15,
   "metadata": {},
   "outputs": [
    {
     "data": {
      "text/plain": [
       "[19, 19, 19, 19, 19]"
      ]
     },
     "execution_count": 15,
     "metadata": {},
     "output_type": "execute_result"
    }
   ],
   "source": [
    "all_labels[:5]"
   ]
  },
  {
   "cell_type": "code",
   "execution_count": 16,
   "metadata": {},
   "outputs": [
    {
     "data": {
      "text/plain": [
       "[54, 54, 54, 54, 54]"
      ]
     },
     "execution_count": 16,
     "metadata": {},
     "output_type": "execute_result"
    }
   ],
   "source": [
    "all_labels[-5: ]"
   ]
  },
  {
   "cell_type": "code",
   "execution_count": 17,
   "metadata": {},
   "outputs": [
    {
     "data": {
      "text/plain": [
       "11788"
      ]
     },
     "execution_count": 17,
     "metadata": {},
     "output_type": "execute_result"
    }
   ],
   "source": [
    "len(imgs_path)"
   ]
  },
  {
   "cell_type": "code",
   "execution_count": 18,
   "metadata": {},
   "outputs": [],
   "source": [
    "np.random.seed(2021)\n",
    "random_index = np.random.permutation(len(imgs_path))"
   ]
  },
  {
   "cell_type": "code",
   "execution_count": 19,
   "metadata": {},
   "outputs": [],
   "source": [
    "imgs_path = np.array(imgs_path)[random_index]\n",
    "all_labels = np.array(all_labels)[random_index]"
   ]
  },
  {
   "cell_type": "code",
   "execution_count": 20,
   "metadata": {},
   "outputs": [],
   "source": [
    "i = int(len(imgs_path)*0.8)"
   ]
  },
  {
   "cell_type": "code",
   "execution_count": 21,
   "metadata": {},
   "outputs": [],
   "source": [
    "train_path = imgs_path[ :i]\n",
    "train_labels = all_labels[ :i]\n",
    "test_path = imgs_path[i: ]\n",
    "test_labels = all_labels[i: ]"
   ]
  },
  {
   "cell_type": "code",
   "execution_count": 22,
   "metadata": {},
   "outputs": [],
   "source": [
    "train_ds = tf.data.Dataset.from_tensor_slices((train_path, train_labels))\n",
    "test_ds = tf.data.Dataset.from_tensor_slices((test_path, test_labels))"
   ]
  },
  {
   "cell_type": "markdown",
   "metadata": {},
   "source": [
    "加载和格式化图像"
   ]
  },
  {
   "cell_type": "code",
   "execution_count": 23,
   "metadata": {},
   "outputs": [],
   "source": [
    "def load_and_preprocess_image(path, label):\n",
    "    image = tf.io.read_file(path)\n",
    "    image = tf.image.decode_jpeg(image, channels=3)\n",
    "    image = tf.image.resize(image, [256, 256])\n",
    "    image = tf.cast(image, tf.float32)\n",
    "    image = image/255.0  # normalize to [0,1] range\n",
    "    return image, label"
   ]
  },
  {
   "cell_type": "code",
   "execution_count": 24,
   "metadata": {},
   "outputs": [],
   "source": [
    "AUTOTUNE = tf.data.experimental.AUTOTUNE\n",
    "train_ds = train_ds.map(load_and_preprocess_image, num_parallel_calls=AUTOTUNE)\n",
    "test_ds = test_ds.map(load_and_preprocess_image, num_parallel_calls=AUTOTUNE)"
   ]
  },
  {
   "cell_type": "code",
   "execution_count": 25,
   "metadata": {},
   "outputs": [],
   "source": [
    "test_count = len(test_path)\n",
    "train_count = len(train_path)"
   ]
  },
  {
   "cell_type": "code",
   "execution_count": 26,
   "metadata": {},
   "outputs": [],
   "source": [
    "BATCH_SIZE = 32"
   ]
  },
  {
   "cell_type": "code",
   "execution_count": 27,
   "metadata": {},
   "outputs": [
    {
     "data": {
      "text/plain": [
       "<BatchDataset shapes: ((None, 256, 256, 3), (None,)), types: (tf.float32, tf.int32)>"
      ]
     },
     "execution_count": 27,
     "metadata": {},
     "output_type": "execute_result"
    }
   ],
   "source": [
    "train_ds = train_ds.repeat().shuffle(buffer_size=300).batch(BATCH_SIZE)\n",
    "train_ds"
   ]
  },
  {
   "cell_type": "code",
   "execution_count": 28,
   "metadata": {},
   "outputs": [],
   "source": [
    "test_ds = test_ds.batch(BATCH_SIZE)"
   ]
  },
  {
   "cell_type": "markdown",
   "metadata": {},
   "source": [
    "建立模型"
   ]
  },
  {
   "cell_type": "code",
   "execution_count": 29,
   "metadata": {},
   "outputs": [],
   "source": [
    "model = tf.keras.Sequential([\n",
    "             tf.keras.layers.Conv2D(64, (3, 3), input_shape=(256, 256, 3), \n",
    "                                    activation='relu'),\n",
    "             tf.keras.layers.BatchNormalization(),\n",
    "             tf.keras.layers.Conv2D(64, (3, 3), activation='relu'),\n",
    "             tf.keras.layers.BatchNormalization(),\n",
    "             tf.keras.layers.MaxPooling2D(),\n",
    "             tf.keras.layers.Conv2D(128, (3, 3), activation='relu'),\n",
    "             tf.keras.layers.BatchNormalization(),\n",
    "             tf.keras.layers.Conv2D(128, (3, 3), activation='relu'),\n",
    "             tf.keras.layers.BatchNormalization(),\n",
    "             tf.keras.layers.MaxPooling2D(),\n",
    "             tf.keras.layers.Conv2D(256, (3, 3), activation='relu'),\n",
    "             tf.keras.layers.BatchNormalization(),\n",
    "             tf.keras.layers.Conv2D(256, (3, 3), activation='relu'),\n",
    "             tf.keras.layers.BatchNormalization(),\n",
    "             tf.keras.layers.MaxPooling2D(),\n",
    "             tf.keras.layers.Conv2D(512, (3, 3), activation='relu'),\n",
    "             tf.keras.layers.BatchNormalization(),\n",
    "             tf.keras.layers.Conv2D(512, (3, 3), activation='relu'),\n",
    "             tf.keras.layers.BatchNormalization(),\n",
    "             tf.keras.layers.MaxPooling2D(),\n",
    "             tf.keras.layers.Conv2D(512, (3, 3), activation='relu'),\n",
    "             tf.keras.layers.BatchNormalization(),\n",
    "             tf.keras.layers.Conv2D(512, (3, 3), activation='relu'),\n",
    "             tf.keras.layers.BatchNormalization(),\n",
    "             tf.keras.layers.Conv2D(512, (3, 3), activation='relu'),\n",
    "             tf.keras.layers.BatchNormalization(),\n",
    "             tf.keras.layers.GlobalAveragePooling2D(),\n",
    "             tf.keras.layers.Dense(1024, activation='relu'),\n",
    "             tf.keras.layers.BatchNormalization(),\n",
    "             tf.keras.layers.Dense(200)    \n",
    "]) "
   ]
  },
  {
   "cell_type": "code",
   "execution_count": 30,
   "metadata": {},
   "outputs": [
    {
     "name": "stdout",
     "output_type": "stream",
     "text": [
      "Model: \"sequential\"\n",
      "_________________________________________________________________\n",
      "Layer (type)                 Output Shape              Param #   \n",
      "=================================================================\n",
      "conv2d (Conv2D)              (None, 254, 254, 64)      1792      \n",
      "_________________________________________________________________\n",
      "batch_normalization (BatchNo (None, 254, 254, 64)      256       \n",
      "_________________________________________________________________\n",
      "conv2d_1 (Conv2D)            (None, 252, 252, 64)      36928     \n",
      "_________________________________________________________________\n",
      "batch_normalization_1 (Batch (None, 252, 252, 64)      256       \n",
      "_________________________________________________________________\n",
      "max_pooling2d (MaxPooling2D) (None, 126, 126, 64)      0         \n",
      "_________________________________________________________________\n",
      "conv2d_2 (Conv2D)            (None, 124, 124, 128)     73856     \n",
      "_________________________________________________________________\n",
      "batch_normalization_2 (Batch (None, 124, 124, 128)     512       \n",
      "_________________________________________________________________\n",
      "conv2d_3 (Conv2D)            (None, 122, 122, 128)     147584    \n",
      "_________________________________________________________________\n",
      "batch_normalization_3 (Batch (None, 122, 122, 128)     512       \n",
      "_________________________________________________________________\n",
      "max_pooling2d_1 (MaxPooling2 (None, 61, 61, 128)       0         \n",
      "_________________________________________________________________\n",
      "conv2d_4 (Conv2D)            (None, 59, 59, 256)       295168    \n",
      "_________________________________________________________________\n",
      "batch_normalization_4 (Batch (None, 59, 59, 256)       1024      \n",
      "_________________________________________________________________\n",
      "conv2d_5 (Conv2D)            (None, 57, 57, 256)       590080    \n",
      "_________________________________________________________________\n",
      "batch_normalization_5 (Batch (None, 57, 57, 256)       1024      \n",
      "_________________________________________________________________\n",
      "max_pooling2d_2 (MaxPooling2 (None, 28, 28, 256)       0         \n",
      "_________________________________________________________________\n",
      "conv2d_6 (Conv2D)            (None, 26, 26, 512)       1180160   \n",
      "_________________________________________________________________\n",
      "batch_normalization_6 (Batch (None, 26, 26, 512)       2048      \n",
      "_________________________________________________________________\n",
      "conv2d_7 (Conv2D)            (None, 24, 24, 512)       2359808   \n",
      "_________________________________________________________________\n",
      "batch_normalization_7 (Batch (None, 24, 24, 512)       2048      \n",
      "_________________________________________________________________\n",
      "max_pooling2d_3 (MaxPooling2 (None, 12, 12, 512)       0         \n",
      "_________________________________________________________________\n",
      "conv2d_8 (Conv2D)            (None, 10, 10, 512)       2359808   \n",
      "_________________________________________________________________\n",
      "batch_normalization_8 (Batch (None, 10, 10, 512)       2048      \n",
      "_________________________________________________________________\n",
      "conv2d_9 (Conv2D)            (None, 8, 8, 512)         2359808   \n",
      "_________________________________________________________________\n",
      "batch_normalization_9 (Batch (None, 8, 8, 512)         2048      \n",
      "_________________________________________________________________\n",
      "conv2d_10 (Conv2D)           (None, 6, 6, 512)         2359808   \n",
      "_________________________________________________________________\n",
      "batch_normalization_10 (Batc (None, 6, 6, 512)         2048      \n",
      "_________________________________________________________________\n",
      "global_average_pooling2d (Gl (None, 512)               0         \n",
      "_________________________________________________________________\n",
      "dense (Dense)                (None, 1024)              525312    \n",
      "_________________________________________________________________\n",
      "batch_normalization_11 (Batc (None, 1024)              4096      \n",
      "_________________________________________________________________\n",
      "dense_1 (Dense)              (None, 200)               205000    \n",
      "=================================================================\n",
      "Total params: 12,513,032\n",
      "Trainable params: 12,504,072\n",
      "Non-trainable params: 8,960\n",
      "_________________________________________________________________\n"
     ]
    }
   ],
   "source": [
    "model.summary()"
   ]
  },
  {
   "cell_type": "code",
   "execution_count": 31,
   "metadata": {},
   "outputs": [],
   "source": [
    "model.compile(optimizer=tf.keras.optimizers.Adam(0.0001),\n",
    "              loss=tf.keras.losses.SparseCategoricalCrossentropy(from_logits=True),\n",
    "              metrics=['acc']\n",
    ")"
   ]
  },
  {
   "cell_type": "code",
   "execution_count": 32,
   "metadata": {},
   "outputs": [],
   "source": [
    "steps_per_epoch = train_count//BATCH_SIZE\n",
    "validation_steps = test_count//BATCH_SIZE"
   ]
  },
  {
   "cell_type": "code",
   "execution_count": 33,
   "metadata": {},
   "outputs": [
    {
     "name": "stdout",
     "output_type": "stream",
     "text": [
      "Epoch 1/10\n",
      "  2/294 [..............................] - ETA: 1:05 - loss: 6.0928 - acc: 0.0156  WARNING:tensorflow:Callbacks method `on_train_batch_end` is slow compared to the batch time (batch time: 0.1376s vs `on_train_batch_end` time: 0.2968s). Check your callbacks.\n",
      "294/294 [==============================] - 141s 481ms/step - loss: 4.9616 - acc: 0.0478 - val_loss: 6.7821 - val_acc: 0.0064\n",
      "Epoch 2/10\n",
      "294/294 [==============================] - 142s 482ms/step - loss: 4.1257 - acc: 0.1079 - val_loss: 4.5010 - val_acc: 0.0651\n",
      "Epoch 3/10\n",
      "294/294 [==============================] - 142s 482ms/step - loss: 3.5477 - acc: 0.1829 - val_loss: 3.8230 - val_acc: 0.1438\n",
      "Epoch 4/10\n",
      "294/294 [==============================] - 141s 481ms/step - loss: 3.0485 - acc: 0.2704 - val_loss: 3.7481 - val_acc: 0.1704\n",
      "Epoch 5/10\n",
      "294/294 [==============================] - 141s 481ms/step - loss: 2.5250 - acc: 0.3772 - val_loss: 3.4072 - val_acc: 0.2158\n",
      "Epoch 6/10\n",
      "294/294 [==============================] - 142s 481ms/step - loss: 2.0675 - acc: 0.4754 - val_loss: 3.2056 - val_acc: 0.2539\n",
      "Epoch 7/10\n",
      "294/294 [==============================] - 142s 481ms/step - loss: 1.6058 - acc: 0.5998 - val_loss: 3.1682 - val_acc: 0.2830\n",
      "Epoch 8/10\n",
      "294/294 [==============================] - 142s 482ms/step - loss: 1.1680 - acc: 0.7151 - val_loss: 3.1548 - val_acc: 0.2800\n",
      "Epoch 9/10\n",
      "294/294 [==============================] - 142s 482ms/step - loss: 0.7441 - acc: 0.8456 - val_loss: 3.0695 - val_acc: 0.3035\n",
      "Epoch 10/10\n",
      "294/294 [==============================] - 142s 482ms/step - loss: 0.4083 - acc: 0.9364 - val_loss: 3.0157 - val_acc: 0.3330\n"
     ]
    }
   ],
   "source": [
    "history = model.fit(train_ds, epochs=10, \n",
    "                    steps_per_epoch=steps_per_epoch, \n",
    "                    validation_data=test_ds, \n",
    "                    validation_steps=validation_steps)"
   ]
  },
  {
   "cell_type": "code",
   "execution_count": 34,
   "metadata": {},
   "outputs": [
    {
     "data": {
      "text/plain": [
       "dict_keys(['loss', 'acc', 'val_loss', 'val_acc'])"
      ]
     },
     "execution_count": 34,
     "metadata": {},
     "output_type": "execute_result"
    }
   ],
   "source": [
    "history.history.keys()"
   ]
  },
  {
   "cell_type": "code",
   "execution_count": 35,
   "metadata": {},
   "outputs": [
    {
     "data": {
      "text/plain": [
       "<matplotlib.legend.Legend at 0x1f4ec047c10>"
      ]
     },
     "execution_count": 35,
     "metadata": {},
     "output_type": "execute_result"
    },
    {
     "data": {
      "image/png": "[encoded data removed]",
      "text/plain": [
       "<Figure size 432x288 with 1 Axes>"
      ]
     },
     "metadata": {
      "needs_background": "light"
     },
     "output_type": "display_data"
    }
   ],
   "source": [
    "plt.plot(history.epoch, history.history.get('acc'), label='acc')\n",
    "plt.plot(history.epoch, history.history.get('val_acc'), label='val_acc')\n",
    "plt.legend()"
   ]
  },
  {
   "cell_type": "code",
   "execution_count": 36,
   "metadata": {},
   "outputs": [
    {
     "data": {
      "text/plain": [
       "<matplotlib.legend.Legend at 0x1f60be6e9d0>"
      ]
     },
     "execution_count": 36,
     "metadata": {},
     "output_type": "execute_result"
    },
    {
     "data": {
      "image/png": "[encoded data removed]",
      "text/plain": [
       "<Figure size 432x288 with 1 Axes>"
      ]
     },
     "metadata": {
      "needs_background": "light"
     },
     "output_type": "display_data"
    }
   ],
   "source": [
    "plt.plot(history.epoch, history.history.get('loss'), label='loss')\n",
    "plt.plot(history.epoch, history.history.get('val_loss'), label='val_loss')\n",
    "plt.legend()"
   ]
  },
  {
   "cell_type": "code",
   "execution_count": 37,
   "metadata": {},
   "outputs": [],
   "source": [
    "model.save('birds.h5')"
   ]
  },
  {
   "cell_type": "code",
   "execution_count": 38,
   "metadata": {},
   "outputs": [],
   "source": [
    "model.save_weights('birds_weights.h5')"
   ]
  },
  {
   "cell_type": "code",
   "execution_count": 39,
   "metadata": {},
   "outputs": [],
   "source": [
    "def load_and_preprocess_image(path):\n",
    "    image = tf.io.read_file(path)\n",
    "    image = tf.image.decode_jpeg(image, channels=3)\n",
    "    image = tf.image.resize(image, [256, 256])\n",
    "    image = tf.cast(image, tf.float32)\n",
    "    image = image/255.0  # normalize to [0,1] range\n",
    "    return image"
   ]
  },
  {
   "cell_type": "code",
   "execution_count": 40,
   "metadata": {},
   "outputs": [],
   "source": [
    "test_img = 'Bobolink_0013_9367.jpg'\n",
    "test_tensor = load_and_preprocess_image(test_img)\n",
    "test_tensor = tf.expand_dims(test_tensor, axis=0)\n",
    "pred = model.predict(test_tensor)"
   ]
  },
  {
   "cell_type": "code",
   "execution_count": 41,
   "metadata": {},
   "outputs": [
    {
     "data": {
      "text/plain": [
       "'Bobolink'"
      ]
     },
     "execution_count": 41,
     "metadata": {},
     "output_type": "execute_result"
    }
   ],
   "source": [
    "index_to_label.get(np.argmax(pred))"
   ]
  },
  {
   "cell_type": "code",
   "execution_count": null,
   "metadata": {},
   "outputs": [],
   "source": []
  }
 ],
 "metadata": {
  "kernelspec": {
   "display_name": "Python 3",
   "language": "python",
   "name": "python3"
  },
  "language_info": {
   "codemirror_mode": {
    "name": "ipython",
    "version": 3
   },
   "file_extension": ".py",
   "mimetype": "text/x-python",
   "name": "python",
   "nbconvert_exporter": "python",
   "pygments_lexer": "ipython3",
   "version": "3.8.5"
  }
 },
 "nbformat": 4,
 "nbformat_minor": 2
}
