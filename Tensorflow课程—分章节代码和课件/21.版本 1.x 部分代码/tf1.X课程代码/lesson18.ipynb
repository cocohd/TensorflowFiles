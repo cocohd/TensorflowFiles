{
 "cells": [
  {
   "cell_type": "code",
   "execution_count": 1,
   "metadata": {
    "collapsed": true
   },
   "outputs": [],
   "source": [
    "import tensorflow as tf\n",
    "import numpy as np"
   ]
  },
  {
   "cell_type": "code",
   "execution_count": 2,
   "metadata": {},
   "outputs": [
    {
     "name": "stdout",
     "output_type": "stream",
     "text": [
      "Extracting mnist/train-images-idx3-ubyte.gz\n",
      "Extracting mnist/train-labels-idx1-ubyte.gz\n",
      "Extracting mnist/t10k-images-idx3-ubyte.gz\n",
      "Extracting mnist/t10k-labels-idx1-ubyte.gz\n"
     ]
    }
   ],
   "source": [
    "from tensorflow.examples.tutorials.mnist import input_data\n",
    "mnist = input_data.read_data_sets('mnist/', one_hot=True)"
   ]
  },
  {
   "cell_type": "code",
   "execution_count": 3,
   "metadata": {
    "collapsed": true
   },
   "outputs": [],
   "source": [
    "learning_rate = 0.001\n",
    "batch_size = 128\n",
    "\n",
    "n_input = 28\n",
    "n_steps = 28\n",
    "n_hidden = 128\n",
    "n_classes = 10"
   ]
  },
  {
   "cell_type": "code",
   "execution_count": 4,
   "metadata": {
    "collapsed": true
   },
   "outputs": [],
   "source": [
    "x = tf.placeholder(tf.float32, [None, n_steps,n_input])\n",
    "y = tf.placeholder(tf.float32, [None, n_classes])"
   ]
  },
  {
   "cell_type": "code",
   "execution_count": 5,
   "metadata": {
    "collapsed": true
   },
   "outputs": [],
   "source": [
    "output, _ = tf.nn.dynamic_rnn(\n",
    "            tf.contrib.rnn.GRUCell(n_hidden),\n",
    "            x,\n",
    "            dtype=tf.float32,\n",
    "            sequence_length = batch_size*[n_input],\n",
    "        )"
   ]
  },
  {
   "cell_type": "code",
   "execution_count": 6,
   "metadata": {},
   "outputs": [
    {
     "data": {
      "text/plain": [
       "TensorShape([Dimension(None), Dimension(28), Dimension(128)])"
      ]
     },
     "execution_count": 6,
     "metadata": {},
     "output_type": "execute_result"
    }
   ],
   "source": [
    "output.get_shape()"
   ]
  },
  {
   "cell_type": "code",
   "execution_count": 7,
   "metadata": {
    "collapsed": true
   },
   "outputs": [],
   "source": [
    "index = tf.range(0,batch_size)*n_steps + (n_input - 1)\n",
    "flat = tf.reshape(output,[-1,int(output.get_shape()[2])])\n",
    "last = tf.gather(flat,index)"
   ]
  },
  {
   "cell_type": "code",
   "execution_count": 8,
   "metadata": {
    "collapsed": true
   },
   "outputs": [],
   "source": [
    "num_classes = int(y.get_shape()[1])\n",
    "weight = tf.Variable(tf.truncated_normal([n_hidden, num_classes], stddev=0.01))\n",
    "bias = tf.Variable(tf.constant(0.1, shape=[num_classes]))\n",
    "prediction = tf.nn.softmax(tf.matmul(last, weight) + bias)"
   ]
  },
  {
   "cell_type": "code",
   "execution_count": 9,
   "metadata": {
    "collapsed": true
   },
   "outputs": [],
   "source": [
    "cross_entropy = -tf.reduce_sum(y * tf.log(prediction))"
   ]
  },
  {
   "cell_type": "code",
   "execution_count": 10,
   "metadata": {},
   "outputs": [
    {
     "name": "stderr",
     "output_type": "stream",
     "text": [
      "C:\\Users\\qiqi\\Anaconda3\\lib\\site-packages\\tensorflow\\python\\ops\\gradients_impl.py:95: UserWarning: Converting sparse IndexedSlices to a dense Tensor of unknown shape. This may consume a large amount of memory.\n",
      "  \"Converting sparse IndexedSlices to a dense Tensor of unknown shape. \"\n"
     ]
    }
   ],
   "source": [
    "optimizer = tf.train.AdamOptimizer(learning_rate, beta1=0.5)\n",
    "grads = optimizer.compute_gradients(cross_entropy)\n",
    "for i, (g, v) in enumerate(grads):\n",
    "    if g is not None:\n",
    "        grads[i] = (tf.clip_by_norm(g, 5), v)  # clip gradients\n",
    "train_op = optimizer.apply_gradients(grads)"
   ]
  },
  {
   "cell_type": "code",
   "execution_count": 11,
   "metadata": {
    "collapsed": true
   },
   "outputs": [],
   "source": [
    "correct_pred = tf.equal(tf.argmax(prediction,1), tf.argmax(y,1))\n",
    "accuracy = tf.reduce_mean(tf.cast(correct_pred, tf.float32))"
   ]
  },
  {
   "cell_type": "code",
   "execution_count": 12,
   "metadata": {
    "collapsed": true
   },
   "outputs": [],
   "source": [
    "sess = tf.Session()"
   ]
  },
  {
   "cell_type": "code",
   "execution_count": 13,
   "metadata": {},
   "outputs": [
    {
     "name": "stdout",
     "output_type": "stream",
     "text": [
      "Iter 0, Minibatch Loss= 293.964844, Training Accuracy= 0.25000\n",
      "Iter 50, Minibatch Loss= 166.142029, Training Accuracy= 0.60156\n",
      "Iter 100, Minibatch Loss= 100.657265, Training Accuracy= 0.71875\n",
      "Iter 150, Minibatch Loss= 77.566505, Training Accuracy= 0.82031\n",
      "Iter 200, Minibatch Loss= 80.115059, Training Accuracy= 0.78906\n",
      "Iter 250, Minibatch Loss= 42.491905, Training Accuracy= 0.90625\n",
      "Iter 300, Minibatch Loss= 50.145142, Training Accuracy= 0.87500\n",
      "Iter 350, Minibatch Loss= 35.765850, Training Accuracy= 0.89062\n",
      "Iter 400, Minibatch Loss= 26.150940, Training Accuracy= 0.94531\n",
      "Iter 450, Minibatch Loss= 23.897655, Training Accuracy= 0.93750\n",
      "Iter 500, Minibatch Loss= 19.633280, Training Accuracy= 0.95312\n",
      "Iter 550, Minibatch Loss= 17.638645, Training Accuracy= 0.96875\n",
      "Iter 600, Minibatch Loss= 14.586130, Training Accuracy= 0.98438\n",
      "Iter 650, Minibatch Loss= 12.010118, Training Accuracy= 0.98438\n",
      "Iter 700, Minibatch Loss= 15.924150, Training Accuracy= 0.96094\n",
      "Iter 750, Minibatch Loss= 21.219090, Training Accuracy= 0.95312\n",
      "Iter 800, Minibatch Loss= 15.586688, Training Accuracy= 0.97656\n",
      "Iter 850, Minibatch Loss= 5.118237, Training Accuracy= 1.00000\n",
      "Iter 900, Minibatch Loss= 9.664072, Training Accuracy= 0.97656\n",
      "Iter 950, Minibatch Loss= 9.781052, Training Accuracy= 0.98438\n",
      "Iter 1000, Minibatch Loss= 7.160455, Training Accuracy= 0.99219\n",
      "Iter 1050, Minibatch Loss= 3.119517, Training Accuracy= 1.00000\n",
      "Iter 1100, Minibatch Loss= 6.138434, Training Accuracy= 0.99219\n",
      "Iter 1150, Minibatch Loss= 12.820186, Training Accuracy= 0.97656\n",
      "Iter 1200, Minibatch Loss= 10.097084, Training Accuracy= 0.97656\n",
      "Iter 1250, Minibatch Loss= 14.882349, Training Accuracy= 0.96875\n",
      "Optimization Finished!\n"
     ]
    }
   ],
   "source": [
    "init = tf.global_variables_initializer() \n",
    "sess.run(init) \n",
    "for step in range(1300): \n",
    "    batch_x, batch_y = mnist.train.next_batch(batch_size) \n",
    "    batch_x = batch_x.reshape((batch_size,n_steps,n_input))\n",
    "    sess.run(train_op, feed_dict={x: batch_x, y: batch_y})\n",
    "    if step % 50 == 0:\n",
    "        acc = sess.run(accuracy, feed_dict={x: batch_x, y: batch_y})\n",
    "        loss = sess.run(cross_entropy, feed_dict={x: batch_x, y: batch_y})\n",
    "        print(\"Iter \" + str(step) + \", Minibatch Loss= \" +  \"{:.6f}\".format(loss) + \", Training Accuracy= \" +  \"{:.5f}\".format(acc))\n",
    "print(\"Optimization Finished!\")"
   ]
  },
  {
   "cell_type": "code",
   "execution_count": 14,
   "metadata": {
    "collapsed": true
   },
   "outputs": [],
   "source": [
    "test_x = mnist.test.images\n",
    "test_x = test_x.reshape((-1,n_steps,n_input))\n",
    "test_y = mnist.test.labels"
   ]
  },
  {
   "cell_type": "code",
   "execution_count": 15,
   "metadata": {},
   "outputs": [
    {
     "name": "stdout",
     "output_type": "stream",
     "text": [
      "0.992188\n"
     ]
    }
   ],
   "source": [
    "acc = sess.run(accuracy, feed_dict={x: test_x[:128], y: test_y[:128]})\n",
    "print(acc)"
   ]
  },
  {
   "cell_type": "code",
   "execution_count": null,
   "metadata": {
    "collapsed": true
   },
   "outputs": [],
   "source": []
  }
 ],
 "metadata": {
  "kernelspec": {
   "display_name": "Python 3",
   "language": "python",
   "name": "python3"
  },
  "language_info": {
   "codemirror_mode": {
    "name": "ipython",
    "version": 3
   },
   "file_extension": ".py",
   "mimetype": "text/x-python",
   "name": "python",
   "nbconvert_exporter": "python",
   "pygments_lexer": "ipython3",
   "version": "3.6.1"
  }
 },
 "nbformat": 4,
 "nbformat_minor": 2
}
