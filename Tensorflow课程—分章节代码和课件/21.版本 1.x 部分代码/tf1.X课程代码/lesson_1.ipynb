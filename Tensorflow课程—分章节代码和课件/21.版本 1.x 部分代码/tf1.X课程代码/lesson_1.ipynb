{
 "cells": [
  {
   "cell_type": "code",
   "execution_count": 1,
   "metadata": {
    "collapsed": true
   },
   "outputs": [],
   "source": [
    "import tensorflow as tf"
   ]
  },
  {
   "cell_type": "code",
   "execution_count": 2,
   "metadata": {
    "collapsed": true
   },
   "outputs": [],
   "source": [
    "import numpy as np\n",
    "import matplotlib.pyplot as plt"
   ]
  },
  {
   "cell_type": "code",
   "execution_count": 3,
   "metadata": {
    "collapsed": true
   },
   "outputs": [],
   "source": [
    "a = tf.random_normal([2,20])"
   ]
  },
  {
   "cell_type": "code",
   "execution_count": 5,
   "metadata": {},
   "outputs": [],
   "source": [
    "sess = tf.Session()"
   ]
  },
  {
   "cell_type": "code",
   "execution_count": 8,
   "metadata": {},
   "outputs": [],
   "source": [
    "out = sess.run(a)"
   ]
  },
  {
   "cell_type": "code",
   "execution_count": 9,
   "metadata": {},
   "outputs": [
    {
     "data": {
      "text/plain": [
       "array([[-0.68031961, -0.51840907, -0.53549254,  1.51236391, -0.96429133,\n",
       "         0.84790844, -1.20953012, -0.44622856, -0.88163316, -0.19227636,\n",
       "        -1.02810431, -0.57487798,  0.66821504, -1.61282086,  0.07543381,\n",
       "        -2.17958784, -0.17637818, -0.43708581,  0.39976323,  0.60174656],\n",
       "       [ 0.24393873, -2.26587367,  0.35389596,  1.21521723,  1.36715817,\n",
       "         1.91565895, -1.15552366,  0.05932   , -0.13200273, -1.05747473,\n",
       "         0.09699664, -1.24768674,  1.15292335,  2.32580066,  0.78415   ,\n",
       "        -1.70844829, -0.14046535,  1.33002996, -0.3846308 ,  0.71822917]], dtype=float32)"
      ]
     },
     "execution_count": 9,
     "metadata": {},
     "output_type": "execute_result"
    }
   ],
   "source": [
    "out"
   ]
  },
  {
   "cell_type": "code",
   "execution_count": 10,
   "metadata": {
    "collapsed": true
   },
   "outputs": [],
   "source": [
    "x,y = out"
   ]
  },
  {
   "cell_type": "code",
   "execution_count": 11,
   "metadata": {},
   "outputs": [
    {
     "data": {
      "text/plain": [
       "array([-0.68031961, -0.51840907, -0.53549254,  1.51236391, -0.96429133,\n",
       "        0.84790844, -1.20953012, -0.44622856, -0.88163316, -0.19227636,\n",
       "       -1.02810431, -0.57487798,  0.66821504, -1.61282086,  0.07543381,\n",
       "       -2.17958784, -0.17637818, -0.43708581,  0.39976323,  0.60174656], dtype=float32)"
      ]
     },
     "execution_count": 11,
     "metadata": {},
     "output_type": "execute_result"
    }
   ],
   "source": [
    "x"
   ]
  },
  {
   "cell_type": "code",
   "execution_count": 12,
   "metadata": {},
   "outputs": [
    {
     "data": {
      "text/plain": [
       "array([ 0.24393873, -2.26587367,  0.35389596,  1.21521723,  1.36715817,\n",
       "        1.91565895, -1.15552366,  0.05932   , -0.13200273, -1.05747473,\n",
       "        0.09699664, -1.24768674,  1.15292335,  2.32580066,  0.78415   ,\n",
       "       -1.70844829, -0.14046535,  1.33002996, -0.3846308 ,  0.71822917], dtype=float32)"
      ]
     },
     "execution_count": 12,
     "metadata": {},
     "output_type": "execute_result"
    }
   ],
   "source": [
    "y"
   ]
  },
  {
   "cell_type": "code",
   "execution_count": 13,
   "metadata": {
    "collapsed": true
   },
   "outputs": [],
   "source": [
    "plt.scatter(x,y)\n",
    "plt.show()"
   ]
  },
  {
   "cell_type": "code",
   "execution_count": null,
   "metadata": {
    "collapsed": true
   },
   "outputs": [],
   "source": []
  }
 ],
 "metadata": {
  "anaconda-cloud": {},
  "kernelspec": {
   "display_name": "Python 3",
   "language": "python",
   "name": "python3"
  },
  "language_info": {
   "codemirror_mode": {
    "name": "ipython",
    "version": 3
   },
   "file_extension": ".py",
   "mimetype": "text/x-python",
   "name": "python",
   "nbconvert_exporter": "python",
   "pygments_lexer": "ipython3",
   "version": "3.6.1"
  }
 },
 "nbformat": 4,
 "nbformat_minor": 1
}
