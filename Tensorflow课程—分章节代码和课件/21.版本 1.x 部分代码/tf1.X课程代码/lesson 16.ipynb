{
 "cells": [
  {
   "cell_type": "code",
   "execution_count": 1,
   "metadata": {
    "collapsed": true
   },
   "outputs": [],
   "source": [
    "import numpy as np\n",
    "import tensorflow as tf"
   ]
  },
  {
   "cell_type": "code",
   "execution_count": 2,
   "metadata": {
    "collapsed": true
   },
   "outputs": [],
   "source": [
    "x = tf.placeholder(\"float\", shape=[None,32,32,3])\n",
    "y_ = tf.placeholder(tf.int32, shape=[None])\n",
    "keep_prob = tf.placeholder(\"float\")\n",
    "training_phase = tf.placeholder(tf.bool)"
   ]
  },
  {
   "cell_type": "code",
   "execution_count": 3,
   "metadata": {
    "collapsed": true
   },
   "outputs": [],
   "source": [
    "def im_pre(image):\n",
    "    new_img = tf.image.random_brightness(image, max_delta=63) #随机调节图像的亮度  \n",
    "    new_img = tf.image.random_flip_left_right(new_img) #随机地左右翻转图像  \n",
    "    new_img = tf.image.random_contrast(new_img, lower=0.2, upper=1.8) #随机地调整图像对比度  \n",
    "    new_img = tf.image.per_image_standardization(image)\n",
    "    return new_img"
   ]
  },
  {
   "cell_type": "code",
   "execution_count": 4,
   "metadata": {
    "collapsed": true
   },
   "outputs": [],
   "source": [
    "img =  tf.map_fn(im_pre,x)"
   ]
  },
  {
   "cell_type": "code",
   "execution_count": 5,
   "metadata": {
    "collapsed": true
   },
   "outputs": [],
   "source": [
    "b_size = 128\n",
    "learning_rate = 0.0001"
   ]
  },
  {
   "cell_type": "code",
   "execution_count": 6,
   "metadata": {
    "collapsed": true
   },
   "outputs": [],
   "source": [
    "reg = tf.contrib.layers.l2_regularizer(scale=0.1) "
   ]
  },
  {
   "cell_type": "code",
   "execution_count": 7,
   "metadata": {
    "collapsed": true
   },
   "outputs": [],
   "source": [
    "conv_2d_w1 = tf.Variable(tf.truncated_normal([5, 5, 3, 32],stddev=0.0001))\n",
    "conv_2d_b1 =  tf.Variable(tf.truncated_normal([32]))\n",
    "conv2d_1 = tf.nn.conv2d(img, conv_2d_w1,strides=[1, 1, 1, 1], padding='SAME') + conv_2d_b1"
   ]
  },
  {
   "cell_type": "code",
   "execution_count": 8,
   "metadata": {
    "collapsed": true
   },
   "outputs": [],
   "source": [
    "conv2d_1 = tf.contrib.layers.batch_norm(conv2d_1,decay=0.96, is_training=training_phase)"
   ]
  },
  {
   "cell_type": "code",
   "execution_count": 9,
   "metadata": {
    "collapsed": true
   },
   "outputs": [],
   "source": [
    "conv2d_1_output =  tf.nn.relu(conv2d_1)"
   ]
  },
  {
   "cell_type": "code",
   "execution_count": 10,
   "metadata": {
    "collapsed": true
   },
   "outputs": [],
   "source": [
    "pool_1 = tf.nn.max_pool(conv2d_1_output,\n",
    "                       ksize = [1,3,3,1],\n",
    "                       strides = [1,2,2,1],\n",
    "                       padding='SAME')"
   ]
  },
  {
   "cell_type": "code",
   "execution_count": 11,
   "metadata": {
    "collapsed": true
   },
   "outputs": [],
   "source": [
    "conv_2d_w2 = tf.Variable(tf.truncated_normal([5, 5, 32, 32],stddev=0.001))\n",
    "conv_2d_b2 =  tf.Variable(tf.truncated_normal([32]))\n",
    "conv2d_2 = tf.nn.conv2d(pool_1, conv_2d_w2,strides=[1, 1, 1, 1], padding='SAME') + conv_2d_b2"
   ]
  },
  {
   "cell_type": "code",
   "execution_count": 12,
   "metadata": {
    "collapsed": true
   },
   "outputs": [],
   "source": [
    "conv2d_2 = tf.contrib.layers.batch_norm(conv2d_2,decay=0.96, is_training=training_phase)"
   ]
  },
  {
   "cell_type": "code",
   "execution_count": 13,
   "metadata": {
    "collapsed": true
   },
   "outputs": [],
   "source": [
    "conv2d_2_output =  tf.nn.relu(conv2d_2)"
   ]
  },
  {
   "cell_type": "code",
   "execution_count": 14,
   "metadata": {
    "collapsed": true
   },
   "outputs": [],
   "source": [
    "pool_2 = tf.nn.max_pool(conv2d_2_output,\n",
    "                       ksize = [1,3,3,1],\n",
    "                       strides = [1,2,2,1],\n",
    "                       padding='SAME')"
   ]
  },
  {
   "cell_type": "code",
   "execution_count": 15,
   "metadata": {
    "collapsed": true
   },
   "outputs": [],
   "source": [
    "conv_2d_w3 = tf.Variable(tf.truncated_normal([5, 5, 32, 64],stddev=0.01))\n",
    "conv_2d_b3 =  tf.Variable(tf.truncated_normal([64]))\n",
    "conv2d_3 = tf.nn.conv2d(pool_2, conv_2d_w3,strides=[1, 1, 1, 1], padding='SAME') + conv_2d_b3"
   ]
  },
  {
   "cell_type": "code",
   "execution_count": 16,
   "metadata": {
    "collapsed": true
   },
   "outputs": [],
   "source": [
    "conv2d_3 = tf.contrib.layers.batch_norm(conv2d_3,decay=0.96, is_training=training_phase)"
   ]
  },
  {
   "cell_type": "code",
   "execution_count": 17,
   "metadata": {
    "collapsed": true
   },
   "outputs": [],
   "source": [
    "conv2d_3_output =  tf.nn.relu(conv2d_3)"
   ]
  },
  {
   "cell_type": "code",
   "execution_count": 18,
   "metadata": {
    "collapsed": true
   },
   "outputs": [],
   "source": [
    "pool_3 = tf.nn.max_pool(conv2d_3_output,\n",
    "                       ksize = [1,3,3,1],\n",
    "                       strides = [1,2,2,1],\n",
    "                       padding='SAME')"
   ]
  },
  {
   "cell_type": "code",
   "execution_count": 19,
   "metadata": {
    "collapsed": true
   },
   "outputs": [],
   "source": [
    "pool3_flat = tf.reshape(pool_3, [-1, 4*4*64])"
   ]
  },
  {
   "cell_type": "code",
   "execution_count": 20,
   "metadata": {
    "collapsed": true
   },
   "outputs": [],
   "source": [
    "fc_w1 = tf.Variable(tf.truncated_normal([4*4*64,1024],stddev=0.1))\n",
    "fc_b1 =  tf.Variable(tf.truncated_normal([1024]))\n",
    "fc_1 = tf.matmul(pool3_flat,fc_w1) + fc_b1"
   ]
  },
  {
   "cell_type": "code",
   "execution_count": 21,
   "metadata": {
    "collapsed": true
   },
   "outputs": [],
   "source": [
    "fc_1 = tf.contrib.layers.batch_norm(fc_1,decay=0.96, is_training=training_phase)"
   ]
  },
  {
   "cell_type": "code",
   "execution_count": 22,
   "metadata": {
    "collapsed": true
   },
   "outputs": [],
   "source": [
    "fc_1_output =  tf.nn.relu(fc_1)"
   ]
  },
  {
   "cell_type": "code",
   "execution_count": 23,
   "metadata": {
    "collapsed": true
   },
   "outputs": [],
   "source": [
    "fc_w2 = tf.Variable(tf.truncated_normal([1024,128],stddev=0.1))\n",
    "fc_b2 =  tf.Variable(tf.truncated_normal([128]))\n",
    "fc_2 = tf.matmul(fc_1_output,fc_w2) + fc_b2"
   ]
  },
  {
   "cell_type": "code",
   "execution_count": 24,
   "metadata": {
    "collapsed": true
   },
   "outputs": [],
   "source": [
    "fc_2 = tf.contrib.layers.batch_norm(fc_2,decay=0.96, is_training=training_phase)"
   ]
  },
  {
   "cell_type": "code",
   "execution_count": 25,
   "metadata": {
    "collapsed": true
   },
   "outputs": [],
   "source": [
    "fc_2_output =  tf.nn.relu(fc_2)"
   ]
  },
  {
   "cell_type": "code",
   "execution_count": 26,
   "metadata": {
    "collapsed": true
   },
   "outputs": [],
   "source": [
    "fc2_drop = tf.nn.dropout(fc_2_output, keep_prob)"
   ]
  },
  {
   "cell_type": "code",
   "execution_count": 27,
   "metadata": {
    "collapsed": true
   },
   "outputs": [],
   "source": [
    "out_w1 = tf.Variable(tf.truncated_normal([128,10]))\n",
    "out_b1 = tf.Variable(tf.truncated_normal([10]))\n",
    "combine = tf.matmul(fc2_drop,out_w1)+out_b1\n",
    "pred = tf.cast(tf.argmax(tf.nn.softmax(combine),1),tf.int32)"
   ]
  },
  {
   "cell_type": "code",
   "execution_count": 28,
   "metadata": {
    "collapsed": true
   },
   "outputs": [],
   "source": [
    "weights = tf.get_collection(tf.GraphKeys.TRAINABLE_VARIABLES)"
   ]
  },
  {
   "cell_type": "code",
   "execution_count": 29,
   "metadata": {
    "collapsed": true
   },
   "outputs": [],
   "source": [
    "reg_ws = tf.contrib.layers.apply_regularization(reg,weights_list = weights)"
   ]
  },
  {
   "cell_type": "code",
   "execution_count": 30,
   "metadata": {
    "collapsed": true
   },
   "outputs": [],
   "source": [
    "#reg_ws = tf.get_collection(tf.GraphKeys.REGULARIZATION_LOSSES)"
   ]
  },
  {
   "cell_type": "code",
   "execution_count": 31,
   "metadata": {
    "collapsed": true
   },
   "outputs": [],
   "source": [
    "update_avg = tf.get_collection(tf.GraphKeys.UPDATE_OPS)"
   ]
  },
  {
   "cell_type": "code",
   "execution_count": 32,
   "metadata": {
    "collapsed": true
   },
   "outputs": [],
   "source": [
    "loss = tf.reduce_sum(tf.nn.sparse_softmax_cross_entropy_with_logits(labels=y_, logits=combine))"
   ]
  },
  {
   "cell_type": "code",
   "execution_count": 33,
   "metadata": {
    "collapsed": true
   },
   "outputs": [],
   "source": [
    "#loss = -tf.reduce_sum(y_*tf.log(tf.clip_by_value(pred,1e-11,1.0)))\n",
    "loss_fn = loss + tf.reduce_sum(reg_ws)"
   ]
  },
  {
   "cell_type": "code",
   "execution_count": 34,
   "metadata": {
    "collapsed": true
   },
   "outputs": [],
   "source": [
    "with tf.control_dependencies(update_avg):\n",
    "    train_step = tf.train.AdamOptimizer(learning_rate).minimize(loss_fn)"
   ]
  },
  {
   "cell_type": "code",
   "execution_count": 35,
   "metadata": {
    "collapsed": true
   },
   "outputs": [],
   "source": [
    "accuracy = tf.reduce_mean(tf.cast(tf.equal(pred,y_), tf.float32))"
   ]
  },
  {
   "cell_type": "code",
   "execution_count": 36,
   "metadata": {
    "collapsed": true
   },
   "outputs": [],
   "source": [
    "def unpickle(file):\n",
    "    import pickle\n",
    "    with open(file, 'rb') as fo:\n",
    "        dict = pickle.load(fo, encoding='bytes')\n",
    "    return dict"
   ]
  },
  {
   "cell_type": "code",
   "execution_count": 39,
   "metadata": {
    "collapsed": true
   },
   "outputs": [],
   "source": [
    "data_list = []\n",
    "label_list = []\n",
    "for i in range(1,6):\n",
    "    data = unpickle('./cifar-10/data_batch_{}'.format(i))\n",
    "    data_list.append(data[b'data'])\n",
    "    label_list.append(data[b'labels'])"
   ]
  },
  {
   "cell_type": "code",
   "execution_count": 40,
   "metadata": {
    "collapsed": true
   },
   "outputs": [],
   "source": [
    "all_data = np.concatenate(data_list)\n",
    "all_label = np.concatenate(label_list)"
   ]
  },
  {
   "cell_type": "code",
   "execution_count": 37,
   "metadata": {
    "collapsed": true
   },
   "outputs": [],
   "source": [
    "def generatebatch(X,Y,n_examples, batch_size):\n",
    "    for batch_i in range(n_examples // batch_size):\n",
    "        start = batch_i*batch_size\n",
    "        end = start + batch_size\n",
    "        batch_xs = X[start:end]\n",
    "        batch_ys = Y[start:end]\n",
    "        yield batch_xs, batch_ys # 生成每一个batch"
   ]
  },
  {
   "cell_type": "code",
   "execution_count": 42,
   "metadata": {
    "scrolled": true
   },
   "outputs": [
    {
     "name": "stdout",
     "output_type": "stream",
     "text": [
      "[1369.6284, 0.140625]\n",
      "[628.1438, 0.3125]\n",
      "[547.77747, 0.3984375]\n",
      "[355.21271, 0.4453125]\n",
      "0 [490.77081, 0.375]\n",
      "[386.22327, 0.390625]\n",
      "[345.26874, 0.4609375]\n",
      "[253.89771, 0.484375]\n",
      "[250.1356, 0.4765625]\n",
      "[314.26764, 0.4765625]\n",
      "[290.87585, 0.4921875]\n",
      "[222.46878, 0.5078125]\n",
      "[329.89886, 0.484375]\n",
      "2 [237.0118, 0.515625]\n",
      "[248.05194, 0.578125]\n",
      "[178.05533, 0.578125]\n",
      "[273.87378, 0.5234375]\n",
      "[206.06012, 0.5625]\n",
      "[192.15402, 0.5859375]\n",
      "[202.27774, 0.59375]\n",
      "[307.88812, 0.4921875]\n",
      "[156.87416, 0.5859375]\n",
      "4 [152.72061, 0.6484375]\n",
      "[166.65565, 0.5546875]\n",
      "[139.55022, 0.625]\n",
      "[141.12291, 0.640625]\n",
      "[199.5015, 0.6015625]\n",
      "[179.99884, 0.6328125]\n",
      "[176.64891, 0.5234375]\n",
      "[133.9993, 0.6484375]\n",
      "[186.08781, 0.6171875]\n",
      "6 [130.98169, 0.7109375]\n",
      "[159.3278, 0.6171875]\n",
      "[126.03557, 0.703125]\n",
      "[162.40244, 0.6875]\n",
      "[198.90579, 0.6484375]\n",
      "[115.09143, 0.703125]\n",
      "[206.66866, 0.6015625]\n",
      "[150.11266, 0.6875]\n",
      "[170.43134, 0.6171875]\n",
      "8 [156.30328, 0.6328125]\n",
      "[121.53514, 0.6953125]\n",
      "[134.25955, 0.640625]\n",
      "[174.09216, 0.6640625]\n",
      "[159.58595, 0.640625]\n",
      "[185.79832, 0.6328125]\n",
      "[178.44391, 0.640625]\n",
      "[124.59065, 0.71875]\n",
      "10 [93.055161, 0.734375]\n",
      "[143.78329, 0.671875]\n",
      "[122.05963, 0.75]\n",
      "[148.6254, 0.6640625]\n",
      "[136.21243, 0.6484375]\n",
      "[151.92311, 0.625]\n",
      "[111.00602, 0.6796875]\n",
      "[128.47932, 0.6328125]\n",
      "[118.55, 0.7109375]\n",
      "12 [126.6941, 0.7265625]\n",
      "[150.1283, 0.6328125]\n",
      "[93.730392, 0.7734375]\n",
      "[117.71889, 0.734375]\n",
      "[107.02547, 0.71875]\n",
      "[112.31348, 0.7734375]\n",
      "[124.85457, 0.71875]\n",
      "[106.2817, 0.7265625]\n",
      "[117.3317, 0.6640625]\n",
      "14 [114.95175, 0.7890625]\n",
      "[99.690544, 0.75]\n",
      "[173.32916, 0.625]\n",
      "[99.149895, 0.6796875]\n",
      "[97.200073, 0.796875]\n",
      "[107.09688, 0.7734375]\n",
      "[121.5034, 0.734375]\n",
      "[89.141418, 0.7578125]\n",
      "[79.550789, 0.859375]\n",
      "16 [88.804665, 0.7421875]\n",
      "[132.71388, 0.6484375]\n",
      "[92.161766, 0.75]\n",
      "[78.984848, 0.765625]\n",
      "[83.312317, 0.7890625]\n",
      "[111.58739, 0.7265625]\n",
      "[63.581184, 0.84375]\n",
      "[87.572021, 0.7578125]\n",
      "[116.74244, 0.78125]\n",
      "18 [118.24586, 0.7421875]\n",
      "[87.594971, 0.7734375]\n",
      "[101.86349, 0.75]\n",
      "[81.851463, 0.7890625]\n",
      "[97.584282, 0.796875]\n",
      "[114.45248, 0.75]\n",
      "[81.333298, 0.796875]\n",
      "[77.684456, 0.8203125]\n",
      "20 [94.267998, 0.75]\n",
      "[78.046028, 0.7890625]\n",
      "[101.19431, 0.7421875]\n",
      "[88.640823, 0.765625]\n",
      "[93.973763, 0.7109375]\n",
      "[78.692841, 0.8125]\n",
      "[64.458397, 0.8203125]\n",
      "[95.754272, 0.75]\n",
      "[93.002754, 0.7265625]\n",
      "22 [78.913216, 0.8125]\n",
      "[95.30645, 0.734375]\n",
      "[84.532349, 0.78125]\n",
      "[70.964844, 0.8203125]\n",
      "[44.49913, 0.890625]\n",
      "[80.16597, 0.796875]\n",
      "[71.172531, 0.78125]\n",
      "[60.418819, 0.828125]\n",
      "[77.933014, 0.75]\n",
      "24 [84.474319, 0.78125]\n",
      "[70.256119, 0.78125]\n",
      "[83.617752, 0.75]\n",
      "[75.793152, 0.7890625]\n",
      "[78.824074, 0.765625]\n",
      "[91.66243, 0.7265625]\n",
      "[64.57576, 0.8515625]\n",
      "[76.372391, 0.7890625]\n",
      "[108.34377, 0.7109375]\n",
      "26 [96.291901, 0.78125]\n",
      "[59.221203, 0.8203125]\n",
      "[70.412476, 0.7890625]\n",
      "[67.727272, 0.8046875]\n",
      "[59.797577, 0.8671875]\n",
      "[70.985703, 0.796875]\n",
      "[67.340309, 0.84375]\n",
      "[54.264, 0.8359375]\n",
      "[74.91861, 0.8125]\n",
      "28 [95.628113, 0.7890625]\n",
      "[70.838791, 0.8125]\n",
      "[77.751297, 0.8125]\n",
      "[66.337265, 0.8203125]\n",
      "[70.990555, 0.8046875]\n",
      "[53.058731, 0.8671875]\n",
      "[77.391953, 0.796875]\n",
      "[72.835693, 0.828125]\n",
      "30 [65.359795, 0.8359375]\n",
      "[76.909836, 0.8046875]\n",
      "[55.715912, 0.890625]\n",
      "[83.513763, 0.7890625]\n",
      "[77.272903, 0.7890625]\n",
      "[67.547791, 0.8046875]\n",
      "[50.054081, 0.859375]\n",
      "[63.42075, 0.828125]\n",
      "[69.165588, 0.8515625]\n",
      "32 [42.593369, 0.8515625]\n",
      "[58.708244, 0.84375]\n",
      "[54.562466, 0.875]\n",
      "[77.057236, 0.7578125]\n",
      "[70.740616, 0.8046875]\n",
      "[50.83271, 0.875]\n",
      "[68.159294, 0.828125]\n",
      "[52.154747, 0.875]\n",
      "[55.387573, 0.84375]\n",
      "34 [52.390434, 0.8359375]\n",
      "[57.519867, 0.8203125]\n",
      "[66.086403, 0.7734375]\n",
      "[78.705193, 0.8046875]\n",
      "[60.864082, 0.859375]\n",
      "[56.969246, 0.8046875]\n",
      "[62.390991, 0.8125]\n"
     ]
    },
    {
     "ename": "KeyboardInterrupt",
     "evalue": "",
     "output_type": "error",
     "traceback": [
      "\u001b[1;31m---------------------------------------------------------------------------\u001b[0m",
      "\u001b[1;31mKeyboardInterrupt\u001b[0m                         Traceback (most recent call last)",
      "\u001b[1;32m<ipython-input-42-271a2258093d>\u001b[0m in \u001b[0;36m<module>\u001b[1;34m()\u001b[0m\n\u001b[0;32m      9\u001b[0m     \u001b[1;32mfor\u001b[0m \u001b[0mbatch_xs\u001b[0m\u001b[1;33m,\u001b[0m\u001b[0mbatch_ys\u001b[0m \u001b[1;32min\u001b[0m \u001b[0mgeneratebatch\u001b[0m\u001b[1;33m(\u001b[0m\u001b[0mall_data\u001b[0m\u001b[1;33m,\u001b[0m\u001b[0mall_label\u001b[0m\u001b[1;33m,\u001b[0m\u001b[0mall_label\u001b[0m\u001b[1;33m.\u001b[0m\u001b[0mshape\u001b[0m\u001b[1;33m[\u001b[0m\u001b[1;36m0\u001b[0m\u001b[1;33m]\u001b[0m\u001b[1;33m,\u001b[0m\u001b[0mb_size\u001b[0m\u001b[1;33m)\u001b[0m\u001b[1;33m:\u001b[0m\u001b[1;33m\u001b[0m\u001b[0m\n\u001b[0;32m     10\u001b[0m         \u001b[0mbatch_xs\u001b[0m \u001b[1;33m=\u001b[0m \u001b[0mnp\u001b[0m\u001b[1;33m.\u001b[0m\u001b[0marray\u001b[0m\u001b[1;33m(\u001b[0m\u001b[0mlist\u001b[0m\u001b[1;33m(\u001b[0m\u001b[0mmap\u001b[0m\u001b[1;33m(\u001b[0m\u001b[1;32mlambda\u001b[0m \u001b[0mx\u001b[0m\u001b[1;33m:\u001b[0m\u001b[0mx\u001b[0m\u001b[1;33m.\u001b[0m\u001b[0mreshape\u001b[0m\u001b[1;33m(\u001b[0m\u001b[1;33m[\u001b[0m\u001b[1;36m3\u001b[0m\u001b[1;33m,\u001b[0m\u001b[1;36m1024\u001b[0m\u001b[1;33m]\u001b[0m\u001b[1;33m)\u001b[0m\u001b[1;33m.\u001b[0m\u001b[0mT\u001b[0m\u001b[1;33m.\u001b[0m\u001b[0mreshape\u001b[0m\u001b[1;33m(\u001b[0m\u001b[1;33m[\u001b[0m\u001b[1;36m32\u001b[0m\u001b[1;33m,\u001b[0m\u001b[1;36m32\u001b[0m\u001b[1;33m,\u001b[0m\u001b[1;36m3\u001b[0m\u001b[1;33m]\u001b[0m\u001b[1;33m)\u001b[0m\u001b[1;33m,\u001b[0m\u001b[0mbatch_xs\u001b[0m\u001b[1;33m)\u001b[0m\u001b[1;33m)\u001b[0m\u001b[1;33m)\u001b[0m\u001b[1;33m\u001b[0m\u001b[0m\n\u001b[1;32m---> 11\u001b[1;33m         \u001b[0msess\u001b[0m\u001b[1;33m.\u001b[0m\u001b[0mrun\u001b[0m\u001b[1;33m(\u001b[0m\u001b[0mtrain_step\u001b[0m\u001b[1;33m,\u001b[0m\u001b[0mfeed_dict\u001b[0m\u001b[1;33m=\u001b[0m\u001b[1;33m{\u001b[0m\u001b[0mx\u001b[0m\u001b[1;33m:\u001b[0m \u001b[0mbatch_xs\u001b[0m\u001b[1;33m,\u001b[0m \u001b[0my_\u001b[0m\u001b[1;33m:\u001b[0m \u001b[0mbatch_ys\u001b[0m\u001b[1;33m,\u001b[0m\u001b[0mkeep_prob\u001b[0m\u001b[1;33m:\u001b[0m \u001b[1;36m0.5\u001b[0m\u001b[1;33m,\u001b[0m \u001b[0mtraining_phase\u001b[0m\u001b[1;33m:\u001b[0m \u001b[1;32mTrue\u001b[0m\u001b[1;33m}\u001b[0m\u001b[1;33m)\u001b[0m\u001b[1;33m\u001b[0m\u001b[0m\n\u001b[0m\u001b[0;32m     12\u001b[0m         \u001b[1;32mif\u001b[0m \u001b[0mii\u001b[0m\u001b[1;33m%\u001b[0m\u001b[1;36m100\u001b[0m \u001b[1;33m==\u001b[0m \u001b[1;36m0\u001b[0m\u001b[1;33m:\u001b[0m\u001b[1;33m\u001b[0m\u001b[0m\n\u001b[0;32m     13\u001b[0m             \u001b[0mprint\u001b[0m\u001b[1;33m(\u001b[0m\u001b[0msess\u001b[0m\u001b[1;33m.\u001b[0m\u001b[0mrun\u001b[0m\u001b[1;33m(\u001b[0m\u001b[1;33m[\u001b[0m\u001b[0mloss\u001b[0m\u001b[1;33m,\u001b[0m\u001b[0maccuracy\u001b[0m\u001b[1;33m,\u001b[0m\u001b[1;33m]\u001b[0m\u001b[1;33m,\u001b[0m\u001b[0mfeed_dict\u001b[0m\u001b[1;33m=\u001b[0m\u001b[1;33m{\u001b[0m\u001b[0mx\u001b[0m\u001b[1;33m:\u001b[0m \u001b[0mbatch_xs\u001b[0m\u001b[1;33m,\u001b[0m \u001b[0my_\u001b[0m\u001b[1;33m:\u001b[0m \u001b[0mbatch_ys\u001b[0m\u001b[1;33m,\u001b[0m\u001b[0mkeep_prob\u001b[0m\u001b[1;33m:\u001b[0m \u001b[1;36m1\u001b[0m\u001b[1;33m,\u001b[0m \u001b[0mtraining_phase\u001b[0m\u001b[1;33m:\u001b[0m \u001b[1;32mTrue\u001b[0m\u001b[1;33m}\u001b[0m\u001b[1;33m)\u001b[0m\u001b[1;33m)\u001b[0m\u001b[1;33m\u001b[0m\u001b[0m\n",
      "\u001b[1;32mC:\\Users\\7\\Anaconda3\\lib\\site-packages\\tensorflow\\python\\client\\session.py\u001b[0m in \u001b[0;36mrun\u001b[1;34m(self, fetches, feed_dict, options, run_metadata)\u001b[0m\n\u001b[0;32m    893\u001b[0m     \u001b[1;32mtry\u001b[0m\u001b[1;33m:\u001b[0m\u001b[1;33m\u001b[0m\u001b[0m\n\u001b[0;32m    894\u001b[0m       result = self._run(None, fetches, feed_dict, options_ptr,\n\u001b[1;32m--> 895\u001b[1;33m                          run_metadata_ptr)\n\u001b[0m\u001b[0;32m    896\u001b[0m       \u001b[1;32mif\u001b[0m \u001b[0mrun_metadata\u001b[0m\u001b[1;33m:\u001b[0m\u001b[1;33m\u001b[0m\u001b[0m\n\u001b[0;32m    897\u001b[0m         \u001b[0mproto_data\u001b[0m \u001b[1;33m=\u001b[0m \u001b[0mtf_session\u001b[0m\u001b[1;33m.\u001b[0m\u001b[0mTF_GetBuffer\u001b[0m\u001b[1;33m(\u001b[0m\u001b[0mrun_metadata_ptr\u001b[0m\u001b[1;33m)\u001b[0m\u001b[1;33m\u001b[0m\u001b[0m\n",
      "\u001b[1;32mC:\\Users\\7\\Anaconda3\\lib\\site-packages\\tensorflow\\python\\client\\session.py\u001b[0m in \u001b[0;36m_run\u001b[1;34m(self, handle, fetches, feed_dict, options, run_metadata)\u001b[0m\n\u001b[0;32m   1122\u001b[0m     \u001b[1;32mif\u001b[0m \u001b[0mfinal_fetches\u001b[0m \u001b[1;32mor\u001b[0m \u001b[0mfinal_targets\u001b[0m \u001b[1;32mor\u001b[0m \u001b[1;33m(\u001b[0m\u001b[0mhandle\u001b[0m \u001b[1;32mand\u001b[0m \u001b[0mfeed_dict_tensor\u001b[0m\u001b[1;33m)\u001b[0m\u001b[1;33m:\u001b[0m\u001b[1;33m\u001b[0m\u001b[0m\n\u001b[0;32m   1123\u001b[0m       results = self._do_run(handle, final_targets, final_fetches,\n\u001b[1;32m-> 1124\u001b[1;33m                              feed_dict_tensor, options, run_metadata)\n\u001b[0m\u001b[0;32m   1125\u001b[0m     \u001b[1;32melse\u001b[0m\u001b[1;33m:\u001b[0m\u001b[1;33m\u001b[0m\u001b[0m\n\u001b[0;32m   1126\u001b[0m       \u001b[0mresults\u001b[0m \u001b[1;33m=\u001b[0m \u001b[1;33m[\u001b[0m\u001b[1;33m]\u001b[0m\u001b[1;33m\u001b[0m\u001b[0m\n",
      "\u001b[1;32mC:\\Users\\7\\Anaconda3\\lib\\site-packages\\tensorflow\\python\\client\\session.py\u001b[0m in \u001b[0;36m_do_run\u001b[1;34m(self, handle, target_list, fetch_list, feed_dict, options, run_metadata)\u001b[0m\n\u001b[0;32m   1319\u001b[0m     \u001b[1;32mif\u001b[0m \u001b[0mhandle\u001b[0m \u001b[1;32mis\u001b[0m \u001b[1;32mNone\u001b[0m\u001b[1;33m:\u001b[0m\u001b[1;33m\u001b[0m\u001b[0m\n\u001b[0;32m   1320\u001b[0m       return self._do_call(_run_fn, self._session, feeds, fetches, targets,\n\u001b[1;32m-> 1321\u001b[1;33m                            options, run_metadata)\n\u001b[0m\u001b[0;32m   1322\u001b[0m     \u001b[1;32melse\u001b[0m\u001b[1;33m:\u001b[0m\u001b[1;33m\u001b[0m\u001b[0m\n\u001b[0;32m   1323\u001b[0m       \u001b[1;32mreturn\u001b[0m \u001b[0mself\u001b[0m\u001b[1;33m.\u001b[0m\u001b[0m_do_call\u001b[0m\u001b[1;33m(\u001b[0m\u001b[0m_prun_fn\u001b[0m\u001b[1;33m,\u001b[0m \u001b[0mself\u001b[0m\u001b[1;33m.\u001b[0m\u001b[0m_session\u001b[0m\u001b[1;33m,\u001b[0m \u001b[0mhandle\u001b[0m\u001b[1;33m,\u001b[0m \u001b[0mfeeds\u001b[0m\u001b[1;33m,\u001b[0m \u001b[0mfetches\u001b[0m\u001b[1;33m)\u001b[0m\u001b[1;33m\u001b[0m\u001b[0m\n",
      "\u001b[1;32mC:\\Users\\7\\Anaconda3\\lib\\site-packages\\tensorflow\\python\\client\\session.py\u001b[0m in \u001b[0;36m_do_call\u001b[1;34m(self, fn, *args)\u001b[0m\n\u001b[0;32m   1325\u001b[0m   \u001b[1;32mdef\u001b[0m \u001b[0m_do_call\u001b[0m\u001b[1;33m(\u001b[0m\u001b[0mself\u001b[0m\u001b[1;33m,\u001b[0m \u001b[0mfn\u001b[0m\u001b[1;33m,\u001b[0m \u001b[1;33m*\u001b[0m\u001b[0margs\u001b[0m\u001b[1;33m)\u001b[0m\u001b[1;33m:\u001b[0m\u001b[1;33m\u001b[0m\u001b[0m\n\u001b[0;32m   1326\u001b[0m     \u001b[1;32mtry\u001b[0m\u001b[1;33m:\u001b[0m\u001b[1;33m\u001b[0m\u001b[0m\n\u001b[1;32m-> 1327\u001b[1;33m       \u001b[1;32mreturn\u001b[0m \u001b[0mfn\u001b[0m\u001b[1;33m(\u001b[0m\u001b[1;33m*\u001b[0m\u001b[0margs\u001b[0m\u001b[1;33m)\u001b[0m\u001b[1;33m\u001b[0m\u001b[0m\n\u001b[0m\u001b[0;32m   1328\u001b[0m     \u001b[1;32mexcept\u001b[0m \u001b[0merrors\u001b[0m\u001b[1;33m.\u001b[0m\u001b[0mOpError\u001b[0m \u001b[1;32mas\u001b[0m \u001b[0me\u001b[0m\u001b[1;33m:\u001b[0m\u001b[1;33m\u001b[0m\u001b[0m\n\u001b[0;32m   1329\u001b[0m       \u001b[0mmessage\u001b[0m \u001b[1;33m=\u001b[0m \u001b[0mcompat\u001b[0m\u001b[1;33m.\u001b[0m\u001b[0mas_text\u001b[0m\u001b[1;33m(\u001b[0m\u001b[0me\u001b[0m\u001b[1;33m.\u001b[0m\u001b[0mmessage\u001b[0m\u001b[1;33m)\u001b[0m\u001b[1;33m\u001b[0m\u001b[0m\n",
      "\u001b[1;32mC:\\Users\\7\\Anaconda3\\lib\\site-packages\\tensorflow\\python\\client\\session.py\u001b[0m in \u001b[0;36m_run_fn\u001b[1;34m(session, feed_dict, fetch_list, target_list, options, run_metadata)\u001b[0m\n\u001b[0;32m   1304\u001b[0m           return tf_session.TF_Run(session, options,\n\u001b[0;32m   1305\u001b[0m                                    \u001b[0mfeed_dict\u001b[0m\u001b[1;33m,\u001b[0m \u001b[0mfetch_list\u001b[0m\u001b[1;33m,\u001b[0m \u001b[0mtarget_list\u001b[0m\u001b[1;33m,\u001b[0m\u001b[1;33m\u001b[0m\u001b[0m\n\u001b[1;32m-> 1306\u001b[1;33m                                    status, run_metadata)\n\u001b[0m\u001b[0;32m   1307\u001b[0m \u001b[1;33m\u001b[0m\u001b[0m\n\u001b[0;32m   1308\u001b[0m     \u001b[1;32mdef\u001b[0m \u001b[0m_prun_fn\u001b[0m\u001b[1;33m(\u001b[0m\u001b[0msession\u001b[0m\u001b[1;33m,\u001b[0m \u001b[0mhandle\u001b[0m\u001b[1;33m,\u001b[0m \u001b[0mfeed_dict\u001b[0m\u001b[1;33m,\u001b[0m \u001b[0mfetch_list\u001b[0m\u001b[1;33m)\u001b[0m\u001b[1;33m:\u001b[0m\u001b[1;33m\u001b[0m\u001b[0m\n",
      "\u001b[1;31mKeyboardInterrupt\u001b[0m: "
     ]
    }
   ],
   "source": [
    "saver = tf.train.Saver()\n",
    "sess = tf.Session()\n",
    "sess.run(tf.global_variables_initializer())\n",
    "ii = 0\n",
    "for epoch in range(0,150): \n",
    "    index = np.random.permutation(all_label.shape[0])\n",
    "    all_data = all_data[index]\n",
    "    all_label = all_label[index]\n",
    "    for batch_xs,batch_ys in generatebatch(all_data,all_label,all_label.shape[0],b_size): \n",
    "        batch_xs = np.array(list(map(lambda x:x.reshape([3,1024]).T.reshape([32,32,3]),batch_xs)))\n",
    "        sess.run(train_step,feed_dict={x: batch_xs, y_: batch_ys,keep_prob: 0.5, training_phase: True})\n",
    "        if ii%100 == 0:\n",
    "            print(sess.run([loss,accuracy,],feed_dict={x: batch_xs, y_: batch_ys,keep_prob: 1, training_phase: True}))\n",
    "        ii += 1\n",
    "    if(epoch%2==0):\n",
    "        res = sess.run([loss,accuracy],feed_dict={x: batch_xs, y_: batch_ys,keep_prob: 1, training_phase: True})\n",
    "        print(epoch,res)\n",
    "        saver.save(sess,'./lesson41',global_step = epoch)"
   ]
  },
  {
   "cell_type": "code",
   "execution_count": null,
   "metadata": {
    "collapsed": true
   },
   "outputs": [],
   "source": []
  }
 ],
 "metadata": {
  "anaconda-cloud": {},
  "kernelspec": {
   "display_name": "Python 3",
   "language": "python",
   "name": "python3"
  },
  "language_info": {
   "codemirror_mode": {
    "name": "ipython",
    "version": 3
   },
   "file_extension": ".py",
   "mimetype": "text/x-python",
   "name": "python",
   "nbconvert_exporter": "python",
   "pygments_lexer": "ipython3",
   "version": "3.6.3"
  }
 },
 "nbformat": 4,
 "nbformat_minor": 2
}
