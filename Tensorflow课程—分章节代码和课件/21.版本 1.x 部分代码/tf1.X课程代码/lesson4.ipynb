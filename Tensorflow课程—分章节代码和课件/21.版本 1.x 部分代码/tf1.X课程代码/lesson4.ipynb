{
 "cells": [
  {
   "cell_type": "markdown",
   "metadata": {},
   "source": [
    "# 对数几率回归"
   ]
  },
  {
   "cell_type": "markdown",
   "metadata": {},
   "source": [
    "线性回归模型预测的是一个连续值，对数几率回归是回答是或者否的问题，也即二分类的问题"
   ]
  },
  {
   "cell_type": "markdown",
   "metadata": {},
   "source": [
    "这时候用到sigmiod函数，这是一个分布函数，也即是给定一个计算输出，这个函数返回的是一个‘yes’的概率"
   ]
  },
  {
   "cell_type": "markdown",
   "metadata": {},
   "source": [
    "我们那可以把执行推断模型的输出，输入到sigmiod函数，这样就得到一个成功的概率"
   ]
  },
  {
   "cell_type": "markdown",
   "metadata": {},
   "source": [
    "我们看一下损失函数，平方差所刻划的损失是与输入值同一个人数量级的情形，对于sigmiod函数的输出，他是一个概率值，如20%，50%等，这时候如果再用平方差计算损失，他的值非常小，我们用梯度下降法对他进行惩罚（减小他），力度就变得不够"
   ]
  },
  {
   "cell_type": "markdown",
   "metadata": {},
   "source": [
    "# 对于分类问题，我们损失函数会使用交叉熵"
   ]
  },
  {
   "cell_type": "markdown",
   "metadata": {},
   "source": [
    "交叉熵能输出一个更大的损失值，从而使梯度下降法做出更大的优化"
   ]
  },
  {
   "cell_type": "markdown",
   "metadata": {},
   "source": [
    "y 是预测的概率分布，y′ 是真实的概率分布（在多分类问题的 one-hot 编码），用来判断模型对真实概率分布估计的准确程度。\n",
    "\n",
    "交叉熵数学公式：−∑iy′ilogyi "
   ]
  },
  {
   "cell_type": "markdown",
   "metadata": {},
   "source": [
    "比如说： y′ = 1 而你的预测结果 y = 0.01，显然错误，这时候的交叉熵的输出损失值为 2，放大loss"
   ]
  },
  {
   "cell_type": "markdown",
   "metadata": {},
   "source": [
    "tensorflow中为我们直接实现了计算交叉熵的代码：tf.nn.sparse_softmax_cross_entropy_with_logits"
   ]
  },
  {
   "cell_type": "code",
   "execution_count": 1,
   "metadata": {
    "collapsed": true
   },
   "outputs": [],
   "source": [
    "import tensorflow as tf"
   ]
  },
  {
   "cell_type": "code",
   "execution_count": null,
   "metadata": {
    "collapsed": true
   },
   "outputs": [],
   "source": [
    "tf.nn.softmax_cross_entropy_with_logits"
   ]
  }
 ],
 "metadata": {
  "kernelspec": {
   "display_name": "Python 3",
   "language": "python",
   "name": "python3"
  },
  "language_info": {
   "codemirror_mode": {
    "name": "ipython",
    "version": 3
   },
   "file_extension": ".py",
   "mimetype": "text/x-python",
   "name": "python",
   "nbconvert_exporter": "python",
   "pygments_lexer": "ipython3",
   "version": "3.6.1"
  }
 },
 "nbformat": 4,
 "nbformat_minor": 2
}
